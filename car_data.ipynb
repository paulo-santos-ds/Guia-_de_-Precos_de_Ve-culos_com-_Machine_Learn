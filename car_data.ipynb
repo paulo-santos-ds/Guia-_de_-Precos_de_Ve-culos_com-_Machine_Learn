{
 "cells": [
  {
   "cell_type": "markdown",
   "metadata": {},
   "source": [
    "## Desenvolvimento de um modelo para o serviço de vendas de carros usados Para empresa **Rusty Bargain**, com o objetivo de estimar rapidamente o valor de mercado de veículos. O modelo foi projetado para determinar de forma precisa e eficiente o preço justo de cada carro, otimizando o processo de compra e venda.\n",
    "\n",
    "Rusty Bargain está interessado em:\n",
    "\n",
    "- a qualidade da predição;\n",
    "- a velocidade da predição;\n",
    "- o tempo necessário para o treinamento"
   ]
  },
  {
   "cell_type": "markdown",
   "metadata": {},
   "source": [
    "# Dicionario dos dados"
   ]
  },
  {
   "cell_type": "markdown",
   "metadata": {},
   "source": [
    "- DateCrawled — data em que o perfil foi baixado do banco de dados\n",
    "\n",
    "- VehicleType — tipo de carroçaria do veículo\n",
    "\n",
    "- RegistrationYear — ano de matrícula do veículo\n",
    "\n",
    "- Gearbox — tipo de caixa de transmissão\n",
    "\n",
    "- Power — potência (hp)\n",
    "\n",
    "- Model — modelo do veículo\n",
    "\n",
    "- Mileage — quilometragem (medida em km devido às especificidades regionais do conjunto de dados)\n",
    "\n",
    "- RegistrationMonth — mês de registro do veículo\n",
    "\n",
    "- FuelType — tipo de combustível\n",
    "\n",
    "- Brand — marca do veículo\n",
    "\n",
    "- NotRepaired — veículo reparado ou não\n",
    "\n",
    "- DateCreated — data de criação do perfil\n",
    "\n",
    "- NumberOfPictures — número de fotos do veículo\n",
    "\n",
    "- PostalCode — código postal do proprietário do perfil (usuário)\n",
    "\n",
    "- LastSeen — data da última atividade do usuário"
   ]
  },
  {
   "cell_type": "markdown",
   "metadata": {},
   "source": [
    "## Preparação de Dados"
   ]
  },
  {
   "cell_type": "markdown",
   "metadata": {},
   "source": [
    "### Importando biliotecas"
   ]
  },
  {
   "cell_type": "code",
   "execution_count": null,
   "metadata": {
    "scrolled": true
   },
   "outputs": [],
   "source": [
    "!pip install --upgrade lightgbm -q\n",
    "!pip install --upgrade scikit-learn -q\n",
    "!pip install --upgrade -U matplotlib -q\n",
    "!pip install catboost -q\n",
    "!pip install category_encoders -q # categorias\n",
    "\n"
   ]
  },
  {
   "cell_type": "code",
   "execution_count": 2,
   "metadata": {},
   "outputs": [],
   "source": [
    "import warnings\n",
    "warnings.filterwarnings('ignore')\n",
    "import seaborn as sns\n",
    "import matplotlib.pyplot as plt\n",
    "import pandas as pd\n",
    "import numpy as np\n",
    "from sklearn.model_selection import train_test_split\n",
    "from sklearn.preprocessing import LabelEncoder\n",
    "import lightgbm as lgb\n",
    "import sklearn.preprocessing\n",
    "from sklearn.metrics import mean_squared_error\n",
    "from sklearn.ensemble import RandomForestRegressor\n",
    "from sklearn.linear_model import LinearRegression\n",
    "import time\n",
    "from sklearn.tree import DecisionTreeRegressor\n",
    "from catboost import CatBoostRegressor\n",
    "import lightgbm as lgb\n",
    "import time\n",
    "import category_encoders as ce"
   ]
  },
  {
   "cell_type": "markdown",
   "metadata": {},
   "source": [
    "### Verificando os dados"
   ]
  },
  {
   "cell_type": "code",
   "execution_count": 3,
   "metadata": {},
   "outputs": [],
   "source": [
    "df = pd.read_csv('car_data.csv')"
   ]
  },
  {
   "cell_type": "markdown",
   "metadata": {},
   "source": [
    "### transformar dataset em letra minuscula"
   ]
  },
  {
   "cell_type": "code",
   "execution_count": 4,
   "metadata": {},
   "outputs": [
    {
     "data": {
      "text/html": [
       "<div>\n",
       "<style scoped>\n",
       "    .dataframe tbody tr th:only-of-type {\n",
       "        vertical-align: middle;\n",
       "    }\n",
       "\n",
       "    .dataframe tbody tr th {\n",
       "        vertical-align: top;\n",
       "    }\n",
       "\n",
       "    .dataframe thead th {\n",
       "        text-align: right;\n",
       "    }\n",
       "</style>\n",
       "<table border=\"1\" class=\"dataframe\">\n",
       "  <thead>\n",
       "    <tr style=\"text-align: right;\">\n",
       "      <th></th>\n",
       "      <th>datecrawled</th>\n",
       "      <th>price</th>\n",
       "      <th>vehicletype</th>\n",
       "      <th>registrationyear</th>\n",
       "      <th>gearbox</th>\n",
       "      <th>power</th>\n",
       "      <th>model</th>\n",
       "      <th>mileage</th>\n",
       "      <th>registrationmonth</th>\n",
       "      <th>fueltype</th>\n",
       "      <th>brand</th>\n",
       "      <th>notrepaired</th>\n",
       "      <th>datecreated</th>\n",
       "      <th>numberofpictures</th>\n",
       "      <th>postalcode</th>\n",
       "      <th>lastseen</th>\n",
       "    </tr>\n",
       "  </thead>\n",
       "  <tbody>\n",
       "    <tr>\n",
       "      <th>156556</th>\n",
       "      <td>14/03/2016 20:48</td>\n",
       "      <td>4450</td>\n",
       "      <td>NaN</td>\n",
       "      <td>2018</td>\n",
       "      <td>manual</td>\n",
       "      <td>90</td>\n",
       "      <td>corsa</td>\n",
       "      <td>125000</td>\n",
       "      <td>4</td>\n",
       "      <td>petrol</td>\n",
       "      <td>opel</td>\n",
       "      <td>no</td>\n",
       "      <td>14/03/2016 00:00</td>\n",
       "      <td>0</td>\n",
       "      <td>53783</td>\n",
       "      <td>06/04/2016 04:15</td>\n",
       "    </tr>\n",
       "    <tr>\n",
       "      <th>257747</th>\n",
       "      <td>04/04/2016 20:46</td>\n",
       "      <td>750</td>\n",
       "      <td>wagon</td>\n",
       "      <td>1998</td>\n",
       "      <td>manual</td>\n",
       "      <td>136</td>\n",
       "      <td>omega</td>\n",
       "      <td>150000</td>\n",
       "      <td>6</td>\n",
       "      <td>petrol</td>\n",
       "      <td>opel</td>\n",
       "      <td>yes</td>\n",
       "      <td>04/04/2016 00:00</td>\n",
       "      <td>0</td>\n",
       "      <td>32758</td>\n",
       "      <td>06/04/2016 23:16</td>\n",
       "    </tr>\n",
       "    <tr>\n",
       "      <th>126044</th>\n",
       "      <td>16/03/2016 12:54</td>\n",
       "      <td>400</td>\n",
       "      <td>small</td>\n",
       "      <td>2001</td>\n",
       "      <td>auto</td>\n",
       "      <td>80</td>\n",
       "      <td>punto</td>\n",
       "      <td>125000</td>\n",
       "      <td>5</td>\n",
       "      <td>petrol</td>\n",
       "      <td>fiat</td>\n",
       "      <td>NaN</td>\n",
       "      <td>16/03/2016 00:00</td>\n",
       "      <td>0</td>\n",
       "      <td>58239</td>\n",
       "      <td>16/03/2016 13:40</td>\n",
       "    </tr>\n",
       "    <tr>\n",
       "      <th>278743</th>\n",
       "      <td>08/03/2016 00:55</td>\n",
       "      <td>1199</td>\n",
       "      <td>small</td>\n",
       "      <td>1999</td>\n",
       "      <td>manual</td>\n",
       "      <td>75</td>\n",
       "      <td>golf</td>\n",
       "      <td>150000</td>\n",
       "      <td>1</td>\n",
       "      <td>other</td>\n",
       "      <td>volkswagen</td>\n",
       "      <td>NaN</td>\n",
       "      <td>07/03/2016 00:00</td>\n",
       "      <td>0</td>\n",
       "      <td>42327</td>\n",
       "      <td>10/03/2016 06:15</td>\n",
       "    </tr>\n",
       "    <tr>\n",
       "      <th>12811</th>\n",
       "      <td>20/03/2016 12:46</td>\n",
       "      <td>2300</td>\n",
       "      <td>other</td>\n",
       "      <td>1999</td>\n",
       "      <td>manual</td>\n",
       "      <td>102</td>\n",
       "      <td>other</td>\n",
       "      <td>150000</td>\n",
       "      <td>4</td>\n",
       "      <td>gasoline</td>\n",
       "      <td>volkswagen</td>\n",
       "      <td>no</td>\n",
       "      <td>20/03/2016 00:00</td>\n",
       "      <td>0</td>\n",
       "      <td>14822</td>\n",
       "      <td>20/03/2016 12:46</td>\n",
       "    </tr>\n",
       "    <tr>\n",
       "      <th>144810</th>\n",
       "      <td>04/04/2016 18:41</td>\n",
       "      <td>9690</td>\n",
       "      <td>wagon</td>\n",
       "      <td>2008</td>\n",
       "      <td>manual</td>\n",
       "      <td>170</td>\n",
       "      <td>3er</td>\n",
       "      <td>150000</td>\n",
       "      <td>6</td>\n",
       "      <td>petrol</td>\n",
       "      <td>bmw</td>\n",
       "      <td>no</td>\n",
       "      <td>04/04/2016 00:00</td>\n",
       "      <td>0</td>\n",
       "      <td>80999</td>\n",
       "      <td>06/04/2016 20:44</td>\n",
       "    </tr>\n",
       "    <tr>\n",
       "      <th>166179</th>\n",
       "      <td>05/03/2016 14:46</td>\n",
       "      <td>600</td>\n",
       "      <td>small</td>\n",
       "      <td>2001</td>\n",
       "      <td>manual</td>\n",
       "      <td>75</td>\n",
       "      <td>other</td>\n",
       "      <td>150000</td>\n",
       "      <td>9</td>\n",
       "      <td>petrol</td>\n",
       "      <td>citroen</td>\n",
       "      <td>no</td>\n",
       "      <td>05/03/2016 00:00</td>\n",
       "      <td>0</td>\n",
       "      <td>57334</td>\n",
       "      <td>27/03/2016 13:47</td>\n",
       "    </tr>\n",
       "  </tbody>\n",
       "</table>\n",
       "</div>"
      ],
      "text/plain": [
       "             datecrawled  price vehicletype  registrationyear gearbox  power  \\\n",
       "156556  14/03/2016 20:48   4450         NaN              2018  manual     90   \n",
       "257747  04/04/2016 20:46    750       wagon              1998  manual    136   \n",
       "126044  16/03/2016 12:54    400       small              2001    auto     80   \n",
       "278743  08/03/2016 00:55   1199       small              1999  manual     75   \n",
       "12811   20/03/2016 12:46   2300       other              1999  manual    102   \n",
       "144810  04/04/2016 18:41   9690       wagon              2008  manual    170   \n",
       "166179  05/03/2016 14:46    600       small              2001  manual     75   \n",
       "\n",
       "        model  mileage  registrationmonth  fueltype       brand notrepaired  \\\n",
       "156556  corsa   125000                  4    petrol        opel          no   \n",
       "257747  omega   150000                  6    petrol        opel         yes   \n",
       "126044  punto   125000                  5    petrol        fiat         NaN   \n",
       "278743   golf   150000                  1     other  volkswagen         NaN   \n",
       "12811   other   150000                  4  gasoline  volkswagen          no   \n",
       "144810    3er   150000                  6    petrol         bmw          no   \n",
       "166179  other   150000                  9    petrol     citroen          no   \n",
       "\n",
       "             datecreated  numberofpictures  postalcode          lastseen  \n",
       "156556  14/03/2016 00:00                 0       53783  06/04/2016 04:15  \n",
       "257747  04/04/2016 00:00                 0       32758  06/04/2016 23:16  \n",
       "126044  16/03/2016 00:00                 0       58239  16/03/2016 13:40  \n",
       "278743  07/03/2016 00:00                 0       42327  10/03/2016 06:15  \n",
       "12811   20/03/2016 00:00                 0       14822  20/03/2016 12:46  \n",
       "144810  04/04/2016 00:00                 0       80999  06/04/2016 20:44  \n",
       "166179  05/03/2016 00:00                 0       57334  27/03/2016 13:47  "
      ]
     },
     "execution_count": 4,
     "metadata": {},
     "output_type": "execute_result"
    }
   ],
   "source": [
    "df.columns = df.columns.str.lower()\n",
    "df.sample(7)"
   ]
  },
  {
   "cell_type": "markdown",
   "metadata": {},
   "source": [
    "### Descrição dos dados"
   ]
  },
  {
   "cell_type": "code",
   "execution_count": 5,
   "metadata": {},
   "outputs": [
    {
     "data": {
      "text/html": [
       "<div>\n",
       "<style scoped>\n",
       "    .dataframe tbody tr th:only-of-type {\n",
       "        vertical-align: middle;\n",
       "    }\n",
       "\n",
       "    .dataframe tbody tr th {\n",
       "        vertical-align: top;\n",
       "    }\n",
       "\n",
       "    .dataframe thead th {\n",
       "        text-align: right;\n",
       "    }\n",
       "</style>\n",
       "<table border=\"1\" class=\"dataframe\">\n",
       "  <thead>\n",
       "    <tr style=\"text-align: right;\">\n",
       "      <th></th>\n",
       "      <th>count</th>\n",
       "      <th>mean</th>\n",
       "      <th>std</th>\n",
       "      <th>min</th>\n",
       "      <th>25%</th>\n",
       "      <th>50%</th>\n",
       "      <th>75%</th>\n",
       "      <th>max</th>\n",
       "    </tr>\n",
       "  </thead>\n",
       "  <tbody>\n",
       "    <tr>\n",
       "      <th>price</th>\n",
       "      <td>354369.0</td>\n",
       "      <td>4416.656776</td>\n",
       "      <td>4514.158514</td>\n",
       "      <td>0.0</td>\n",
       "      <td>1050.0</td>\n",
       "      <td>2700.0</td>\n",
       "      <td>6400.0</td>\n",
       "      <td>20000.0</td>\n",
       "    </tr>\n",
       "    <tr>\n",
       "      <th>registrationyear</th>\n",
       "      <td>354369.0</td>\n",
       "      <td>2004.234448</td>\n",
       "      <td>90.227958</td>\n",
       "      <td>1000.0</td>\n",
       "      <td>1999.0</td>\n",
       "      <td>2003.0</td>\n",
       "      <td>2008.0</td>\n",
       "      <td>9999.0</td>\n",
       "    </tr>\n",
       "    <tr>\n",
       "      <th>power</th>\n",
       "      <td>354369.0</td>\n",
       "      <td>110.094337</td>\n",
       "      <td>189.850405</td>\n",
       "      <td>0.0</td>\n",
       "      <td>69.0</td>\n",
       "      <td>105.0</td>\n",
       "      <td>143.0</td>\n",
       "      <td>20000.0</td>\n",
       "    </tr>\n",
       "    <tr>\n",
       "      <th>mileage</th>\n",
       "      <td>354369.0</td>\n",
       "      <td>128211.172535</td>\n",
       "      <td>37905.341530</td>\n",
       "      <td>5000.0</td>\n",
       "      <td>125000.0</td>\n",
       "      <td>150000.0</td>\n",
       "      <td>150000.0</td>\n",
       "      <td>150000.0</td>\n",
       "    </tr>\n",
       "    <tr>\n",
       "      <th>registrationmonth</th>\n",
       "      <td>354369.0</td>\n",
       "      <td>5.714645</td>\n",
       "      <td>3.726421</td>\n",
       "      <td>0.0</td>\n",
       "      <td>3.0</td>\n",
       "      <td>6.0</td>\n",
       "      <td>9.0</td>\n",
       "      <td>12.0</td>\n",
       "    </tr>\n",
       "    <tr>\n",
       "      <th>numberofpictures</th>\n",
       "      <td>354369.0</td>\n",
       "      <td>0.000000</td>\n",
       "      <td>0.000000</td>\n",
       "      <td>0.0</td>\n",
       "      <td>0.0</td>\n",
       "      <td>0.0</td>\n",
       "      <td>0.0</td>\n",
       "      <td>0.0</td>\n",
       "    </tr>\n",
       "    <tr>\n",
       "      <th>postalcode</th>\n",
       "      <td>354369.0</td>\n",
       "      <td>50508.689087</td>\n",
       "      <td>25783.096248</td>\n",
       "      <td>1067.0</td>\n",
       "      <td>30165.0</td>\n",
       "      <td>49413.0</td>\n",
       "      <td>71083.0</td>\n",
       "      <td>99998.0</td>\n",
       "    </tr>\n",
       "  </tbody>\n",
       "</table>\n",
       "</div>"
      ],
      "text/plain": [
       "                      count           mean           std     min       25%  \\\n",
       "price              354369.0    4416.656776   4514.158514     0.0    1050.0   \n",
       "registrationyear   354369.0    2004.234448     90.227958  1000.0    1999.0   \n",
       "power              354369.0     110.094337    189.850405     0.0      69.0   \n",
       "mileage            354369.0  128211.172535  37905.341530  5000.0  125000.0   \n",
       "registrationmonth  354369.0       5.714645      3.726421     0.0       3.0   \n",
       "numberofpictures   354369.0       0.000000      0.000000     0.0       0.0   \n",
       "postalcode         354369.0   50508.689087  25783.096248  1067.0   30165.0   \n",
       "\n",
       "                        50%       75%       max  \n",
       "price                2700.0    6400.0   20000.0  \n",
       "registrationyear     2003.0    2008.0    9999.0  \n",
       "power                 105.0     143.0   20000.0  \n",
       "mileage            150000.0  150000.0  150000.0  \n",
       "registrationmonth       6.0       9.0      12.0  \n",
       "numberofpictures        0.0       0.0       0.0  \n",
       "postalcode          49413.0   71083.0   99998.0  "
      ]
     },
     "execution_count": 5,
     "metadata": {},
     "output_type": "execute_result"
    }
   ],
   "source": [
    "df.describe().T"
   ]
  },
  {
   "cell_type": "markdown",
   "metadata": {},
   "source": [
    "Em uma análise rápida, conseguimos ver que existem dados estranhos como veículos com \n",
    "\n",
    "- Price igual a zero, \n",
    "\n",
    "- Registrationyear como 1000,\n",
    "\n",
    "- Power igual zero, \n",
    "\n",
    "- Registrationmonth igual zero.\n",
    "\n",
    "Não foi observado foto de veiculos pode ser desconsiderada essa coluna"
   ]
  },
  {
   "cell_type": "markdown",
   "metadata": {},
   "source": [
    "#### Verificando todos os dados da coluna"
   ]
  },
  {
   "cell_type": "code",
   "execution_count": 6,
   "metadata": {},
   "outputs": [
    {
     "data": {
      "text/plain": [
       "array([0], dtype=int64)"
      ]
     },
     "execution_count": 6,
     "metadata": {},
     "output_type": "execute_result"
    }
   ],
   "source": [
    "df['numberofpictures'].unique()"
   ]
  },
  {
   "cell_type": "markdown",
   "metadata": {},
   "source": [
    "#### Retirando a coluna numberofpictures"
   ]
  },
  {
   "cell_type": "code",
   "execution_count": 7,
   "metadata": {},
   "outputs": [
    {
     "data": {
      "text/html": [
       "<div>\n",
       "<style scoped>\n",
       "    .dataframe tbody tr th:only-of-type {\n",
       "        vertical-align: middle;\n",
       "    }\n",
       "\n",
       "    .dataframe tbody tr th {\n",
       "        vertical-align: top;\n",
       "    }\n",
       "\n",
       "    .dataframe thead th {\n",
       "        text-align: right;\n",
       "    }\n",
       "</style>\n",
       "<table border=\"1\" class=\"dataframe\">\n",
       "  <thead>\n",
       "    <tr style=\"text-align: right;\">\n",
       "      <th></th>\n",
       "      <th>datecrawled</th>\n",
       "      <th>price</th>\n",
       "      <th>vehicletype</th>\n",
       "      <th>registrationyear</th>\n",
       "      <th>gearbox</th>\n",
       "      <th>power</th>\n",
       "      <th>model</th>\n",
       "      <th>mileage</th>\n",
       "      <th>registrationmonth</th>\n",
       "      <th>fueltype</th>\n",
       "      <th>brand</th>\n",
       "      <th>notrepaired</th>\n",
       "      <th>datecreated</th>\n",
       "      <th>postalcode</th>\n",
       "      <th>lastseen</th>\n",
       "    </tr>\n",
       "  </thead>\n",
       "  <tbody>\n",
       "    <tr>\n",
       "      <th>0</th>\n",
       "      <td>24/03/2016 11:52</td>\n",
       "      <td>480</td>\n",
       "      <td>NaN</td>\n",
       "      <td>1993</td>\n",
       "      <td>manual</td>\n",
       "      <td>0</td>\n",
       "      <td>golf</td>\n",
       "      <td>150000</td>\n",
       "      <td>0</td>\n",
       "      <td>petrol</td>\n",
       "      <td>volkswagen</td>\n",
       "      <td>NaN</td>\n",
       "      <td>24/03/2016 00:00</td>\n",
       "      <td>70435</td>\n",
       "      <td>07/04/2016 03:16</td>\n",
       "    </tr>\n",
       "    <tr>\n",
       "      <th>1</th>\n",
       "      <td>24/03/2016 10:58</td>\n",
       "      <td>18300</td>\n",
       "      <td>coupe</td>\n",
       "      <td>2011</td>\n",
       "      <td>manual</td>\n",
       "      <td>190</td>\n",
       "      <td>NaN</td>\n",
       "      <td>125000</td>\n",
       "      <td>5</td>\n",
       "      <td>gasoline</td>\n",
       "      <td>audi</td>\n",
       "      <td>yes</td>\n",
       "      <td>24/03/2016 00:00</td>\n",
       "      <td>66954</td>\n",
       "      <td>07/04/2016 01:46</td>\n",
       "    </tr>\n",
       "    <tr>\n",
       "      <th>2</th>\n",
       "      <td>14/03/2016 12:52</td>\n",
       "      <td>9800</td>\n",
       "      <td>suv</td>\n",
       "      <td>2004</td>\n",
       "      <td>auto</td>\n",
       "      <td>163</td>\n",
       "      <td>grand</td>\n",
       "      <td>125000</td>\n",
       "      <td>8</td>\n",
       "      <td>gasoline</td>\n",
       "      <td>jeep</td>\n",
       "      <td>NaN</td>\n",
       "      <td>14/03/2016 00:00</td>\n",
       "      <td>90480</td>\n",
       "      <td>05/04/2016 12:47</td>\n",
       "    </tr>\n",
       "    <tr>\n",
       "      <th>3</th>\n",
       "      <td>17/03/2016 16:54</td>\n",
       "      <td>1500</td>\n",
       "      <td>small</td>\n",
       "      <td>2001</td>\n",
       "      <td>manual</td>\n",
       "      <td>75</td>\n",
       "      <td>golf</td>\n",
       "      <td>150000</td>\n",
       "      <td>6</td>\n",
       "      <td>petrol</td>\n",
       "      <td>volkswagen</td>\n",
       "      <td>no</td>\n",
       "      <td>17/03/2016 00:00</td>\n",
       "      <td>91074</td>\n",
       "      <td>17/03/2016 17:40</td>\n",
       "    </tr>\n",
       "    <tr>\n",
       "      <th>4</th>\n",
       "      <td>31/03/2016 17:25</td>\n",
       "      <td>3600</td>\n",
       "      <td>small</td>\n",
       "      <td>2008</td>\n",
       "      <td>manual</td>\n",
       "      <td>69</td>\n",
       "      <td>fabia</td>\n",
       "      <td>90000</td>\n",
       "      <td>7</td>\n",
       "      <td>gasoline</td>\n",
       "      <td>skoda</td>\n",
       "      <td>no</td>\n",
       "      <td>31/03/2016 00:00</td>\n",
       "      <td>60437</td>\n",
       "      <td>06/04/2016 10:17</td>\n",
       "    </tr>\n",
       "  </tbody>\n",
       "</table>\n",
       "</div>"
      ],
      "text/plain": [
       "        datecrawled  price vehicletype  registrationyear gearbox  power  \\\n",
       "0  24/03/2016 11:52    480         NaN              1993  manual      0   \n",
       "1  24/03/2016 10:58  18300       coupe              2011  manual    190   \n",
       "2  14/03/2016 12:52   9800         suv              2004    auto    163   \n",
       "3  17/03/2016 16:54   1500       small              2001  manual     75   \n",
       "4  31/03/2016 17:25   3600       small              2008  manual     69   \n",
       "\n",
       "   model  mileage  registrationmonth  fueltype       brand notrepaired  \\\n",
       "0   golf   150000                  0    petrol  volkswagen         NaN   \n",
       "1    NaN   125000                  5  gasoline        audi         yes   \n",
       "2  grand   125000                  8  gasoline        jeep         NaN   \n",
       "3   golf   150000                  6    petrol  volkswagen          no   \n",
       "4  fabia    90000                  7  gasoline       skoda          no   \n",
       "\n",
       "        datecreated  postalcode          lastseen  \n",
       "0  24/03/2016 00:00       70435  07/04/2016 03:16  \n",
       "1  24/03/2016 00:00       66954  07/04/2016 01:46  \n",
       "2  14/03/2016 00:00       90480  05/04/2016 12:47  \n",
       "3  17/03/2016 00:00       91074  17/03/2016 17:40  \n",
       "4  31/03/2016 00:00       60437  06/04/2016 10:17  "
      ]
     },
     "execution_count": 7,
     "metadata": {},
     "output_type": "execute_result"
    }
   ],
   "source": [
    "df = df.drop('numberofpictures', axis=1)\n",
    "df.head()"
   ]
  },
  {
   "cell_type": "markdown",
   "metadata": {},
   "source": [
    "### Informação dos dados"
   ]
  },
  {
   "cell_type": "code",
   "execution_count": 8,
   "metadata": {},
   "outputs": [
    {
     "name": "stdout",
     "output_type": "stream",
     "text": [
      "<class 'pandas.core.frame.DataFrame'>\n",
      "RangeIndex: 354369 entries, 0 to 354368\n",
      "Data columns (total 15 columns):\n",
      " #   Column             Non-Null Count   Dtype \n",
      "---  ------             --------------   ----- \n",
      " 0   datecrawled        354369 non-null  object\n",
      " 1   price              354369 non-null  int64 \n",
      " 2   vehicletype        316879 non-null  object\n",
      " 3   registrationyear   354369 non-null  int64 \n",
      " 4   gearbox            334536 non-null  object\n",
      " 5   power              354369 non-null  int64 \n",
      " 6   model              334664 non-null  object\n",
      " 7   mileage            354369 non-null  int64 \n",
      " 8   registrationmonth  354369 non-null  int64 \n",
      " 9   fueltype           321474 non-null  object\n",
      " 10  brand              354369 non-null  object\n",
      " 11  notrepaired        283215 non-null  object\n",
      " 12  datecreated        354369 non-null  object\n",
      " 13  postalcode         354369 non-null  int64 \n",
      " 14  lastseen           354369 non-null  object\n",
      "dtypes: int64(6), object(9)\n",
      "memory usage: 40.6+ MB\n"
     ]
    }
   ],
   "source": [
    "df.info()"
   ]
  },
  {
   "cell_type": "markdown",
   "metadata": {},
   "source": [
    "### verificação de dados ausentes"
   ]
  },
  {
   "cell_type": "code",
   "execution_count": 9,
   "metadata": {},
   "outputs": [
    {
     "data": {
      "text/plain": [
       "datecrawled              0\n",
       "price                    0\n",
       "vehicletype          37490\n",
       "registrationyear         0\n",
       "gearbox              19833\n",
       "power                    0\n",
       "model                19705\n",
       "mileage                  0\n",
       "registrationmonth        0\n",
       "registrationmonth        0\n",
       "fueltype             32895\n",
       "brand                    0\n",
       "notrepaired          71154\n",
       "datecreated              0\n",
       "postalcode               0\n",
       "lastseen                 0\n",
       "dtype: int64"
      ]
     },
     "execution_count": 9,
     "metadata": {},
     "output_type": "execute_result"
    }
   ],
   "source": [
    "df[['datecrawled','price','vehicletype','registrationyear','gearbox', 'power', 'model',\n",
    "    'mileage', 'registrationmonth', 'registrationmonth','fueltype', 'brand', 'notrepaired',\n",
    "    'datecreated', 'postalcode', 'lastseen']].isna().sum()"
   ]
  },
  {
   "cell_type": "markdown",
   "metadata": {},
   "source": [
    "Existem dados ausentes nas colunas: \n",
    "\n",
    "- vehicletype,\n",
    "\n",
    "- gearbox,\n",
    "\n",
    "- model,\n",
    "\n",
    "- fueltype,\n",
    "\n",
    "- notrepaired.\n",
    "\n",
    "Vamos verificar cada uma das colunas para poder ver o melhortratamento para cada caso."
   ]
  },
  {
   "cell_type": "markdown",
   "metadata": {},
   "source": [
    "### Tratamento dos dados"
   ]
  },
  {
   "cell_type": "markdown",
   "metadata": {},
   "source": [
    "#### Coluna VehicleType\n"
   ]
  },
  {
   "cell_type": "code",
   "execution_count": 10,
   "metadata": {},
   "outputs": [
    {
     "data": {
      "text/plain": [
       "array([nan, 'coupe', 'suv', 'small', 'sedan', 'convertible', 'bus',\n",
       "       'wagon', 'other'], dtype=object)"
      ]
     },
     "execution_count": 10,
     "metadata": {},
     "output_type": "execute_result"
    }
   ],
   "source": [
    "df['vehicletype'].unique()"
   ]
  },
  {
   "cell_type": "markdown",
   "metadata": {},
   "source": [
    "#### Verificando os dados ausetes da coluna "
   ]
  },
  {
   "cell_type": "code",
   "execution_count": 11,
   "metadata": {},
   "outputs": [
    {
     "data": {
      "text/html": [
       "<div>\n",
       "<style scoped>\n",
       "    .dataframe tbody tr th:only-of-type {\n",
       "        vertical-align: middle;\n",
       "    }\n",
       "\n",
       "    .dataframe tbody tr th {\n",
       "        vertical-align: top;\n",
       "    }\n",
       "\n",
       "    .dataframe thead th {\n",
       "        text-align: right;\n",
       "    }\n",
       "</style>\n",
       "<table border=\"1\" class=\"dataframe\">\n",
       "  <thead>\n",
       "    <tr style=\"text-align: right;\">\n",
       "      <th></th>\n",
       "      <th>datecrawled</th>\n",
       "      <th>price</th>\n",
       "      <th>vehicletype</th>\n",
       "      <th>registrationyear</th>\n",
       "      <th>gearbox</th>\n",
       "      <th>power</th>\n",
       "      <th>model</th>\n",
       "      <th>mileage</th>\n",
       "      <th>registrationmonth</th>\n",
       "      <th>fueltype</th>\n",
       "      <th>brand</th>\n",
       "      <th>notrepaired</th>\n",
       "      <th>datecreated</th>\n",
       "      <th>postalcode</th>\n",
       "      <th>lastseen</th>\n",
       "    </tr>\n",
       "  </thead>\n",
       "  <tbody>\n",
       "    <tr>\n",
       "      <th>0</th>\n",
       "      <td>24/03/2016 11:52</td>\n",
       "      <td>480</td>\n",
       "      <td>NaN</td>\n",
       "      <td>1993</td>\n",
       "      <td>manual</td>\n",
       "      <td>0</td>\n",
       "      <td>golf</td>\n",
       "      <td>150000</td>\n",
       "      <td>0</td>\n",
       "      <td>petrol</td>\n",
       "      <td>volkswagen</td>\n",
       "      <td>NaN</td>\n",
       "      <td>24/03/2016 00:00</td>\n",
       "      <td>70435</td>\n",
       "      <td>07/04/2016 03:16</td>\n",
       "    </tr>\n",
       "    <tr>\n",
       "      <th>16</th>\n",
       "      <td>01/04/2016 12:46</td>\n",
       "      <td>300</td>\n",
       "      <td>NaN</td>\n",
       "      <td>2016</td>\n",
       "      <td>NaN</td>\n",
       "      <td>60</td>\n",
       "      <td>polo</td>\n",
       "      <td>150000</td>\n",
       "      <td>0</td>\n",
       "      <td>petrol</td>\n",
       "      <td>volkswagen</td>\n",
       "      <td>NaN</td>\n",
       "      <td>01/04/2016 00:00</td>\n",
       "      <td>38871</td>\n",
       "      <td>01/04/2016 12:46</td>\n",
       "    </tr>\n",
       "    <tr>\n",
       "      <th>22</th>\n",
       "      <td>23/03/2016 14:52</td>\n",
       "      <td>2900</td>\n",
       "      <td>NaN</td>\n",
       "      <td>2018</td>\n",
       "      <td>manual</td>\n",
       "      <td>90</td>\n",
       "      <td>meriva</td>\n",
       "      <td>150000</td>\n",
       "      <td>5</td>\n",
       "      <td>petrol</td>\n",
       "      <td>opel</td>\n",
       "      <td>no</td>\n",
       "      <td>23/03/2016 00:00</td>\n",
       "      <td>49716</td>\n",
       "      <td>31/03/2016 01:16</td>\n",
       "    </tr>\n",
       "    <tr>\n",
       "      <th>26</th>\n",
       "      <td>10/03/2016 19:38</td>\n",
       "      <td>5555</td>\n",
       "      <td>NaN</td>\n",
       "      <td>2017</td>\n",
       "      <td>manual</td>\n",
       "      <td>125</td>\n",
       "      <td>c4</td>\n",
       "      <td>125000</td>\n",
       "      <td>4</td>\n",
       "      <td>NaN</td>\n",
       "      <td>citroen</td>\n",
       "      <td>no</td>\n",
       "      <td>10/03/2016 00:00</td>\n",
       "      <td>31139</td>\n",
       "      <td>16/03/2016 09:16</td>\n",
       "    </tr>\n",
       "    <tr>\n",
       "      <th>31</th>\n",
       "      <td>29/03/2016 16:57</td>\n",
       "      <td>899</td>\n",
       "      <td>NaN</td>\n",
       "      <td>2016</td>\n",
       "      <td>manual</td>\n",
       "      <td>60</td>\n",
       "      <td>clio</td>\n",
       "      <td>150000</td>\n",
       "      <td>6</td>\n",
       "      <td>petrol</td>\n",
       "      <td>renault</td>\n",
       "      <td>NaN</td>\n",
       "      <td>29/03/2016 00:00</td>\n",
       "      <td>37075</td>\n",
       "      <td>29/03/2016 17:43</td>\n",
       "    </tr>\n",
       "    <tr>\n",
       "      <th>...</th>\n",
       "      <td>...</td>\n",
       "      <td>...</td>\n",
       "      <td>...</td>\n",
       "      <td>...</td>\n",
       "      <td>...</td>\n",
       "      <td>...</td>\n",
       "      <td>...</td>\n",
       "      <td>...</td>\n",
       "      <td>...</td>\n",
       "      <td>...</td>\n",
       "      <td>...</td>\n",
       "      <td>...</td>\n",
       "      <td>...</td>\n",
       "      <td>...</td>\n",
       "      <td>...</td>\n",
       "    </tr>\n",
       "    <tr>\n",
       "      <th>354346</th>\n",
       "      <td>07/03/2016 17:06</td>\n",
       "      <td>2600</td>\n",
       "      <td>NaN</td>\n",
       "      <td>2005</td>\n",
       "      <td>auto</td>\n",
       "      <td>0</td>\n",
       "      <td>c_klasse</td>\n",
       "      <td>150000</td>\n",
       "      <td>9</td>\n",
       "      <td>NaN</td>\n",
       "      <td>mercedes_benz</td>\n",
       "      <td>NaN</td>\n",
       "      <td>07/03/2016 00:00</td>\n",
       "      <td>61169</td>\n",
       "      <td>08/03/2016 21:28</td>\n",
       "    </tr>\n",
       "    <tr>\n",
       "      <th>354351</th>\n",
       "      <td>11/03/2016 23:40</td>\n",
       "      <td>1900</td>\n",
       "      <td>NaN</td>\n",
       "      <td>2000</td>\n",
       "      <td>manual</td>\n",
       "      <td>110</td>\n",
       "      <td>NaN</td>\n",
       "      <td>150000</td>\n",
       "      <td>7</td>\n",
       "      <td>NaN</td>\n",
       "      <td>volkswagen</td>\n",
       "      <td>no</td>\n",
       "      <td>11/03/2016 00:00</td>\n",
       "      <td>87700</td>\n",
       "      <td>12/03/2016 14:16</td>\n",
       "    </tr>\n",
       "    <tr>\n",
       "      <th>354361</th>\n",
       "      <td>09/03/2016 13:37</td>\n",
       "      <td>5250</td>\n",
       "      <td>NaN</td>\n",
       "      <td>2016</td>\n",
       "      <td>auto</td>\n",
       "      <td>150</td>\n",
       "      <td>159</td>\n",
       "      <td>150000</td>\n",
       "      <td>12</td>\n",
       "      <td>NaN</td>\n",
       "      <td>alfa_romeo</td>\n",
       "      <td>no</td>\n",
       "      <td>09/03/2016 00:00</td>\n",
       "      <td>51371</td>\n",
       "      <td>13/03/2016 01:44</td>\n",
       "    </tr>\n",
       "    <tr>\n",
       "      <th>354364</th>\n",
       "      <td>21/03/2016 09:50</td>\n",
       "      <td>0</td>\n",
       "      <td>NaN</td>\n",
       "      <td>2005</td>\n",
       "      <td>manual</td>\n",
       "      <td>0</td>\n",
       "      <td>colt</td>\n",
       "      <td>150000</td>\n",
       "      <td>7</td>\n",
       "      <td>petrol</td>\n",
       "      <td>mitsubishi</td>\n",
       "      <td>yes</td>\n",
       "      <td>21/03/2016 00:00</td>\n",
       "      <td>2694</td>\n",
       "      <td>21/03/2016 10:42</td>\n",
       "    </tr>\n",
       "    <tr>\n",
       "      <th>354365</th>\n",
       "      <td>14/03/2016 17:48</td>\n",
       "      <td>2200</td>\n",
       "      <td>NaN</td>\n",
       "      <td>2005</td>\n",
       "      <td>NaN</td>\n",
       "      <td>0</td>\n",
       "      <td>NaN</td>\n",
       "      <td>20000</td>\n",
       "      <td>1</td>\n",
       "      <td>NaN</td>\n",
       "      <td>sonstige_autos</td>\n",
       "      <td>NaN</td>\n",
       "      <td>14/03/2016 00:00</td>\n",
       "      <td>39576</td>\n",
       "      <td>06/04/2016 00:46</td>\n",
       "    </tr>\n",
       "  </tbody>\n",
       "</table>\n",
       "<p>37490 rows × 15 columns</p>\n",
       "</div>"
      ],
      "text/plain": [
       "             datecrawled  price vehicletype  registrationyear gearbox  power  \\\n",
       "0       24/03/2016 11:52    480         NaN              1993  manual      0   \n",
       "16      01/04/2016 12:46    300         NaN              2016     NaN     60   \n",
       "22      23/03/2016 14:52   2900         NaN              2018  manual     90   \n",
       "26      10/03/2016 19:38   5555         NaN              2017  manual    125   \n",
       "31      29/03/2016 16:57    899         NaN              2016  manual     60   \n",
       "...                  ...    ...         ...               ...     ...    ...   \n",
       "354346  07/03/2016 17:06   2600         NaN              2005    auto      0   \n",
       "354351  11/03/2016 23:40   1900         NaN              2000  manual    110   \n",
       "354361  09/03/2016 13:37   5250         NaN              2016    auto    150   \n",
       "354364  21/03/2016 09:50      0         NaN              2005  manual      0   \n",
       "354365  14/03/2016 17:48   2200         NaN              2005     NaN      0   \n",
       "\n",
       "           model  mileage  registrationmonth fueltype           brand  \\\n",
       "0           golf   150000                  0   petrol      volkswagen   \n",
       "16          polo   150000                  0   petrol      volkswagen   \n",
       "22        meriva   150000                  5   petrol            opel   \n",
       "26            c4   125000                  4      NaN         citroen   \n",
       "31          clio   150000                  6   petrol         renault   \n",
       "...          ...      ...                ...      ...             ...   \n",
       "354346  c_klasse   150000                  9      NaN   mercedes_benz   \n",
       "354351       NaN   150000                  7      NaN      volkswagen   \n",
       "354361       159   150000                 12      NaN      alfa_romeo   \n",
       "354364      colt   150000                  7   petrol      mitsubishi   \n",
       "354365       NaN    20000                  1      NaN  sonstige_autos   \n",
       "\n",
       "       notrepaired       datecreated  postalcode          lastseen  \n",
       "0              NaN  24/03/2016 00:00       70435  07/04/2016 03:16  \n",
       "16             NaN  01/04/2016 00:00       38871  01/04/2016 12:46  \n",
       "22              no  23/03/2016 00:00       49716  31/03/2016 01:16  \n",
       "26              no  10/03/2016 00:00       31139  16/03/2016 09:16  \n",
       "31             NaN  29/03/2016 00:00       37075  29/03/2016 17:43  \n",
       "...            ...               ...         ...               ...  \n",
       "354346         NaN  07/03/2016 00:00       61169  08/03/2016 21:28  \n",
       "354351          no  11/03/2016 00:00       87700  12/03/2016 14:16  \n",
       "354361          no  09/03/2016 00:00       51371  13/03/2016 01:44  \n",
       "354364         yes  21/03/2016 00:00        2694  21/03/2016 10:42  \n",
       "354365         NaN  14/03/2016 00:00       39576  06/04/2016 00:46  \n",
       "\n",
       "[37490 rows x 15 columns]"
      ]
     },
     "execution_count": 11,
     "metadata": {},
     "output_type": "execute_result"
    }
   ],
   "source": [
    "\n",
    "df[df['vehicletype'].isna()]"
   ]
  },
  {
   "cell_type": "markdown",
   "metadata": {},
   "source": [
    "#### Peso do dados ausentes vehicletype"
   ]
  },
  {
   "cell_type": "code",
   "execution_count": 12,
   "metadata": {},
   "outputs": [
    {
     "data": {
      "text/plain": [
       "10.57936783409384"
      ]
     },
     "execution_count": 12,
     "metadata": {},
     "output_type": "execute_result"
    }
   ],
   "source": [
    "(df['vehicletype'].isna().sum()/len(df))*100"
   ]
  },
  {
   "cell_type": "markdown",
   "metadata": {},
   "source": [
    "Verificado que 10% dos dados da coluna vehicletype esta ausente"
   ]
  },
  {
   "cell_type": "markdown",
   "metadata": {},
   "source": [
    "#### Coluna Gearbox"
   ]
  },
  {
   "cell_type": "code",
   "execution_count": 13,
   "metadata": {},
   "outputs": [
    {
     "data": {
      "text/plain": [
       "array(['manual', 'auto', nan], dtype=object)"
      ]
     },
     "execution_count": 13,
     "metadata": {},
     "output_type": "execute_result"
    }
   ],
   "source": [
    "df['gearbox'].unique()"
   ]
  },
  {
   "cell_type": "markdown",
   "metadata": {},
   "source": [
    "#### Verificando os dados ausetes da coluna "
   ]
  },
  {
   "cell_type": "code",
   "execution_count": 14,
   "metadata": {},
   "outputs": [
    {
     "data": {
      "text/html": [
       "<div>\n",
       "<style scoped>\n",
       "    .dataframe tbody tr th:only-of-type {\n",
       "        vertical-align: middle;\n",
       "    }\n",
       "\n",
       "    .dataframe tbody tr th {\n",
       "        vertical-align: top;\n",
       "    }\n",
       "\n",
       "    .dataframe thead th {\n",
       "        text-align: right;\n",
       "    }\n",
       "</style>\n",
       "<table border=\"1\" class=\"dataframe\">\n",
       "  <thead>\n",
       "    <tr style=\"text-align: right;\">\n",
       "      <th></th>\n",
       "      <th>datecrawled</th>\n",
       "      <th>price</th>\n",
       "      <th>vehicletype</th>\n",
       "      <th>registrationyear</th>\n",
       "      <th>gearbox</th>\n",
       "      <th>power</th>\n",
       "      <th>model</th>\n",
       "      <th>mileage</th>\n",
       "      <th>registrationmonth</th>\n",
       "      <th>fueltype</th>\n",
       "      <th>brand</th>\n",
       "      <th>notrepaired</th>\n",
       "      <th>datecreated</th>\n",
       "      <th>postalcode</th>\n",
       "      <th>lastseen</th>\n",
       "    </tr>\n",
       "  </thead>\n",
       "  <tbody>\n",
       "    <tr>\n",
       "      <th>15</th>\n",
       "      <td>11/03/2016 21:39</td>\n",
       "      <td>450</td>\n",
       "      <td>small</td>\n",
       "      <td>1910</td>\n",
       "      <td>NaN</td>\n",
       "      <td>0</td>\n",
       "      <td>ka</td>\n",
       "      <td>5000</td>\n",
       "      <td>0</td>\n",
       "      <td>petrol</td>\n",
       "      <td>ford</td>\n",
       "      <td>NaN</td>\n",
       "      <td>11/03/2016 00:00</td>\n",
       "      <td>24148</td>\n",
       "      <td>19/03/2016 08:46</td>\n",
       "    </tr>\n",
       "    <tr>\n",
       "      <th>16</th>\n",
       "      <td>01/04/2016 12:46</td>\n",
       "      <td>300</td>\n",
       "      <td>NaN</td>\n",
       "      <td>2016</td>\n",
       "      <td>NaN</td>\n",
       "      <td>60</td>\n",
       "      <td>polo</td>\n",
       "      <td>150000</td>\n",
       "      <td>0</td>\n",
       "      <td>petrol</td>\n",
       "      <td>volkswagen</td>\n",
       "      <td>NaN</td>\n",
       "      <td>01/04/2016 00:00</td>\n",
       "      <td>38871</td>\n",
       "      <td>01/04/2016 12:46</td>\n",
       "    </tr>\n",
       "    <tr>\n",
       "      <th>32</th>\n",
       "      <td>15/03/2016 20:59</td>\n",
       "      <td>245</td>\n",
       "      <td>sedan</td>\n",
       "      <td>1994</td>\n",
       "      <td>NaN</td>\n",
       "      <td>0</td>\n",
       "      <td>golf</td>\n",
       "      <td>150000</td>\n",
       "      <td>2</td>\n",
       "      <td>petrol</td>\n",
       "      <td>volkswagen</td>\n",
       "      <td>no</td>\n",
       "      <td>15/03/2016 00:00</td>\n",
       "      <td>44145</td>\n",
       "      <td>17/03/2016 18:17</td>\n",
       "    </tr>\n",
       "    <tr>\n",
       "      <th>37</th>\n",
       "      <td>28/03/2016 17:50</td>\n",
       "      <td>1500</td>\n",
       "      <td>NaN</td>\n",
       "      <td>2016</td>\n",
       "      <td>NaN</td>\n",
       "      <td>0</td>\n",
       "      <td>kangoo</td>\n",
       "      <td>150000</td>\n",
       "      <td>1</td>\n",
       "      <td>gasoline</td>\n",
       "      <td>renault</td>\n",
       "      <td>no</td>\n",
       "      <td>28/03/2016 00:00</td>\n",
       "      <td>46483</td>\n",
       "      <td>30/03/2016 09:18</td>\n",
       "    </tr>\n",
       "    <tr>\n",
       "      <th>40</th>\n",
       "      <td>26/03/2016 22:06</td>\n",
       "      <td>0</td>\n",
       "      <td>NaN</td>\n",
       "      <td>1990</td>\n",
       "      <td>NaN</td>\n",
       "      <td>0</td>\n",
       "      <td>corsa</td>\n",
       "      <td>150000</td>\n",
       "      <td>1</td>\n",
       "      <td>petrol</td>\n",
       "      <td>opel</td>\n",
       "      <td>NaN</td>\n",
       "      <td>26/03/2016 00:00</td>\n",
       "      <td>56412</td>\n",
       "      <td>27/03/2016 17:43</td>\n",
       "    </tr>\n",
       "    <tr>\n",
       "      <th>...</th>\n",
       "      <td>...</td>\n",
       "      <td>...</td>\n",
       "      <td>...</td>\n",
       "      <td>...</td>\n",
       "      <td>...</td>\n",
       "      <td>...</td>\n",
       "      <td>...</td>\n",
       "      <td>...</td>\n",
       "      <td>...</td>\n",
       "      <td>...</td>\n",
       "      <td>...</td>\n",
       "      <td>...</td>\n",
       "      <td>...</td>\n",
       "      <td>...</td>\n",
       "      <td>...</td>\n",
       "    </tr>\n",
       "    <tr>\n",
       "      <th>354288</th>\n",
       "      <td>16/03/2016 13:36</td>\n",
       "      <td>3300</td>\n",
       "      <td>wagon</td>\n",
       "      <td>2006</td>\n",
       "      <td>NaN</td>\n",
       "      <td>0</td>\n",
       "      <td>touran</td>\n",
       "      <td>150000</td>\n",
       "      <td>7</td>\n",
       "      <td>gasoline</td>\n",
       "      <td>volkswagen</td>\n",
       "      <td>NaN</td>\n",
       "      <td>16/03/2016 00:00</td>\n",
       "      <td>12057</td>\n",
       "      <td>17/03/2016 12:17</td>\n",
       "    </tr>\n",
       "    <tr>\n",
       "      <th>354305</th>\n",
       "      <td>03/04/2016 13:46</td>\n",
       "      <td>3500</td>\n",
       "      <td>NaN</td>\n",
       "      <td>1995</td>\n",
       "      <td>NaN</td>\n",
       "      <td>0</td>\n",
       "      <td>polo</td>\n",
       "      <td>150000</td>\n",
       "      <td>0</td>\n",
       "      <td>NaN</td>\n",
       "      <td>volkswagen</td>\n",
       "      <td>NaN</td>\n",
       "      <td>03/04/2016 00:00</td>\n",
       "      <td>74579</td>\n",
       "      <td>05/04/2016 12:44</td>\n",
       "    </tr>\n",
       "    <tr>\n",
       "      <th>354329</th>\n",
       "      <td>30/03/2016 20:55</td>\n",
       "      <td>350</td>\n",
       "      <td>small</td>\n",
       "      <td>1996</td>\n",
       "      <td>NaN</td>\n",
       "      <td>65</td>\n",
       "      <td>punto</td>\n",
       "      <td>150000</td>\n",
       "      <td>0</td>\n",
       "      <td>NaN</td>\n",
       "      <td>fiat</td>\n",
       "      <td>NaN</td>\n",
       "      <td>30/03/2016 00:00</td>\n",
       "      <td>25436</td>\n",
       "      <td>07/04/2016 13:50</td>\n",
       "    </tr>\n",
       "    <tr>\n",
       "      <th>354338</th>\n",
       "      <td>31/03/2016 19:52</td>\n",
       "      <td>180</td>\n",
       "      <td>NaN</td>\n",
       "      <td>1995</td>\n",
       "      <td>NaN</td>\n",
       "      <td>0</td>\n",
       "      <td>NaN</td>\n",
       "      <td>125000</td>\n",
       "      <td>3</td>\n",
       "      <td>petrol</td>\n",
       "      <td>opel</td>\n",
       "      <td>NaN</td>\n",
       "      <td>31/03/2016 00:00</td>\n",
       "      <td>41470</td>\n",
       "      <td>06/04/2016 14:18</td>\n",
       "    </tr>\n",
       "    <tr>\n",
       "      <th>354365</th>\n",
       "      <td>14/03/2016 17:48</td>\n",
       "      <td>2200</td>\n",
       "      <td>NaN</td>\n",
       "      <td>2005</td>\n",
       "      <td>NaN</td>\n",
       "      <td>0</td>\n",
       "      <td>NaN</td>\n",
       "      <td>20000</td>\n",
       "      <td>1</td>\n",
       "      <td>NaN</td>\n",
       "      <td>sonstige_autos</td>\n",
       "      <td>NaN</td>\n",
       "      <td>14/03/2016 00:00</td>\n",
       "      <td>39576</td>\n",
       "      <td>06/04/2016 00:46</td>\n",
       "    </tr>\n",
       "  </tbody>\n",
       "</table>\n",
       "<p>19833 rows × 15 columns</p>\n",
       "</div>"
      ],
      "text/plain": [
       "             datecrawled  price vehicletype  registrationyear gearbox  power  \\\n",
       "15      11/03/2016 21:39    450       small              1910     NaN      0   \n",
       "16      01/04/2016 12:46    300         NaN              2016     NaN     60   \n",
       "32      15/03/2016 20:59    245       sedan              1994     NaN      0   \n",
       "37      28/03/2016 17:50   1500         NaN              2016     NaN      0   \n",
       "40      26/03/2016 22:06      0         NaN              1990     NaN      0   \n",
       "...                  ...    ...         ...               ...     ...    ...   \n",
       "354288  16/03/2016 13:36   3300       wagon              2006     NaN      0   \n",
       "354305  03/04/2016 13:46   3500         NaN              1995     NaN      0   \n",
       "354329  30/03/2016 20:55    350       small              1996     NaN     65   \n",
       "354338  31/03/2016 19:52    180         NaN              1995     NaN      0   \n",
       "354365  14/03/2016 17:48   2200         NaN              2005     NaN      0   \n",
       "\n",
       "         model  mileage  registrationmonth  fueltype           brand  \\\n",
       "15          ka     5000                  0    petrol            ford   \n",
       "16        polo   150000                  0    petrol      volkswagen   \n",
       "32        golf   150000                  2    petrol      volkswagen   \n",
       "37      kangoo   150000                  1  gasoline         renault   \n",
       "40       corsa   150000                  1    petrol            opel   \n",
       "...        ...      ...                ...       ...             ...   \n",
       "354288  touran   150000                  7  gasoline      volkswagen   \n",
       "354305    polo   150000                  0       NaN      volkswagen   \n",
       "354329   punto   150000                  0       NaN            fiat   \n",
       "354338     NaN   125000                  3    petrol            opel   \n",
       "354365     NaN    20000                  1       NaN  sonstige_autos   \n",
       "\n",
       "       notrepaired       datecreated  postalcode          lastseen  \n",
       "15             NaN  11/03/2016 00:00       24148  19/03/2016 08:46  \n",
       "16             NaN  01/04/2016 00:00       38871  01/04/2016 12:46  \n",
       "32              no  15/03/2016 00:00       44145  17/03/2016 18:17  \n",
       "37              no  28/03/2016 00:00       46483  30/03/2016 09:18  \n",
       "40             NaN  26/03/2016 00:00       56412  27/03/2016 17:43  \n",
       "...            ...               ...         ...               ...  \n",
       "354288         NaN  16/03/2016 00:00       12057  17/03/2016 12:17  \n",
       "354305         NaN  03/04/2016 00:00       74579  05/04/2016 12:44  \n",
       "354329         NaN  30/03/2016 00:00       25436  07/04/2016 13:50  \n",
       "354338         NaN  31/03/2016 00:00       41470  06/04/2016 14:18  \n",
       "354365         NaN  14/03/2016 00:00       39576  06/04/2016 00:46  \n",
       "\n",
       "[19833 rows x 15 columns]"
      ]
     },
     "execution_count": 14,
     "metadata": {},
     "output_type": "execute_result"
    }
   ],
   "source": [
    "df[df['gearbox'].isna()]"
   ]
  },
  {
   "cell_type": "markdown",
   "metadata": {},
   "source": [
    "#### Verificando os dados ausetes da coluna "
   ]
  },
  {
   "cell_type": "code",
   "execution_count": 15,
   "metadata": {},
   "outputs": [
    {
     "data": {
      "text/plain": [
       "5.596708515699737"
      ]
     },
     "execution_count": 15,
     "metadata": {},
     "output_type": "execute_result"
    }
   ],
   "source": [
    "(df['gearbox'].isna().sum()/len(df))*100"
   ]
  },
  {
   "cell_type": "markdown",
   "metadata": {},
   "source": [
    "Verificado que 5,6% dos dados da coluna gearbox estão ausente\n"
   ]
  },
  {
   "cell_type": "markdown",
   "metadata": {},
   "source": [
    "### Coluna Model"
   ]
  },
  {
   "cell_type": "code",
   "execution_count": 16,
   "metadata": {},
   "outputs": [
    {
     "data": {
      "text/plain": [
       "array(['golf', nan, 'grand', 'fabia', '3er', '2_reihe', 'other', 'c_max',\n",
       "       '3_reihe', 'passat', 'navara', 'ka', 'polo', 'twingo', 'a_klasse',\n",
       "       'scirocco', '5er', 'meriva', 'arosa', 'c4', 'civic', 'transporter',\n",
       "       'punto', 'e_klasse', 'clio', 'kadett', 'kangoo', 'corsa', 'one',\n",
       "       'fortwo', '1er', 'b_klasse', 'signum', 'astra', 'a8', 'jetta',\n",
       "       'fiesta', 'c_klasse', 'micra', 'vito', 'sprinter', '156', 'escort',\n",
       "       'forester', 'xc_reihe', 'scenic', 'a4', 'a1', 'insignia', 'combo',\n",
       "       'focus', 'tt', 'a6', 'jazz', 'omega', 'slk', '7er', '80', '147',\n",
       "       '100', 'z_reihe', 'sportage', 'sorento', 'v40', 'ibiza', 'mustang',\n",
       "       'eos', 'touran', 'getz', 'a3', 'almera', 'megane', 'lupo', 'r19',\n",
       "       'zafira', 'caddy', 'mondeo', 'cordoba', 'colt', 'impreza',\n",
       "       'vectra', 'berlingo', 'tiguan', 'i_reihe', 'espace', 'sharan',\n",
       "       '6_reihe', 'panda', 'up', 'seicento', 'ceed', '5_reihe', 'yeti',\n",
       "       'octavia', 'mii', 'rx_reihe', '6er', 'modus', 'fox', 'matiz',\n",
       "       'beetle', 'c1', 'rio', 'touareg', 'logan', 'spider', 'cuore',\n",
       "       's_max', 'a2', 'galaxy', 'c3', 'viano', 's_klasse', '1_reihe',\n",
       "       'avensis', 'roomster', 'sl', 'kaefer', 'santa', 'cooper', 'leon',\n",
       "       '4_reihe', 'a5', '500', 'laguna', 'ptcruiser', 'clk', 'primera',\n",
       "       'x_reihe', 'exeo', '159', 'transit', 'juke', 'qashqai', 'carisma',\n",
       "       'accord', 'corolla', 'lanos', 'phaeton', 'verso', 'swift', 'rav',\n",
       "       'picanto', 'boxster', 'kalos', 'superb', 'stilo', 'alhambra',\n",
       "       'mx_reihe', 'roadster', 'ypsilon', 'cayenne', 'galant', 'justy',\n",
       "       '90', 'sirion', 'crossfire', 'agila', 'duster', 'cr_reihe', 'v50',\n",
       "       'c_reihe', 'v_klasse', 'm_klasse', 'yaris', 'c5', 'aygo', 'cc',\n",
       "       'carnival', 'fusion', '911', 'bora', 'forfour', 'm_reihe', 'cl',\n",
       "       'tigra', '300c', 'spark', 'v70', 'kuga', 'x_type', 'ducato',\n",
       "       's_type', 'x_trail', 'toledo', 'altea', 'voyager', 'calibra',\n",
       "       'bravo', 'antara', 'tucson', 'citigo', 'jimny', 'wrangler',\n",
       "       'lybra', 'q7', 'lancer', 'captiva', 'c2', 'discovery',\n",
       "       'freelander', 'sandero', 'note', '900', 'cherokee', 'clubman',\n",
       "       'samara', 'defender', '601', 'cx_reihe', 'legacy', 'pajero',\n",
       "       'auris', 'niva', 's60', 'nubira', 'vivaro', 'g_klasse', 'lodgy',\n",
       "       '850', 'range_rover', 'q3', 'serie_2', 'glk', 'charade', 'croma',\n",
       "       'outlander', 'doblo', 'musa', 'move', '9000', 'v60', '145', 'aveo',\n",
       "       '200', 'b_max', 'range_rover_sport', 'terios', 'rangerover', 'q5',\n",
       "       'range_rover_evoque', 'materia', 'delta', 'gl', 'kalina', 'amarok',\n",
       "       'elefantino', 'i3', 'kappa', 'serie_3', 'serie_1'], dtype=object)"
      ]
     },
     "execution_count": 16,
     "metadata": {},
     "output_type": "execute_result"
    }
   ],
   "source": [
    "df['model'].unique()"
   ]
  },
  {
   "cell_type": "markdown",
   "metadata": {},
   "source": [
    "#### Verificando os dados ausetes da coluna "
   ]
  },
  {
   "cell_type": "code",
   "execution_count": 17,
   "metadata": {},
   "outputs": [
    {
     "data": {
      "text/html": [
       "<div>\n",
       "<style scoped>\n",
       "    .dataframe tbody tr th:only-of-type {\n",
       "        vertical-align: middle;\n",
       "    }\n",
       "\n",
       "    .dataframe tbody tr th {\n",
       "        vertical-align: top;\n",
       "    }\n",
       "\n",
       "    .dataframe thead th {\n",
       "        text-align: right;\n",
       "    }\n",
       "</style>\n",
       "<table border=\"1\" class=\"dataframe\">\n",
       "  <thead>\n",
       "    <tr style=\"text-align: right;\">\n",
       "      <th></th>\n",
       "      <th>datecrawled</th>\n",
       "      <th>price</th>\n",
       "      <th>vehicletype</th>\n",
       "      <th>registrationyear</th>\n",
       "      <th>gearbox</th>\n",
       "      <th>power</th>\n",
       "      <th>model</th>\n",
       "      <th>mileage</th>\n",
       "      <th>registrationmonth</th>\n",
       "      <th>fueltype</th>\n",
       "      <th>brand</th>\n",
       "      <th>notrepaired</th>\n",
       "      <th>datecreated</th>\n",
       "      <th>postalcode</th>\n",
       "      <th>lastseen</th>\n",
       "    </tr>\n",
       "  </thead>\n",
       "  <tbody>\n",
       "    <tr>\n",
       "      <th>1</th>\n",
       "      <td>24/03/2016 10:58</td>\n",
       "      <td>18300</td>\n",
       "      <td>coupe</td>\n",
       "      <td>2011</td>\n",
       "      <td>manual</td>\n",
       "      <td>190</td>\n",
       "      <td>NaN</td>\n",
       "      <td>125000</td>\n",
       "      <td>5</td>\n",
       "      <td>gasoline</td>\n",
       "      <td>audi</td>\n",
       "      <td>yes</td>\n",
       "      <td>24/03/2016 00:00</td>\n",
       "      <td>66954</td>\n",
       "      <td>07/04/2016 01:46</td>\n",
       "    </tr>\n",
       "    <tr>\n",
       "      <th>59</th>\n",
       "      <td>29/03/2016 15:48</td>\n",
       "      <td>1</td>\n",
       "      <td>suv</td>\n",
       "      <td>1994</td>\n",
       "      <td>manual</td>\n",
       "      <td>286</td>\n",
       "      <td>NaN</td>\n",
       "      <td>150000</td>\n",
       "      <td>11</td>\n",
       "      <td>NaN</td>\n",
       "      <td>sonstige_autos</td>\n",
       "      <td>NaN</td>\n",
       "      <td>29/03/2016 00:00</td>\n",
       "      <td>53721</td>\n",
       "      <td>06/04/2016 01:44</td>\n",
       "    </tr>\n",
       "    <tr>\n",
       "      <th>81</th>\n",
       "      <td>03/04/2016 12:56</td>\n",
       "      <td>350</td>\n",
       "      <td>small</td>\n",
       "      <td>1997</td>\n",
       "      <td>manual</td>\n",
       "      <td>54</td>\n",
       "      <td>NaN</td>\n",
       "      <td>150000</td>\n",
       "      <td>3</td>\n",
       "      <td>NaN</td>\n",
       "      <td>fiat</td>\n",
       "      <td>yes</td>\n",
       "      <td>03/04/2016 00:00</td>\n",
       "      <td>45665</td>\n",
       "      <td>05/04/2016 11:47</td>\n",
       "    </tr>\n",
       "    <tr>\n",
       "      <th>115</th>\n",
       "      <td>20/03/2016 18:53</td>\n",
       "      <td>0</td>\n",
       "      <td>small</td>\n",
       "      <td>1999</td>\n",
       "      <td>NaN</td>\n",
       "      <td>0</td>\n",
       "      <td>NaN</td>\n",
       "      <td>5000</td>\n",
       "      <td>0</td>\n",
       "      <td>petrol</td>\n",
       "      <td>volkswagen</td>\n",
       "      <td>NaN</td>\n",
       "      <td>20/03/2016 00:00</td>\n",
       "      <td>37520</td>\n",
       "      <td>07/04/2016 02:45</td>\n",
       "    </tr>\n",
       "    <tr>\n",
       "      <th>135</th>\n",
       "      <td>27/03/2016 20:51</td>\n",
       "      <td>1450</td>\n",
       "      <td>sedan</td>\n",
       "      <td>1992</td>\n",
       "      <td>manual</td>\n",
       "      <td>136</td>\n",
       "      <td>NaN</td>\n",
       "      <td>150000</td>\n",
       "      <td>0</td>\n",
       "      <td>NaN</td>\n",
       "      <td>audi</td>\n",
       "      <td>no</td>\n",
       "      <td>27/03/2016 00:00</td>\n",
       "      <td>38709</td>\n",
       "      <td>05/04/2016 20:17</td>\n",
       "    </tr>\n",
       "    <tr>\n",
       "      <th>...</th>\n",
       "      <td>...</td>\n",
       "      <td>...</td>\n",
       "      <td>...</td>\n",
       "      <td>...</td>\n",
       "      <td>...</td>\n",
       "      <td>...</td>\n",
       "      <td>...</td>\n",
       "      <td>...</td>\n",
       "      <td>...</td>\n",
       "      <td>...</td>\n",
       "      <td>...</td>\n",
       "      <td>...</td>\n",
       "      <td>...</td>\n",
       "      <td>...</td>\n",
       "      <td>...</td>\n",
       "    </tr>\n",
       "    <tr>\n",
       "      <th>354245</th>\n",
       "      <td>07/03/2016 16:37</td>\n",
       "      <td>560</td>\n",
       "      <td>small</td>\n",
       "      <td>2001</td>\n",
       "      <td>auto</td>\n",
       "      <td>170</td>\n",
       "      <td>NaN</td>\n",
       "      <td>90000</td>\n",
       "      <td>0</td>\n",
       "      <td>petrol</td>\n",
       "      <td>fiat</td>\n",
       "      <td>yes</td>\n",
       "      <td>07/03/2016 00:00</td>\n",
       "      <td>55743</td>\n",
       "      <td>12/03/2016 21:45</td>\n",
       "    </tr>\n",
       "    <tr>\n",
       "      <th>354321</th>\n",
       "      <td>15/03/2016 13:52</td>\n",
       "      <td>9400</td>\n",
       "      <td>wagon</td>\n",
       "      <td>2007</td>\n",
       "      <td>manual</td>\n",
       "      <td>200</td>\n",
       "      <td>NaN</td>\n",
       "      <td>150000</td>\n",
       "      <td>4</td>\n",
       "      <td>gasoline</td>\n",
       "      <td>sonstige_autos</td>\n",
       "      <td>yes</td>\n",
       "      <td>15/03/2016 00:00</td>\n",
       "      <td>91186</td>\n",
       "      <td>17/03/2016 08:16</td>\n",
       "    </tr>\n",
       "    <tr>\n",
       "      <th>354338</th>\n",
       "      <td>31/03/2016 19:52</td>\n",
       "      <td>180</td>\n",
       "      <td>NaN</td>\n",
       "      <td>1995</td>\n",
       "      <td>NaN</td>\n",
       "      <td>0</td>\n",
       "      <td>NaN</td>\n",
       "      <td>125000</td>\n",
       "      <td>3</td>\n",
       "      <td>petrol</td>\n",
       "      <td>opel</td>\n",
       "      <td>NaN</td>\n",
       "      <td>31/03/2016 00:00</td>\n",
       "      <td>41470</td>\n",
       "      <td>06/04/2016 14:18</td>\n",
       "    </tr>\n",
       "    <tr>\n",
       "      <th>354351</th>\n",
       "      <td>11/03/2016 23:40</td>\n",
       "      <td>1900</td>\n",
       "      <td>NaN</td>\n",
       "      <td>2000</td>\n",
       "      <td>manual</td>\n",
       "      <td>110</td>\n",
       "      <td>NaN</td>\n",
       "      <td>150000</td>\n",
       "      <td>7</td>\n",
       "      <td>NaN</td>\n",
       "      <td>volkswagen</td>\n",
       "      <td>no</td>\n",
       "      <td>11/03/2016 00:00</td>\n",
       "      <td>87700</td>\n",
       "      <td>12/03/2016 14:16</td>\n",
       "    </tr>\n",
       "    <tr>\n",
       "      <th>354365</th>\n",
       "      <td>14/03/2016 17:48</td>\n",
       "      <td>2200</td>\n",
       "      <td>NaN</td>\n",
       "      <td>2005</td>\n",
       "      <td>NaN</td>\n",
       "      <td>0</td>\n",
       "      <td>NaN</td>\n",
       "      <td>20000</td>\n",
       "      <td>1</td>\n",
       "      <td>NaN</td>\n",
       "      <td>sonstige_autos</td>\n",
       "      <td>NaN</td>\n",
       "      <td>14/03/2016 00:00</td>\n",
       "      <td>39576</td>\n",
       "      <td>06/04/2016 00:46</td>\n",
       "    </tr>\n",
       "  </tbody>\n",
       "</table>\n",
       "<p>19705 rows × 15 columns</p>\n",
       "</div>"
      ],
      "text/plain": [
       "             datecrawled  price vehicletype  registrationyear gearbox  power  \\\n",
       "1       24/03/2016 10:58  18300       coupe              2011  manual    190   \n",
       "59      29/03/2016 15:48      1         suv              1994  manual    286   \n",
       "81      03/04/2016 12:56    350       small              1997  manual     54   \n",
       "115     20/03/2016 18:53      0       small              1999     NaN      0   \n",
       "135     27/03/2016 20:51   1450       sedan              1992  manual    136   \n",
       "...                  ...    ...         ...               ...     ...    ...   \n",
       "354245  07/03/2016 16:37    560       small              2001    auto    170   \n",
       "354321  15/03/2016 13:52   9400       wagon              2007  manual    200   \n",
       "354338  31/03/2016 19:52    180         NaN              1995     NaN      0   \n",
       "354351  11/03/2016 23:40   1900         NaN              2000  manual    110   \n",
       "354365  14/03/2016 17:48   2200         NaN              2005     NaN      0   \n",
       "\n",
       "       model  mileage  registrationmonth  fueltype           brand  \\\n",
       "1        NaN   125000                  5  gasoline            audi   \n",
       "59       NaN   150000                 11       NaN  sonstige_autos   \n",
       "81       NaN   150000                  3       NaN            fiat   \n",
       "115      NaN     5000                  0    petrol      volkswagen   \n",
       "135      NaN   150000                  0       NaN            audi   \n",
       "...      ...      ...                ...       ...             ...   \n",
       "354245   NaN    90000                  0    petrol            fiat   \n",
       "354321   NaN   150000                  4  gasoline  sonstige_autos   \n",
       "354338   NaN   125000                  3    petrol            opel   \n",
       "354351   NaN   150000                  7       NaN      volkswagen   \n",
       "354365   NaN    20000                  1       NaN  sonstige_autos   \n",
       "\n",
       "       notrepaired       datecreated  postalcode          lastseen  \n",
       "1              yes  24/03/2016 00:00       66954  07/04/2016 01:46  \n",
       "59             NaN  29/03/2016 00:00       53721  06/04/2016 01:44  \n",
       "81             yes  03/04/2016 00:00       45665  05/04/2016 11:47  \n",
       "115            NaN  20/03/2016 00:00       37520  07/04/2016 02:45  \n",
       "135             no  27/03/2016 00:00       38709  05/04/2016 20:17  \n",
       "...            ...               ...         ...               ...  \n",
       "354245         yes  07/03/2016 00:00       55743  12/03/2016 21:45  \n",
       "354321         yes  15/03/2016 00:00       91186  17/03/2016 08:16  \n",
       "354338         NaN  31/03/2016 00:00       41470  06/04/2016 14:18  \n",
       "354351          no  11/03/2016 00:00       87700  12/03/2016 14:16  \n",
       "354365         NaN  14/03/2016 00:00       39576  06/04/2016 00:46  \n",
       "\n",
       "[19705 rows x 15 columns]"
      ]
     },
     "execution_count": 17,
     "metadata": {},
     "output_type": "execute_result"
    }
   ],
   "source": [
    "df[df['model'].isna()]"
   ]
  },
  {
   "cell_type": "markdown",
   "metadata": {},
   "source": [
    "#### Peso do dados ausentes"
   ]
  },
  {
   "cell_type": "code",
   "execution_count": 18,
   "metadata": {},
   "outputs": [
    {
     "data": {
      "text/plain": [
       "5.560587974681758"
      ]
     },
     "execution_count": 18,
     "metadata": {},
     "output_type": "execute_result"
    }
   ],
   "source": [
    "(df['model'].isna().sum()/len(df))*100"
   ]
  },
  {
   "cell_type": "markdown",
   "metadata": {},
   "source": [
    "Verificado que 5,6% dos dados da coluna model estão ausente"
   ]
  },
  {
   "cell_type": "markdown",
   "metadata": {},
   "source": [
    "### verificar possibilidade de  preencher o tipo de veículo de acordo com o modelo. ponto de atenção mesmo modelo pode ter diferentes tipo, por exemplo, o golf tem sedan, compacto e conversí"
   ]
  },
  {
   "cell_type": "code",
   "execution_count": 19,
   "metadata": {},
   "outputs": [
    {
     "data": {
      "text/html": [
       "<div>\n",
       "<style scoped>\n",
       "    .dataframe tbody tr th:only-of-type {\n",
       "        vertical-align: middle;\n",
       "    }\n",
       "\n",
       "    .dataframe tbody tr th {\n",
       "        vertical-align: top;\n",
       "    }\n",
       "\n",
       "    .dataframe thead th {\n",
       "        text-align: right;\n",
       "    }\n",
       "</style>\n",
       "<table border=\"1\" class=\"dataframe\">\n",
       "  <thead>\n",
       "    <tr style=\"text-align: right;\">\n",
       "      <th></th>\n",
       "      <th>datecrawled</th>\n",
       "      <th>price</th>\n",
       "      <th>vehicletype</th>\n",
       "      <th>registrationyear</th>\n",
       "      <th>gearbox</th>\n",
       "      <th>power</th>\n",
       "      <th>model</th>\n",
       "      <th>mileage</th>\n",
       "      <th>registrationmonth</th>\n",
       "      <th>fueltype</th>\n",
       "      <th>brand</th>\n",
       "      <th>notrepaired</th>\n",
       "      <th>datecreated</th>\n",
       "      <th>postalcode</th>\n",
       "      <th>lastseen</th>\n",
       "    </tr>\n",
       "  </thead>\n",
       "  <tbody>\n",
       "    <tr>\n",
       "      <th>0</th>\n",
       "      <td>24/03/2016 11:52</td>\n",
       "      <td>480</td>\n",
       "      <td>NaN</td>\n",
       "      <td>1993</td>\n",
       "      <td>manual</td>\n",
       "      <td>0</td>\n",
       "      <td>golf</td>\n",
       "      <td>150000</td>\n",
       "      <td>0</td>\n",
       "      <td>petrol</td>\n",
       "      <td>volkswagen</td>\n",
       "      <td>NaN</td>\n",
       "      <td>24/03/2016 00:00</td>\n",
       "      <td>70435</td>\n",
       "      <td>07/04/2016 03:16</td>\n",
       "    </tr>\n",
       "    <tr>\n",
       "      <th>3</th>\n",
       "      <td>17/03/2016 16:54</td>\n",
       "      <td>1500</td>\n",
       "      <td>small</td>\n",
       "      <td>2001</td>\n",
       "      <td>manual</td>\n",
       "      <td>75</td>\n",
       "      <td>golf</td>\n",
       "      <td>150000</td>\n",
       "      <td>6</td>\n",
       "      <td>petrol</td>\n",
       "      <td>volkswagen</td>\n",
       "      <td>no</td>\n",
       "      <td>17/03/2016 00:00</td>\n",
       "      <td>91074</td>\n",
       "      <td>17/03/2016 17:40</td>\n",
       "    </tr>\n",
       "    <tr>\n",
       "      <th>9</th>\n",
       "      <td>17/03/2016 10:53</td>\n",
       "      <td>999</td>\n",
       "      <td>small</td>\n",
       "      <td>1998</td>\n",
       "      <td>manual</td>\n",
       "      <td>101</td>\n",
       "      <td>golf</td>\n",
       "      <td>150000</td>\n",
       "      <td>0</td>\n",
       "      <td>NaN</td>\n",
       "      <td>volkswagen</td>\n",
       "      <td>NaN</td>\n",
       "      <td>17/03/2016 00:00</td>\n",
       "      <td>27472</td>\n",
       "      <td>31/03/2016 17:17</td>\n",
       "    </tr>\n",
       "    <tr>\n",
       "      <th>32</th>\n",
       "      <td>15/03/2016 20:59</td>\n",
       "      <td>245</td>\n",
       "      <td>sedan</td>\n",
       "      <td>1994</td>\n",
       "      <td>NaN</td>\n",
       "      <td>0</td>\n",
       "      <td>golf</td>\n",
       "      <td>150000</td>\n",
       "      <td>2</td>\n",
       "      <td>petrol</td>\n",
       "      <td>volkswagen</td>\n",
       "      <td>no</td>\n",
       "      <td>15/03/2016 00:00</td>\n",
       "      <td>44145</td>\n",
       "      <td>17/03/2016 18:17</td>\n",
       "    </tr>\n",
       "    <tr>\n",
       "      <th>35</th>\n",
       "      <td>08/03/2016 07:54</td>\n",
       "      <td>350</td>\n",
       "      <td>NaN</td>\n",
       "      <td>2016</td>\n",
       "      <td>manual</td>\n",
       "      <td>75</td>\n",
       "      <td>golf</td>\n",
       "      <td>150000</td>\n",
       "      <td>4</td>\n",
       "      <td>petrol</td>\n",
       "      <td>volkswagen</td>\n",
       "      <td>no</td>\n",
       "      <td>08/03/2016 00:00</td>\n",
       "      <td>19386</td>\n",
       "      <td>08/03/2016 09:44</td>\n",
       "    </tr>\n",
       "    <tr>\n",
       "      <th>...</th>\n",
       "      <td>...</td>\n",
       "      <td>...</td>\n",
       "      <td>...</td>\n",
       "      <td>...</td>\n",
       "      <td>...</td>\n",
       "      <td>...</td>\n",
       "      <td>...</td>\n",
       "      <td>...</td>\n",
       "      <td>...</td>\n",
       "      <td>...</td>\n",
       "      <td>...</td>\n",
       "      <td>...</td>\n",
       "      <td>...</td>\n",
       "      <td>...</td>\n",
       "      <td>...</td>\n",
       "    </tr>\n",
       "    <tr>\n",
       "      <th>354315</th>\n",
       "      <td>29/03/2016 13:53</td>\n",
       "      <td>1300</td>\n",
       "      <td>convertible</td>\n",
       "      <td>1998</td>\n",
       "      <td>manual</td>\n",
       "      <td>90</td>\n",
       "      <td>golf</td>\n",
       "      <td>150000</td>\n",
       "      <td>4</td>\n",
       "      <td>petrol</td>\n",
       "      <td>volkswagen</td>\n",
       "      <td>no</td>\n",
       "      <td>29/03/2016 00:00</td>\n",
       "      <td>38518</td>\n",
       "      <td>31/03/2016 07:15</td>\n",
       "    </tr>\n",
       "    <tr>\n",
       "      <th>354320</th>\n",
       "      <td>19/03/2016 19:39</td>\n",
       "      <td>1500</td>\n",
       "      <td>sedan</td>\n",
       "      <td>1999</td>\n",
       "      <td>manual</td>\n",
       "      <td>75</td>\n",
       "      <td>golf</td>\n",
       "      <td>150000</td>\n",
       "      <td>4</td>\n",
       "      <td>petrol</td>\n",
       "      <td>volkswagen</td>\n",
       "      <td>NaN</td>\n",
       "      <td>19/03/2016 00:00</td>\n",
       "      <td>37339</td>\n",
       "      <td>07/04/2016 07:15</td>\n",
       "    </tr>\n",
       "    <tr>\n",
       "      <th>354348</th>\n",
       "      <td>20/03/2016 18:47</td>\n",
       "      <td>5900</td>\n",
       "      <td>sedan</td>\n",
       "      <td>2006</td>\n",
       "      <td>manual</td>\n",
       "      <td>105</td>\n",
       "      <td>golf</td>\n",
       "      <td>150000</td>\n",
       "      <td>9</td>\n",
       "      <td>gasoline</td>\n",
       "      <td>volkswagen</td>\n",
       "      <td>no</td>\n",
       "      <td>20/03/2016 00:00</td>\n",
       "      <td>1217</td>\n",
       "      <td>07/04/2016 02:44</td>\n",
       "    </tr>\n",
       "    <tr>\n",
       "      <th>354359</th>\n",
       "      <td>28/03/2016 13:48</td>\n",
       "      <td>7900</td>\n",
       "      <td>sedan</td>\n",
       "      <td>2010</td>\n",
       "      <td>manual</td>\n",
       "      <td>140</td>\n",
       "      <td>golf</td>\n",
       "      <td>150000</td>\n",
       "      <td>7</td>\n",
       "      <td>gasoline</td>\n",
       "      <td>volkswagen</td>\n",
       "      <td>no</td>\n",
       "      <td>28/03/2016 00:00</td>\n",
       "      <td>75223</td>\n",
       "      <td>02/04/2016 18:16</td>\n",
       "    </tr>\n",
       "    <tr>\n",
       "      <th>354368</th>\n",
       "      <td>20/03/2016 19:41</td>\n",
       "      <td>3400</td>\n",
       "      <td>wagon</td>\n",
       "      <td>2002</td>\n",
       "      <td>manual</td>\n",
       "      <td>100</td>\n",
       "      <td>golf</td>\n",
       "      <td>150000</td>\n",
       "      <td>6</td>\n",
       "      <td>gasoline</td>\n",
       "      <td>volkswagen</td>\n",
       "      <td>NaN</td>\n",
       "      <td>20/03/2016 00:00</td>\n",
       "      <td>40764</td>\n",
       "      <td>24/03/2016 12:45</td>\n",
       "    </tr>\n",
       "  </tbody>\n",
       "</table>\n",
       "<p>29232 rows × 15 columns</p>\n",
       "</div>"
      ],
      "text/plain": [
       "             datecrawled  price  vehicletype  registrationyear gearbox  power  \\\n",
       "0       24/03/2016 11:52    480          NaN              1993  manual      0   \n",
       "3       17/03/2016 16:54   1500        small              2001  manual     75   \n",
       "9       17/03/2016 10:53    999        small              1998  manual    101   \n",
       "32      15/03/2016 20:59    245        sedan              1994     NaN      0   \n",
       "35      08/03/2016 07:54    350          NaN              2016  manual     75   \n",
       "...                  ...    ...          ...               ...     ...    ...   \n",
       "354315  29/03/2016 13:53   1300  convertible              1998  manual     90   \n",
       "354320  19/03/2016 19:39   1500        sedan              1999  manual     75   \n",
       "354348  20/03/2016 18:47   5900        sedan              2006  manual    105   \n",
       "354359  28/03/2016 13:48   7900        sedan              2010  manual    140   \n",
       "354368  20/03/2016 19:41   3400        wagon              2002  manual    100   \n",
       "\n",
       "       model  mileage  registrationmonth  fueltype       brand notrepaired  \\\n",
       "0       golf   150000                  0    petrol  volkswagen         NaN   \n",
       "3       golf   150000                  6    petrol  volkswagen          no   \n",
       "9       golf   150000                  0       NaN  volkswagen         NaN   \n",
       "32      golf   150000                  2    petrol  volkswagen          no   \n",
       "35      golf   150000                  4    petrol  volkswagen          no   \n",
       "...      ...      ...                ...       ...         ...         ...   \n",
       "354315  golf   150000                  4    petrol  volkswagen          no   \n",
       "354320  golf   150000                  4    petrol  volkswagen         NaN   \n",
       "354348  golf   150000                  9  gasoline  volkswagen          no   \n",
       "354359  golf   150000                  7  gasoline  volkswagen          no   \n",
       "354368  golf   150000                  6  gasoline  volkswagen         NaN   \n",
       "\n",
       "             datecreated  postalcode          lastseen  \n",
       "0       24/03/2016 00:00       70435  07/04/2016 03:16  \n",
       "3       17/03/2016 00:00       91074  17/03/2016 17:40  \n",
       "9       17/03/2016 00:00       27472  31/03/2016 17:17  \n",
       "32      15/03/2016 00:00       44145  17/03/2016 18:17  \n",
       "35      08/03/2016 00:00       19386  08/03/2016 09:44  \n",
       "...                  ...         ...               ...  \n",
       "354315  29/03/2016 00:00       38518  31/03/2016 07:15  \n",
       "354320  19/03/2016 00:00       37339  07/04/2016 07:15  \n",
       "354348  20/03/2016 00:00        1217  07/04/2016 02:44  \n",
       "354359  28/03/2016 00:00       75223  02/04/2016 18:16  \n",
       "354368  20/03/2016 00:00       40764  24/03/2016 12:45  \n",
       "\n",
       "[29232 rows x 15 columns]"
      ]
     },
     "execution_count": 19,
     "metadata": {},
     "output_type": "execute_result"
    }
   ],
   "source": [
    "df.loc[df['model'] == 'golf']"
   ]
  },
  {
   "cell_type": "markdown",
   "metadata": {},
   "source": [
    "### Coluna FuelType\n"
   ]
  },
  {
   "cell_type": "code",
   "execution_count": 20,
   "metadata": {},
   "outputs": [
    {
     "data": {
      "text/plain": [
       "array(['petrol', 'gasoline', nan, 'lpg', 'other', 'hybrid', 'cng',\n",
       "       'electric'], dtype=object)"
      ]
     },
     "execution_count": 20,
     "metadata": {},
     "output_type": "execute_result"
    }
   ],
   "source": [
    "df['fueltype'].unique()"
   ]
  },
  {
   "cell_type": "markdown",
   "metadata": {},
   "source": [
    "#### Verificando os dados ausetes da coluna "
   ]
  },
  {
   "cell_type": "code",
   "execution_count": 21,
   "metadata": {},
   "outputs": [
    {
     "data": {
      "text/html": [
       "<div>\n",
       "<style scoped>\n",
       "    .dataframe tbody tr th:only-of-type {\n",
       "        vertical-align: middle;\n",
       "    }\n",
       "\n",
       "    .dataframe tbody tr th {\n",
       "        vertical-align: top;\n",
       "    }\n",
       "\n",
       "    .dataframe thead th {\n",
       "        text-align: right;\n",
       "    }\n",
       "</style>\n",
       "<table border=\"1\" class=\"dataframe\">\n",
       "  <thead>\n",
       "    <tr style=\"text-align: right;\">\n",
       "      <th></th>\n",
       "      <th>datecrawled</th>\n",
       "      <th>price</th>\n",
       "      <th>vehicletype</th>\n",
       "      <th>registrationyear</th>\n",
       "      <th>gearbox</th>\n",
       "      <th>power</th>\n",
       "      <th>model</th>\n",
       "      <th>mileage</th>\n",
       "      <th>registrationmonth</th>\n",
       "      <th>fueltype</th>\n",
       "      <th>brand</th>\n",
       "      <th>notrepaired</th>\n",
       "      <th>datecreated</th>\n",
       "      <th>postalcode</th>\n",
       "      <th>lastseen</th>\n",
       "    </tr>\n",
       "  </thead>\n",
       "  <tbody>\n",
       "    <tr>\n",
       "      <th>9</th>\n",
       "      <td>17/03/2016 10:53</td>\n",
       "      <td>999</td>\n",
       "      <td>small</td>\n",
       "      <td>1998</td>\n",
       "      <td>manual</td>\n",
       "      <td>101</td>\n",
       "      <td>golf</td>\n",
       "      <td>150000</td>\n",
       "      <td>0</td>\n",
       "      <td>NaN</td>\n",
       "      <td>volkswagen</td>\n",
       "      <td>NaN</td>\n",
       "      <td>17/03/2016 00:00</td>\n",
       "      <td>27472</td>\n",
       "      <td>31/03/2016 17:17</td>\n",
       "    </tr>\n",
       "    <tr>\n",
       "      <th>13</th>\n",
       "      <td>21/03/2016 21:37</td>\n",
       "      <td>2500</td>\n",
       "      <td>wagon</td>\n",
       "      <td>2004</td>\n",
       "      <td>manual</td>\n",
       "      <td>131</td>\n",
       "      <td>passat</td>\n",
       "      <td>150000</td>\n",
       "      <td>2</td>\n",
       "      <td>NaN</td>\n",
       "      <td>volkswagen</td>\n",
       "      <td>no</td>\n",
       "      <td>21/03/2016 00:00</td>\n",
       "      <td>90762</td>\n",
       "      <td>23/03/2016 02:50</td>\n",
       "    </tr>\n",
       "    <tr>\n",
       "      <th>26</th>\n",
       "      <td>10/03/2016 19:38</td>\n",
       "      <td>5555</td>\n",
       "      <td>NaN</td>\n",
       "      <td>2017</td>\n",
       "      <td>manual</td>\n",
       "      <td>125</td>\n",
       "      <td>c4</td>\n",
       "      <td>125000</td>\n",
       "      <td>4</td>\n",
       "      <td>NaN</td>\n",
       "      <td>citroen</td>\n",
       "      <td>no</td>\n",
       "      <td>10/03/2016 00:00</td>\n",
       "      <td>31139</td>\n",
       "      <td>16/03/2016 09:16</td>\n",
       "    </tr>\n",
       "    <tr>\n",
       "      <th>36</th>\n",
       "      <td>11/03/2016 11:50</td>\n",
       "      <td>1600</td>\n",
       "      <td>other</td>\n",
       "      <td>1991</td>\n",
       "      <td>manual</td>\n",
       "      <td>75</td>\n",
       "      <td>kadett</td>\n",
       "      <td>70000</td>\n",
       "      <td>0</td>\n",
       "      <td>NaN</td>\n",
       "      <td>opel</td>\n",
       "      <td>NaN</td>\n",
       "      <td>11/03/2016 00:00</td>\n",
       "      <td>2943</td>\n",
       "      <td>07/04/2016 03:46</td>\n",
       "    </tr>\n",
       "    <tr>\n",
       "      <th>41</th>\n",
       "      <td>30/03/2016 20:38</td>\n",
       "      <td>7500</td>\n",
       "      <td>sedan</td>\n",
       "      <td>2002</td>\n",
       "      <td>auto</td>\n",
       "      <td>306</td>\n",
       "      <td>e_klasse</td>\n",
       "      <td>150000</td>\n",
       "      <td>4</td>\n",
       "      <td>NaN</td>\n",
       "      <td>mercedes_benz</td>\n",
       "      <td>NaN</td>\n",
       "      <td>30/03/2016 00:00</td>\n",
       "      <td>33649</td>\n",
       "      <td>03/04/2016 11:44</td>\n",
       "    </tr>\n",
       "    <tr>\n",
       "      <th>...</th>\n",
       "      <td>...</td>\n",
       "      <td>...</td>\n",
       "      <td>...</td>\n",
       "      <td>...</td>\n",
       "      <td>...</td>\n",
       "      <td>...</td>\n",
       "      <td>...</td>\n",
       "      <td>...</td>\n",
       "      <td>...</td>\n",
       "      <td>...</td>\n",
       "      <td>...</td>\n",
       "      <td>...</td>\n",
       "      <td>...</td>\n",
       "      <td>...</td>\n",
       "      <td>...</td>\n",
       "    </tr>\n",
       "    <tr>\n",
       "      <th>354339</th>\n",
       "      <td>20/03/2016 12:46</td>\n",
       "      <td>3850</td>\n",
       "      <td>convertible</td>\n",
       "      <td>2006</td>\n",
       "      <td>manual</td>\n",
       "      <td>108</td>\n",
       "      <td>2_reihe</td>\n",
       "      <td>125000</td>\n",
       "      <td>2</td>\n",
       "      <td>NaN</td>\n",
       "      <td>peugeot</td>\n",
       "      <td>no</td>\n",
       "      <td>20/03/2016 00:00</td>\n",
       "      <td>53947</td>\n",
       "      <td>26/03/2016 21:18</td>\n",
       "    </tr>\n",
       "    <tr>\n",
       "      <th>354346</th>\n",
       "      <td>07/03/2016 17:06</td>\n",
       "      <td>2600</td>\n",
       "      <td>NaN</td>\n",
       "      <td>2005</td>\n",
       "      <td>auto</td>\n",
       "      <td>0</td>\n",
       "      <td>c_klasse</td>\n",
       "      <td>150000</td>\n",
       "      <td>9</td>\n",
       "      <td>NaN</td>\n",
       "      <td>mercedes_benz</td>\n",
       "      <td>NaN</td>\n",
       "      <td>07/03/2016 00:00</td>\n",
       "      <td>61169</td>\n",
       "      <td>08/03/2016 21:28</td>\n",
       "    </tr>\n",
       "    <tr>\n",
       "      <th>354351</th>\n",
       "      <td>11/03/2016 23:40</td>\n",
       "      <td>1900</td>\n",
       "      <td>NaN</td>\n",
       "      <td>2000</td>\n",
       "      <td>manual</td>\n",
       "      <td>110</td>\n",
       "      <td>NaN</td>\n",
       "      <td>150000</td>\n",
       "      <td>7</td>\n",
       "      <td>NaN</td>\n",
       "      <td>volkswagen</td>\n",
       "      <td>no</td>\n",
       "      <td>11/03/2016 00:00</td>\n",
       "      <td>87700</td>\n",
       "      <td>12/03/2016 14:16</td>\n",
       "    </tr>\n",
       "    <tr>\n",
       "      <th>354361</th>\n",
       "      <td>09/03/2016 13:37</td>\n",
       "      <td>5250</td>\n",
       "      <td>NaN</td>\n",
       "      <td>2016</td>\n",
       "      <td>auto</td>\n",
       "      <td>150</td>\n",
       "      <td>159</td>\n",
       "      <td>150000</td>\n",
       "      <td>12</td>\n",
       "      <td>NaN</td>\n",
       "      <td>alfa_romeo</td>\n",
       "      <td>no</td>\n",
       "      <td>09/03/2016 00:00</td>\n",
       "      <td>51371</td>\n",
       "      <td>13/03/2016 01:44</td>\n",
       "    </tr>\n",
       "    <tr>\n",
       "      <th>354365</th>\n",
       "      <td>14/03/2016 17:48</td>\n",
       "      <td>2200</td>\n",
       "      <td>NaN</td>\n",
       "      <td>2005</td>\n",
       "      <td>NaN</td>\n",
       "      <td>0</td>\n",
       "      <td>NaN</td>\n",
       "      <td>20000</td>\n",
       "      <td>1</td>\n",
       "      <td>NaN</td>\n",
       "      <td>sonstige_autos</td>\n",
       "      <td>NaN</td>\n",
       "      <td>14/03/2016 00:00</td>\n",
       "      <td>39576</td>\n",
       "      <td>06/04/2016 00:46</td>\n",
       "    </tr>\n",
       "  </tbody>\n",
       "</table>\n",
       "<p>32895 rows × 15 columns</p>\n",
       "</div>"
      ],
      "text/plain": [
       "             datecrawled  price  vehicletype  registrationyear gearbox  power  \\\n",
       "9       17/03/2016 10:53    999        small              1998  manual    101   \n",
       "13      21/03/2016 21:37   2500        wagon              2004  manual    131   \n",
       "26      10/03/2016 19:38   5555          NaN              2017  manual    125   \n",
       "36      11/03/2016 11:50   1600        other              1991  manual     75   \n",
       "41      30/03/2016 20:38   7500        sedan              2002    auto    306   \n",
       "...                  ...    ...          ...               ...     ...    ...   \n",
       "354339  20/03/2016 12:46   3850  convertible              2006  manual    108   \n",
       "354346  07/03/2016 17:06   2600          NaN              2005    auto      0   \n",
       "354351  11/03/2016 23:40   1900          NaN              2000  manual    110   \n",
       "354361  09/03/2016 13:37   5250          NaN              2016    auto    150   \n",
       "354365  14/03/2016 17:48   2200          NaN              2005     NaN      0   \n",
       "\n",
       "           model  mileage  registrationmonth fueltype           brand  \\\n",
       "9           golf   150000                  0      NaN      volkswagen   \n",
       "13        passat   150000                  2      NaN      volkswagen   \n",
       "26            c4   125000                  4      NaN         citroen   \n",
       "36        kadett    70000                  0      NaN            opel   \n",
       "41      e_klasse   150000                  4      NaN   mercedes_benz   \n",
       "...          ...      ...                ...      ...             ...   \n",
       "354339   2_reihe   125000                  2      NaN         peugeot   \n",
       "354346  c_klasse   150000                  9      NaN   mercedes_benz   \n",
       "354351       NaN   150000                  7      NaN      volkswagen   \n",
       "354361       159   150000                 12      NaN      alfa_romeo   \n",
       "354365       NaN    20000                  1      NaN  sonstige_autos   \n",
       "\n",
       "       notrepaired       datecreated  postalcode          lastseen  \n",
       "9              NaN  17/03/2016 00:00       27472  31/03/2016 17:17  \n",
       "13              no  21/03/2016 00:00       90762  23/03/2016 02:50  \n",
       "26              no  10/03/2016 00:00       31139  16/03/2016 09:16  \n",
       "36             NaN  11/03/2016 00:00        2943  07/04/2016 03:46  \n",
       "41             NaN  30/03/2016 00:00       33649  03/04/2016 11:44  \n",
       "...            ...               ...         ...               ...  \n",
       "354339          no  20/03/2016 00:00       53947  26/03/2016 21:18  \n",
       "354346         NaN  07/03/2016 00:00       61169  08/03/2016 21:28  \n",
       "354351          no  11/03/2016 00:00       87700  12/03/2016 14:16  \n",
       "354361          no  09/03/2016 00:00       51371  13/03/2016 01:44  \n",
       "354365         NaN  14/03/2016 00:00       39576  06/04/2016 00:46  \n",
       "\n",
       "[32895 rows x 15 columns]"
      ]
     },
     "execution_count": 21,
     "metadata": {},
     "output_type": "execute_result"
    }
   ],
   "source": [
    "df[df['fueltype'].isna()]"
   ]
  },
  {
   "cell_type": "markdown",
   "metadata": {},
   "source": [
    "#### Peso do dados ausentes"
   ]
  },
  {
   "cell_type": "code",
   "execution_count": 22,
   "metadata": {},
   "outputs": [
    {
     "data": {
      "text/plain": [
       "9.282696849893755"
      ]
     },
     "execution_count": 22,
     "metadata": {},
     "output_type": "execute_result"
    }
   ],
   "source": [
    "(df['fueltype'].isna().sum()/len(df))*100"
   ]
  },
  {
   "cell_type": "markdown",
   "metadata": {},
   "source": [
    "Verificado que 9,2% dos dados da coluna fueltype estão ausente"
   ]
  },
  {
   "cell_type": "markdown",
   "metadata": {},
   "source": [
    "### Coluna NotRepaired"
   ]
  },
  {
   "cell_type": "code",
   "execution_count": 23,
   "metadata": {},
   "outputs": [
    {
     "data": {
      "text/plain": [
       "array([nan, 'yes', 'no'], dtype=object)"
      ]
     },
     "execution_count": 23,
     "metadata": {},
     "output_type": "execute_result"
    }
   ],
   "source": [
    "df['notrepaired'].unique()"
   ]
  },
  {
   "cell_type": "markdown",
   "metadata": {},
   "source": [
    "#### Verificando os dados ausetes da coluna \n"
   ]
  },
  {
   "cell_type": "code",
   "execution_count": 24,
   "metadata": {},
   "outputs": [
    {
     "data": {
      "text/html": [
       "<div>\n",
       "<style scoped>\n",
       "    .dataframe tbody tr th:only-of-type {\n",
       "        vertical-align: middle;\n",
       "    }\n",
       "\n",
       "    .dataframe tbody tr th {\n",
       "        vertical-align: top;\n",
       "    }\n",
       "\n",
       "    .dataframe thead th {\n",
       "        text-align: right;\n",
       "    }\n",
       "</style>\n",
       "<table border=\"1\" class=\"dataframe\">\n",
       "  <thead>\n",
       "    <tr style=\"text-align: right;\">\n",
       "      <th></th>\n",
       "      <th>datecrawled</th>\n",
       "      <th>price</th>\n",
       "      <th>vehicletype</th>\n",
       "      <th>registrationyear</th>\n",
       "      <th>gearbox</th>\n",
       "      <th>power</th>\n",
       "      <th>model</th>\n",
       "      <th>mileage</th>\n",
       "      <th>registrationmonth</th>\n",
       "      <th>fueltype</th>\n",
       "      <th>brand</th>\n",
       "      <th>notrepaired</th>\n",
       "      <th>datecreated</th>\n",
       "      <th>postalcode</th>\n",
       "      <th>lastseen</th>\n",
       "    </tr>\n",
       "  </thead>\n",
       "  <tbody>\n",
       "    <tr>\n",
       "      <th>0</th>\n",
       "      <td>24/03/2016 11:52</td>\n",
       "      <td>480</td>\n",
       "      <td>NaN</td>\n",
       "      <td>1993</td>\n",
       "      <td>manual</td>\n",
       "      <td>0</td>\n",
       "      <td>golf</td>\n",
       "      <td>150000</td>\n",
       "      <td>0</td>\n",
       "      <td>petrol</td>\n",
       "      <td>volkswagen</td>\n",
       "      <td>NaN</td>\n",
       "      <td>24/03/2016 00:00</td>\n",
       "      <td>70435</td>\n",
       "      <td>07/04/2016 03:16</td>\n",
       "    </tr>\n",
       "    <tr>\n",
       "      <th>2</th>\n",
       "      <td>14/03/2016 12:52</td>\n",
       "      <td>9800</td>\n",
       "      <td>suv</td>\n",
       "      <td>2004</td>\n",
       "      <td>auto</td>\n",
       "      <td>163</td>\n",
       "      <td>grand</td>\n",
       "      <td>125000</td>\n",
       "      <td>8</td>\n",
       "      <td>gasoline</td>\n",
       "      <td>jeep</td>\n",
       "      <td>NaN</td>\n",
       "      <td>14/03/2016 00:00</td>\n",
       "      <td>90480</td>\n",
       "      <td>05/04/2016 12:47</td>\n",
       "    </tr>\n",
       "    <tr>\n",
       "      <th>8</th>\n",
       "      <td>04/04/2016 23:42</td>\n",
       "      <td>14500</td>\n",
       "      <td>bus</td>\n",
       "      <td>2014</td>\n",
       "      <td>manual</td>\n",
       "      <td>125</td>\n",
       "      <td>c_max</td>\n",
       "      <td>30000</td>\n",
       "      <td>8</td>\n",
       "      <td>petrol</td>\n",
       "      <td>ford</td>\n",
       "      <td>NaN</td>\n",
       "      <td>04/04/2016 00:00</td>\n",
       "      <td>94505</td>\n",
       "      <td>04/04/2016 23:42</td>\n",
       "    </tr>\n",
       "    <tr>\n",
       "      <th>9</th>\n",
       "      <td>17/03/2016 10:53</td>\n",
       "      <td>999</td>\n",
       "      <td>small</td>\n",
       "      <td>1998</td>\n",
       "      <td>manual</td>\n",
       "      <td>101</td>\n",
       "      <td>golf</td>\n",
       "      <td>150000</td>\n",
       "      <td>0</td>\n",
       "      <td>NaN</td>\n",
       "      <td>volkswagen</td>\n",
       "      <td>NaN</td>\n",
       "      <td>17/03/2016 00:00</td>\n",
       "      <td>27472</td>\n",
       "      <td>31/03/2016 17:17</td>\n",
       "    </tr>\n",
       "    <tr>\n",
       "      <th>12</th>\n",
       "      <td>15/03/2016 22:49</td>\n",
       "      <td>999</td>\n",
       "      <td>wagon</td>\n",
       "      <td>1995</td>\n",
       "      <td>manual</td>\n",
       "      <td>115</td>\n",
       "      <td>passat</td>\n",
       "      <td>150000</td>\n",
       "      <td>11</td>\n",
       "      <td>petrol</td>\n",
       "      <td>volkswagen</td>\n",
       "      <td>NaN</td>\n",
       "      <td>15/03/2016 00:00</td>\n",
       "      <td>37269</td>\n",
       "      <td>01/04/2016 13:16</td>\n",
       "    </tr>\n",
       "    <tr>\n",
       "      <th>...</th>\n",
       "      <td>...</td>\n",
       "      <td>...</td>\n",
       "      <td>...</td>\n",
       "      <td>...</td>\n",
       "      <td>...</td>\n",
       "      <td>...</td>\n",
       "      <td>...</td>\n",
       "      <td>...</td>\n",
       "      <td>...</td>\n",
       "      <td>...</td>\n",
       "      <td>...</td>\n",
       "      <td>...</td>\n",
       "      <td>...</td>\n",
       "      <td>...</td>\n",
       "      <td>...</td>\n",
       "    </tr>\n",
       "    <tr>\n",
       "      <th>354349</th>\n",
       "      <td>16/03/2016 17:06</td>\n",
       "      <td>5999</td>\n",
       "      <td>wagon</td>\n",
       "      <td>2005</td>\n",
       "      <td>manual</td>\n",
       "      <td>140</td>\n",
       "      <td>a4</td>\n",
       "      <td>150000</td>\n",
       "      <td>4</td>\n",
       "      <td>gasoline</td>\n",
       "      <td>audi</td>\n",
       "      <td>NaN</td>\n",
       "      <td>16/03/2016 00:00</td>\n",
       "      <td>56472</td>\n",
       "      <td>18/03/2016 11:30</td>\n",
       "    </tr>\n",
       "    <tr>\n",
       "      <th>354356</th>\n",
       "      <td>04/04/2016 11:45</td>\n",
       "      <td>999</td>\n",
       "      <td>convertible</td>\n",
       "      <td>2000</td>\n",
       "      <td>manual</td>\n",
       "      <td>95</td>\n",
       "      <td>megane</td>\n",
       "      <td>150000</td>\n",
       "      <td>4</td>\n",
       "      <td>petrol</td>\n",
       "      <td>renault</td>\n",
       "      <td>NaN</td>\n",
       "      <td>04/04/2016 00:00</td>\n",
       "      <td>88477</td>\n",
       "      <td>06/04/2016 12:44</td>\n",
       "    </tr>\n",
       "    <tr>\n",
       "      <th>354357</th>\n",
       "      <td>09/03/2016 11:36</td>\n",
       "      <td>1690</td>\n",
       "      <td>wagon</td>\n",
       "      <td>2004</td>\n",
       "      <td>manual</td>\n",
       "      <td>55</td>\n",
       "      <td>fabia</td>\n",
       "      <td>150000</td>\n",
       "      <td>4</td>\n",
       "      <td>petrol</td>\n",
       "      <td>skoda</td>\n",
       "      <td>NaN</td>\n",
       "      <td>09/03/2016 00:00</td>\n",
       "      <td>18246</td>\n",
       "      <td>04/04/2016 08:15</td>\n",
       "    </tr>\n",
       "    <tr>\n",
       "      <th>354365</th>\n",
       "      <td>14/03/2016 17:48</td>\n",
       "      <td>2200</td>\n",
       "      <td>NaN</td>\n",
       "      <td>2005</td>\n",
       "      <td>NaN</td>\n",
       "      <td>0</td>\n",
       "      <td>NaN</td>\n",
       "      <td>20000</td>\n",
       "      <td>1</td>\n",
       "      <td>NaN</td>\n",
       "      <td>sonstige_autos</td>\n",
       "      <td>NaN</td>\n",
       "      <td>14/03/2016 00:00</td>\n",
       "      <td>39576</td>\n",
       "      <td>06/04/2016 00:46</td>\n",
       "    </tr>\n",
       "    <tr>\n",
       "      <th>354368</th>\n",
       "      <td>20/03/2016 19:41</td>\n",
       "      <td>3400</td>\n",
       "      <td>wagon</td>\n",
       "      <td>2002</td>\n",
       "      <td>manual</td>\n",
       "      <td>100</td>\n",
       "      <td>golf</td>\n",
       "      <td>150000</td>\n",
       "      <td>6</td>\n",
       "      <td>gasoline</td>\n",
       "      <td>volkswagen</td>\n",
       "      <td>NaN</td>\n",
       "      <td>20/03/2016 00:00</td>\n",
       "      <td>40764</td>\n",
       "      <td>24/03/2016 12:45</td>\n",
       "    </tr>\n",
       "  </tbody>\n",
       "</table>\n",
       "<p>71154 rows × 15 columns</p>\n",
       "</div>"
      ],
      "text/plain": [
       "             datecrawled  price  vehicletype  registrationyear gearbox  power  \\\n",
       "0       24/03/2016 11:52    480          NaN              1993  manual      0   \n",
       "2       14/03/2016 12:52   9800          suv              2004    auto    163   \n",
       "8       04/04/2016 23:42  14500          bus              2014  manual    125   \n",
       "9       17/03/2016 10:53    999        small              1998  manual    101   \n",
       "12      15/03/2016 22:49    999        wagon              1995  manual    115   \n",
       "...                  ...    ...          ...               ...     ...    ...   \n",
       "354349  16/03/2016 17:06   5999        wagon              2005  manual    140   \n",
       "354356  04/04/2016 11:45    999  convertible              2000  manual     95   \n",
       "354357  09/03/2016 11:36   1690        wagon              2004  manual     55   \n",
       "354365  14/03/2016 17:48   2200          NaN              2005     NaN      0   \n",
       "354368  20/03/2016 19:41   3400        wagon              2002  manual    100   \n",
       "\n",
       "         model  mileage  registrationmonth  fueltype           brand  \\\n",
       "0         golf   150000                  0    petrol      volkswagen   \n",
       "2        grand   125000                  8  gasoline            jeep   \n",
       "8        c_max    30000                  8    petrol            ford   \n",
       "9         golf   150000                  0       NaN      volkswagen   \n",
       "12      passat   150000                 11    petrol      volkswagen   \n",
       "...        ...      ...                ...       ...             ...   \n",
       "354349      a4   150000                  4  gasoline            audi   \n",
       "354356  megane   150000                  4    petrol         renault   \n",
       "354357   fabia   150000                  4    petrol           skoda   \n",
       "354365     NaN    20000                  1       NaN  sonstige_autos   \n",
       "354368    golf   150000                  6  gasoline      volkswagen   \n",
       "\n",
       "       notrepaired       datecreated  postalcode          lastseen  \n",
       "0              NaN  24/03/2016 00:00       70435  07/04/2016 03:16  \n",
       "2              NaN  14/03/2016 00:00       90480  05/04/2016 12:47  \n",
       "8              NaN  04/04/2016 00:00       94505  04/04/2016 23:42  \n",
       "9              NaN  17/03/2016 00:00       27472  31/03/2016 17:17  \n",
       "12             NaN  15/03/2016 00:00       37269  01/04/2016 13:16  \n",
       "...            ...               ...         ...               ...  \n",
       "354349         NaN  16/03/2016 00:00       56472  18/03/2016 11:30  \n",
       "354356         NaN  04/04/2016 00:00       88477  06/04/2016 12:44  \n",
       "354357         NaN  09/03/2016 00:00       18246  04/04/2016 08:15  \n",
       "354365         NaN  14/03/2016 00:00       39576  06/04/2016 00:46  \n",
       "354368         NaN  20/03/2016 00:00       40764  24/03/2016 12:45  \n",
       "\n",
       "[71154 rows x 15 columns]"
      ]
     },
     "execution_count": 24,
     "metadata": {},
     "output_type": "execute_result"
    }
   ],
   "source": [
    "df[df['notrepaired'].isna()]"
   ]
  },
  {
   "cell_type": "markdown",
   "metadata": {},
   "source": [
    "#### Peso do dados ausentes"
   ]
  },
  {
   "cell_type": "code",
   "execution_count": 25,
   "metadata": {},
   "outputs": [
    {
     "data": {
      "text/plain": [
       "20.079070121822166"
      ]
     },
     "execution_count": 25,
     "metadata": {},
     "output_type": "execute_result"
    }
   ],
   "source": [
    "(df['notrepaired'].isna().sum()/len(df))*100"
   ]
  },
  {
   "cell_type": "markdown",
   "metadata": {},
   "source": [
    "Verificado que 20,7% dos dados da coluna notrepaired estão ausente"
   ]
  },
  {
   "cell_type": "markdown",
   "metadata": {},
   "source": [
    "### Coluna Price\n"
   ]
  },
  {
   "cell_type": "code",
   "execution_count": 26,
   "metadata": {},
   "outputs": [
    {
     "data": {
      "text/html": [
       "<div>\n",
       "<style scoped>\n",
       "    .dataframe tbody tr th:only-of-type {\n",
       "        vertical-align: middle;\n",
       "    }\n",
       "\n",
       "    .dataframe tbody tr th {\n",
       "        vertical-align: top;\n",
       "    }\n",
       "\n",
       "    .dataframe thead th {\n",
       "        text-align: right;\n",
       "    }\n",
       "</style>\n",
       "<table border=\"1\" class=\"dataframe\">\n",
       "  <thead>\n",
       "    <tr style=\"text-align: right;\">\n",
       "      <th></th>\n",
       "      <th>datecrawled</th>\n",
       "      <th>price</th>\n",
       "      <th>vehicletype</th>\n",
       "      <th>registrationyear</th>\n",
       "      <th>gearbox</th>\n",
       "      <th>power</th>\n",
       "      <th>model</th>\n",
       "      <th>mileage</th>\n",
       "      <th>registrationmonth</th>\n",
       "      <th>fueltype</th>\n",
       "      <th>brand</th>\n",
       "      <th>notrepaired</th>\n",
       "      <th>datecreated</th>\n",
       "      <th>postalcode</th>\n",
       "      <th>lastseen</th>\n",
       "    </tr>\n",
       "  </thead>\n",
       "  <tbody>\n",
       "    <tr>\n",
       "      <th>7</th>\n",
       "      <td>21/03/2016 18:54</td>\n",
       "      <td>0</td>\n",
       "      <td>sedan</td>\n",
       "      <td>1980</td>\n",
       "      <td>manual</td>\n",
       "      <td>50</td>\n",
       "      <td>other</td>\n",
       "      <td>40000</td>\n",
       "      <td>7</td>\n",
       "      <td>petrol</td>\n",
       "      <td>volkswagen</td>\n",
       "      <td>no</td>\n",
       "      <td>21/03/2016 00:00</td>\n",
       "      <td>19348</td>\n",
       "      <td>25/03/2016 16:47</td>\n",
       "    </tr>\n",
       "    <tr>\n",
       "      <th>40</th>\n",
       "      <td>26/03/2016 22:06</td>\n",
       "      <td>0</td>\n",
       "      <td>NaN</td>\n",
       "      <td>1990</td>\n",
       "      <td>NaN</td>\n",
       "      <td>0</td>\n",
       "      <td>corsa</td>\n",
       "      <td>150000</td>\n",
       "      <td>1</td>\n",
       "      <td>petrol</td>\n",
       "      <td>opel</td>\n",
       "      <td>NaN</td>\n",
       "      <td>26/03/2016 00:00</td>\n",
       "      <td>56412</td>\n",
       "      <td>27/03/2016 17:43</td>\n",
       "    </tr>\n",
       "    <tr>\n",
       "      <th>111</th>\n",
       "      <td>19/03/2016 18:40</td>\n",
       "      <td>0</td>\n",
       "      <td>NaN</td>\n",
       "      <td>2017</td>\n",
       "      <td>manual</td>\n",
       "      <td>0</td>\n",
       "      <td>golf</td>\n",
       "      <td>5000</td>\n",
       "      <td>12</td>\n",
       "      <td>petrol</td>\n",
       "      <td>volkswagen</td>\n",
       "      <td>NaN</td>\n",
       "      <td>19/03/2016 00:00</td>\n",
       "      <td>21698</td>\n",
       "      <td>01/04/2016 08:47</td>\n",
       "    </tr>\n",
       "    <tr>\n",
       "      <th>115</th>\n",
       "      <td>20/03/2016 18:53</td>\n",
       "      <td>0</td>\n",
       "      <td>small</td>\n",
       "      <td>1999</td>\n",
       "      <td>NaN</td>\n",
       "      <td>0</td>\n",
       "      <td>NaN</td>\n",
       "      <td>5000</td>\n",
       "      <td>0</td>\n",
       "      <td>petrol</td>\n",
       "      <td>volkswagen</td>\n",
       "      <td>NaN</td>\n",
       "      <td>20/03/2016 00:00</td>\n",
       "      <td>37520</td>\n",
       "      <td>07/04/2016 02:45</td>\n",
       "    </tr>\n",
       "    <tr>\n",
       "      <th>152</th>\n",
       "      <td>11/03/2016 18:55</td>\n",
       "      <td>0</td>\n",
       "      <td>bus</td>\n",
       "      <td>2004</td>\n",
       "      <td>manual</td>\n",
       "      <td>101</td>\n",
       "      <td>meriva</td>\n",
       "      <td>150000</td>\n",
       "      <td>10</td>\n",
       "      <td>lpg</td>\n",
       "      <td>opel</td>\n",
       "      <td>yes</td>\n",
       "      <td>11/03/2016 00:00</td>\n",
       "      <td>27432</td>\n",
       "      <td>12/03/2016 23:47</td>\n",
       "    </tr>\n",
       "    <tr>\n",
       "      <th>...</th>\n",
       "      <td>...</td>\n",
       "      <td>...</td>\n",
       "      <td>...</td>\n",
       "      <td>...</td>\n",
       "      <td>...</td>\n",
       "      <td>...</td>\n",
       "      <td>...</td>\n",
       "      <td>...</td>\n",
       "      <td>...</td>\n",
       "      <td>...</td>\n",
       "      <td>...</td>\n",
       "      <td>...</td>\n",
       "      <td>...</td>\n",
       "      <td>...</td>\n",
       "      <td>...</td>\n",
       "    </tr>\n",
       "    <tr>\n",
       "      <th>354205</th>\n",
       "      <td>09/03/2016 15:56</td>\n",
       "      <td>0</td>\n",
       "      <td>NaN</td>\n",
       "      <td>2000</td>\n",
       "      <td>manual</td>\n",
       "      <td>65</td>\n",
       "      <td>corsa</td>\n",
       "      <td>150000</td>\n",
       "      <td>0</td>\n",
       "      <td>NaN</td>\n",
       "      <td>opel</td>\n",
       "      <td>yes</td>\n",
       "      <td>09/03/2016 00:00</td>\n",
       "      <td>23758</td>\n",
       "      <td>30/03/2016 11:16</td>\n",
       "    </tr>\n",
       "    <tr>\n",
       "      <th>354238</th>\n",
       "      <td>20/03/2016 14:55</td>\n",
       "      <td>0</td>\n",
       "      <td>small</td>\n",
       "      <td>2002</td>\n",
       "      <td>manual</td>\n",
       "      <td>60</td>\n",
       "      <td>fiesta</td>\n",
       "      <td>150000</td>\n",
       "      <td>3</td>\n",
       "      <td>petrol</td>\n",
       "      <td>ford</td>\n",
       "      <td>NaN</td>\n",
       "      <td>20/03/2016 00:00</td>\n",
       "      <td>33659</td>\n",
       "      <td>06/04/2016 18:45</td>\n",
       "    </tr>\n",
       "    <tr>\n",
       "      <th>354248</th>\n",
       "      <td>24/03/2016 13:48</td>\n",
       "      <td>0</td>\n",
       "      <td>small</td>\n",
       "      <td>1999</td>\n",
       "      <td>manual</td>\n",
       "      <td>53</td>\n",
       "      <td>swift</td>\n",
       "      <td>150000</td>\n",
       "      <td>3</td>\n",
       "      <td>petrol</td>\n",
       "      <td>suzuki</td>\n",
       "      <td>NaN</td>\n",
       "      <td>24/03/2016 00:00</td>\n",
       "      <td>42329</td>\n",
       "      <td>07/04/2016 05:17</td>\n",
       "    </tr>\n",
       "    <tr>\n",
       "      <th>354277</th>\n",
       "      <td>10/03/2016 22:55</td>\n",
       "      <td>0</td>\n",
       "      <td>small</td>\n",
       "      <td>1999</td>\n",
       "      <td>manual</td>\n",
       "      <td>37</td>\n",
       "      <td>arosa</td>\n",
       "      <td>150000</td>\n",
       "      <td>7</td>\n",
       "      <td>petrol</td>\n",
       "      <td>seat</td>\n",
       "      <td>yes</td>\n",
       "      <td>10/03/2016 00:00</td>\n",
       "      <td>22559</td>\n",
       "      <td>12/03/2016 23:46</td>\n",
       "    </tr>\n",
       "    <tr>\n",
       "      <th>354364</th>\n",
       "      <td>21/03/2016 09:50</td>\n",
       "      <td>0</td>\n",
       "      <td>NaN</td>\n",
       "      <td>2005</td>\n",
       "      <td>manual</td>\n",
       "      <td>0</td>\n",
       "      <td>colt</td>\n",
       "      <td>150000</td>\n",
       "      <td>7</td>\n",
       "      <td>petrol</td>\n",
       "      <td>mitsubishi</td>\n",
       "      <td>yes</td>\n",
       "      <td>21/03/2016 00:00</td>\n",
       "      <td>2694</td>\n",
       "      <td>21/03/2016 10:42</td>\n",
       "    </tr>\n",
       "  </tbody>\n",
       "</table>\n",
       "<p>10772 rows × 15 columns</p>\n",
       "</div>"
      ],
      "text/plain": [
       "             datecrawled  price vehicletype  registrationyear gearbox  power  \\\n",
       "7       21/03/2016 18:54      0       sedan              1980  manual     50   \n",
       "40      26/03/2016 22:06      0         NaN              1990     NaN      0   \n",
       "111     19/03/2016 18:40      0         NaN              2017  manual      0   \n",
       "115     20/03/2016 18:53      0       small              1999     NaN      0   \n",
       "152     11/03/2016 18:55      0         bus              2004  manual    101   \n",
       "...                  ...    ...         ...               ...     ...    ...   \n",
       "354205  09/03/2016 15:56      0         NaN              2000  manual     65   \n",
       "354238  20/03/2016 14:55      0       small              2002  manual     60   \n",
       "354248  24/03/2016 13:48      0       small              1999  manual     53   \n",
       "354277  10/03/2016 22:55      0       small              1999  manual     37   \n",
       "354364  21/03/2016 09:50      0         NaN              2005  manual      0   \n",
       "\n",
       "         model  mileage  registrationmonth fueltype       brand notrepaired  \\\n",
       "7        other    40000                  7   petrol  volkswagen          no   \n",
       "40       corsa   150000                  1   petrol        opel         NaN   \n",
       "111       golf     5000                 12   petrol  volkswagen         NaN   \n",
       "115        NaN     5000                  0   petrol  volkswagen         NaN   \n",
       "152     meriva   150000                 10      lpg        opel         yes   \n",
       "...        ...      ...                ...      ...         ...         ...   \n",
       "354205   corsa   150000                  0      NaN        opel         yes   \n",
       "354238  fiesta   150000                  3   petrol        ford         NaN   \n",
       "354248   swift   150000                  3   petrol      suzuki         NaN   \n",
       "354277   arosa   150000                  7   petrol        seat         yes   \n",
       "354364    colt   150000                  7   petrol  mitsubishi         yes   \n",
       "\n",
       "             datecreated  postalcode          lastseen  \n",
       "7       21/03/2016 00:00       19348  25/03/2016 16:47  \n",
       "40      26/03/2016 00:00       56412  27/03/2016 17:43  \n",
       "111     19/03/2016 00:00       21698  01/04/2016 08:47  \n",
       "115     20/03/2016 00:00       37520  07/04/2016 02:45  \n",
       "152     11/03/2016 00:00       27432  12/03/2016 23:47  \n",
       "...                  ...         ...               ...  \n",
       "354205  09/03/2016 00:00       23758  30/03/2016 11:16  \n",
       "354238  20/03/2016 00:00       33659  06/04/2016 18:45  \n",
       "354248  24/03/2016 00:00       42329  07/04/2016 05:17  \n",
       "354277  10/03/2016 00:00       22559  12/03/2016 23:46  \n",
       "354364  21/03/2016 00:00        2694  21/03/2016 10:42  \n",
       "\n",
       "[10772 rows x 15 columns]"
      ]
     },
     "execution_count": 26,
     "metadata": {},
     "output_type": "execute_result"
    }
   ],
   "source": [
    "df[df['price'] == 0]"
   ]
  },
  {
   "cell_type": "markdown",
   "metadata": {},
   "source": [
    "#### Peso do dados ausentes"
   ]
  },
  {
   "cell_type": "code",
   "execution_count": 27,
   "metadata": {},
   "outputs": [
    {
     "data": {
      "text/plain": [
       "3.0397692800442475"
      ]
     },
     "execution_count": 27,
     "metadata": {},
     "output_type": "execute_result"
    }
   ],
   "source": [
    "(len(df[df['price'] == 0])/len(df))*100"
   ]
  },
  {
   "cell_type": "markdown",
   "metadata": {},
   "source": [
    "Verificado que 3% dos dados da coluna Price estão com valor zero."
   ]
  },
  {
   "cell_type": "markdown",
   "metadata": {},
   "source": [
    "### Verificação de outliers"
   ]
  },
  {
   "cell_type": "markdown",
   "metadata": {},
   "source": [
    "#### Observando dataset"
   ]
  },
  {
   "cell_type": "code",
   "execution_count": 28,
   "metadata": {},
   "outputs": [
    {
     "data": {
      "text/html": [
       "<div>\n",
       "<style scoped>\n",
       "    .dataframe tbody tr th:only-of-type {\n",
       "        vertical-align: middle;\n",
       "    }\n",
       "\n",
       "    .dataframe tbody tr th {\n",
       "        vertical-align: top;\n",
       "    }\n",
       "\n",
       "    .dataframe thead th {\n",
       "        text-align: right;\n",
       "    }\n",
       "</style>\n",
       "<table border=\"1\" class=\"dataframe\">\n",
       "  <thead>\n",
       "    <tr style=\"text-align: right;\">\n",
       "      <th></th>\n",
       "      <th>datecrawled</th>\n",
       "      <th>price</th>\n",
       "      <th>vehicletype</th>\n",
       "      <th>registrationyear</th>\n",
       "      <th>gearbox</th>\n",
       "      <th>power</th>\n",
       "      <th>model</th>\n",
       "      <th>mileage</th>\n",
       "      <th>registrationmonth</th>\n",
       "      <th>fueltype</th>\n",
       "      <th>brand</th>\n",
       "      <th>notrepaired</th>\n",
       "      <th>datecreated</th>\n",
       "      <th>postalcode</th>\n",
       "      <th>lastseen</th>\n",
       "    </tr>\n",
       "  </thead>\n",
       "  <tbody>\n",
       "    <tr>\n",
       "      <th>0</th>\n",
       "      <td>24/03/2016 11:52</td>\n",
       "      <td>480</td>\n",
       "      <td>NaN</td>\n",
       "      <td>1993</td>\n",
       "      <td>manual</td>\n",
       "      <td>0</td>\n",
       "      <td>golf</td>\n",
       "      <td>150000</td>\n",
       "      <td>0</td>\n",
       "      <td>petrol</td>\n",
       "      <td>volkswagen</td>\n",
       "      <td>NaN</td>\n",
       "      <td>24/03/2016 00:00</td>\n",
       "      <td>70435</td>\n",
       "      <td>07/04/2016 03:16</td>\n",
       "    </tr>\n",
       "    <tr>\n",
       "      <th>1</th>\n",
       "      <td>24/03/2016 10:58</td>\n",
       "      <td>18300</td>\n",
       "      <td>coupe</td>\n",
       "      <td>2011</td>\n",
       "      <td>manual</td>\n",
       "      <td>190</td>\n",
       "      <td>NaN</td>\n",
       "      <td>125000</td>\n",
       "      <td>5</td>\n",
       "      <td>gasoline</td>\n",
       "      <td>audi</td>\n",
       "      <td>yes</td>\n",
       "      <td>24/03/2016 00:00</td>\n",
       "      <td>66954</td>\n",
       "      <td>07/04/2016 01:46</td>\n",
       "    </tr>\n",
       "    <tr>\n",
       "      <th>2</th>\n",
       "      <td>14/03/2016 12:52</td>\n",
       "      <td>9800</td>\n",
       "      <td>suv</td>\n",
       "      <td>2004</td>\n",
       "      <td>auto</td>\n",
       "      <td>163</td>\n",
       "      <td>grand</td>\n",
       "      <td>125000</td>\n",
       "      <td>8</td>\n",
       "      <td>gasoline</td>\n",
       "      <td>jeep</td>\n",
       "      <td>NaN</td>\n",
       "      <td>14/03/2016 00:00</td>\n",
       "      <td>90480</td>\n",
       "      <td>05/04/2016 12:47</td>\n",
       "    </tr>\n",
       "    <tr>\n",
       "      <th>3</th>\n",
       "      <td>17/03/2016 16:54</td>\n",
       "      <td>1500</td>\n",
       "      <td>small</td>\n",
       "      <td>2001</td>\n",
       "      <td>manual</td>\n",
       "      <td>75</td>\n",
       "      <td>golf</td>\n",
       "      <td>150000</td>\n",
       "      <td>6</td>\n",
       "      <td>petrol</td>\n",
       "      <td>volkswagen</td>\n",
       "      <td>no</td>\n",
       "      <td>17/03/2016 00:00</td>\n",
       "      <td>91074</td>\n",
       "      <td>17/03/2016 17:40</td>\n",
       "    </tr>\n",
       "    <tr>\n",
       "      <th>4</th>\n",
       "      <td>31/03/2016 17:25</td>\n",
       "      <td>3600</td>\n",
       "      <td>small</td>\n",
       "      <td>2008</td>\n",
       "      <td>manual</td>\n",
       "      <td>69</td>\n",
       "      <td>fabia</td>\n",
       "      <td>90000</td>\n",
       "      <td>7</td>\n",
       "      <td>gasoline</td>\n",
       "      <td>skoda</td>\n",
       "      <td>no</td>\n",
       "      <td>31/03/2016 00:00</td>\n",
       "      <td>60437</td>\n",
       "      <td>06/04/2016 10:17</td>\n",
       "    </tr>\n",
       "  </tbody>\n",
       "</table>\n",
       "</div>"
      ],
      "text/plain": [
       "        datecrawled  price vehicletype  registrationyear gearbox  power  \\\n",
       "0  24/03/2016 11:52    480         NaN              1993  manual      0   \n",
       "1  24/03/2016 10:58  18300       coupe              2011  manual    190   \n",
       "2  14/03/2016 12:52   9800         suv              2004    auto    163   \n",
       "3  17/03/2016 16:54   1500       small              2001  manual     75   \n",
       "4  31/03/2016 17:25   3600       small              2008  manual     69   \n",
       "\n",
       "   model  mileage  registrationmonth  fueltype       brand notrepaired  \\\n",
       "0   golf   150000                  0    petrol  volkswagen         NaN   \n",
       "1    NaN   125000                  5  gasoline        audi         yes   \n",
       "2  grand   125000                  8  gasoline        jeep         NaN   \n",
       "3   golf   150000                  6    petrol  volkswagen          no   \n",
       "4  fabia    90000                  7  gasoline       skoda          no   \n",
       "\n",
       "        datecreated  postalcode          lastseen  \n",
       "0  24/03/2016 00:00       70435  07/04/2016 03:16  \n",
       "1  24/03/2016 00:00       66954  07/04/2016 01:46  \n",
       "2  14/03/2016 00:00       90480  05/04/2016 12:47  \n",
       "3  17/03/2016 00:00       91074  17/03/2016 17:40  \n",
       "4  31/03/2016 00:00       60437  06/04/2016 10:17  "
      ]
     },
     "execution_count": 28,
     "metadata": {},
     "output_type": "execute_result"
    }
   ],
   "source": [
    "df.head()"
   ]
  },
  {
   "cell_type": "markdown",
   "metadata": {},
   "source": [
    "#### Media de preços"
   ]
  },
  {
   "cell_type": "code",
   "execution_count": 29,
   "metadata": {},
   "outputs": [
    {
     "data": {
      "text/plain": [
       "4416.656775846645"
      ]
     },
     "execution_count": 29,
     "metadata": {},
     "output_type": "execute_result"
    }
   ],
   "source": [
    "df['price'].mean()"
   ]
  },
  {
   "cell_type": "markdown",
   "metadata": {},
   "source": [
    "#### Mediana dos preços"
   ]
  },
  {
   "cell_type": "code",
   "execution_count": 30,
   "metadata": {},
   "outputs": [
    {
     "data": {
      "text/plain": [
       "2700.0"
      ]
     },
     "execution_count": 30,
     "metadata": {},
     "output_type": "execute_result"
    }
   ],
   "source": [
    "df['price'].median()"
   ]
  },
  {
   "cell_type": "markdown",
   "metadata": {},
   "source": [
    "#### Distribuição conjunto de dados"
   ]
  },
  {
   "cell_type": "code",
   "execution_count": 31,
   "metadata": {},
   "outputs": [
    {
     "data": {
      "image/png": "[encoded data removed]",
      "text/plain": [
       "<Figure size 1500x1000 with 6 Axes>"
      ]
     },
     "metadata": {},
     "output_type": "display_data"
    }
   ],
   "source": [
    "numeric_cols = df.select_dtypes('int64').columns\n",
    "fig, axes = plt.subplots(nrows=3, ncols=3, figsize=(15, 10), constrained_layout=True)\n",
    "axes = axes.flatten()\n",
    "\n",
    "for i, col in enumerate(numeric_cols):\n",
    "    sns.boxplot(data=df, y=col, ax=axes[i])\n",
    "    axes[i].set_title(f'{col}')\n",
    "\n",
    "for j in range(i + 1, len(axes)):\n",
    "    fig.delaxes(axes[j])\n",
    "\n",
    "plt.tight_layout()"
   ]
  },
  {
   "cell_type": "code",
   "execution_count": 32,
   "metadata": {},
   "outputs": [],
   "source": [
    "def detect_outliers(df):\n",
    "    outliers_dict = {}\n",
    "    for col in df.columns:\n",
    "        q1 = df[col].quantile(0.25)\n",
    "        q3 = df[col].quantile(0.75)\n",
    "        iqr = q3 - q1\n",
    "        lower_bound = q1 - 1.5 * iqr\n",
    "        upper_bound = q3 + 1.5 * iqr\n",
    "        outliers = df[(df[col] < lower_bound) | (df[col] > upper_bound)]\n",
    "        outliers_dict[col] = outliers.index\n",
    "    return outliers_dict\n",
    "\n",
    "outliers = detect_outliers(df[numeric_cols])\n",
    "outliers_count = {col: len(outliers[col]) for col in numeric_cols}\n",
    "outliers_percent = {col: (count / len(df) * 100) for col, count in outliers_count.items()}"
   ]
  },
  {
   "cell_type": "markdown",
   "metadata": {},
   "source": [
    "#### Outliers e seu peso no modelo"
   ]
  },
  {
   "cell_type": "code",
   "execution_count": 33,
   "metadata": {},
   "outputs": [
    {
     "name": "stdout",
     "output_type": "stream",
     "text": [
      "price: 5.36% de dados serão descartados ao remover os outliers\n",
      "registrationyear: 1.78% de dados serão descartados ao remover os outliers\n",
      "power: 2.07% de dados serão descartados ao remover os outliers\n",
      "mileage: 15.03% de dados serão descartados ao remover os outliers\n",
      "registrationmonth: 0.00% de dados serão descartados ao remover os outliers\n",
      "postalcode: 0.00% de dados serão descartados ao remover os outliers\n"
     ]
    }
   ],
   "source": [
    "for col, perc in outliers_percent.items():\n",
    "    print(f'{col}: {perc:.2f}% de dados serão descartados ao remover os outliers')"
   ]
  },
  {
   "cell_type": "markdown",
   "metadata": {},
   "source": [
    "### comparação Km do veiculo vs Preço"
   ]
  },
  {
   "cell_type": "code",
   "execution_count": 34,
   "metadata": {},
   "outputs": [
    {
     "data": {
      "text/plain": [
       "Text(0.5, 1.0, 'Mileage vs Price')"
      ]
     },
     "execution_count": 34,
     "metadata": {},
     "output_type": "execute_result"
    },
    {
     "data": {
      "image/png": "[encoded data removed]",
      "text/plain": [
       "<Figure size 1200x600 with 1 Axes>"
      ]
     },
     "metadata": {},
     "output_type": "display_data"
    }
   ],
   "source": [
    "sns.set_style('darkgrid')\n",
    "# sns.set_context('talk')\n",
    "sns.set_palette('rainbow')\n",
    "sns.set_context(\"notebook\", font_scale=1.5, rc={\"lines.linewidth\": 2.5})\n",
    "\n",
    "plt.figure(figsize=(12, 6))\n",
    "sns.lineplot(x='mileage', y='price', data=df);\n",
    "plt.title('Mileage vs Price')"
   ]
  },
  {
   "cell_type": "markdown",
   "metadata": {},
   "source": [
    "#### Registro do veiculo vs Preço"
   ]
  },
  {
   "cell_type": "code",
   "execution_count": 35,
   "metadata": {},
   "outputs": [
    {
     "data": {
      "text/plain": [
       "Text(0.5, 1.0, 'Registration Year vs Price')"
      ]
     },
     "execution_count": 35,
     "metadata": {},
     "output_type": "execute_result"
    },
    {
     "data": {
      "image/png": "[encoded data removed]",
      "text/plain": [
       "<Figure size 1200x600 with 1 Axes>"
      ]
     },
     "metadata": {},
     "output_type": "display_data"
    }
   ],
   "source": [
    "plt.figure(figsize=(12, 6))\n",
    "sns.lineplot(x='registrationyear', y=\"price\", data=df);\n",
    "plt.title('Registration Year vs Price')"
   ]
  },
  {
   "cell_type": "markdown",
   "metadata": {},
   "source": [
    "### Retirando os dados ausentes do dataset\n"
   ]
  },
  {
   "cell_type": "markdown",
   "metadata": {},
   "source": [
    "#### Observando a quantidade de linhas dodataset"
   ]
  },
  {
   "cell_type": "code",
   "execution_count": 36,
   "metadata": {},
   "outputs": [
    {
     "data": {
      "text/plain": [
       "354369"
      ]
     },
     "execution_count": 36,
     "metadata": {},
     "output_type": "execute_result"
    }
   ],
   "source": [
    "qtde_df_antigo = len(df)\n",
    "qtde_df_antigo"
   ]
  },
  {
   "cell_type": "markdown",
   "metadata": {},
   "source": [
    "#### Excluindo os ausentes"
   ]
  },
  {
   "cell_type": "code",
   "execution_count": 37,
   "metadata": {},
   "outputs": [
    {
     "data": {
      "text/html": [
       "<div>\n",
       "<style scoped>\n",
       "    .dataframe tbody tr th:only-of-type {\n",
       "        vertical-align: middle;\n",
       "    }\n",
       "\n",
       "    .dataframe tbody tr th {\n",
       "        vertical-align: top;\n",
       "    }\n",
       "\n",
       "    .dataframe thead th {\n",
       "        text-align: right;\n",
       "    }\n",
       "</style>\n",
       "<table border=\"1\" class=\"dataframe\">\n",
       "  <thead>\n",
       "    <tr style=\"text-align: right;\">\n",
       "      <th></th>\n",
       "      <th>datecrawled</th>\n",
       "      <th>price</th>\n",
       "      <th>vehicletype</th>\n",
       "      <th>registrationyear</th>\n",
       "      <th>gearbox</th>\n",
       "      <th>power</th>\n",
       "      <th>model</th>\n",
       "      <th>mileage</th>\n",
       "      <th>registrationmonth</th>\n",
       "      <th>fueltype</th>\n",
       "      <th>brand</th>\n",
       "      <th>notrepaired</th>\n",
       "      <th>datecreated</th>\n",
       "      <th>postalcode</th>\n",
       "      <th>lastseen</th>\n",
       "    </tr>\n",
       "  </thead>\n",
       "  <tbody>\n",
       "    <tr>\n",
       "      <th>3</th>\n",
       "      <td>17/03/2016 16:54</td>\n",
       "      <td>1500</td>\n",
       "      <td>small</td>\n",
       "      <td>2001</td>\n",
       "      <td>manual</td>\n",
       "      <td>75</td>\n",
       "      <td>golf</td>\n",
       "      <td>150000</td>\n",
       "      <td>6</td>\n",
       "      <td>petrol</td>\n",
       "      <td>volkswagen</td>\n",
       "      <td>no</td>\n",
       "      <td>17/03/2016 00:00</td>\n",
       "      <td>91074</td>\n",
       "      <td>17/03/2016 17:40</td>\n",
       "    </tr>\n",
       "    <tr>\n",
       "      <th>4</th>\n",
       "      <td>31/03/2016 17:25</td>\n",
       "      <td>3600</td>\n",
       "      <td>small</td>\n",
       "      <td>2008</td>\n",
       "      <td>manual</td>\n",
       "      <td>69</td>\n",
       "      <td>fabia</td>\n",
       "      <td>90000</td>\n",
       "      <td>7</td>\n",
       "      <td>gasoline</td>\n",
       "      <td>skoda</td>\n",
       "      <td>no</td>\n",
       "      <td>31/03/2016 00:00</td>\n",
       "      <td>60437</td>\n",
       "      <td>06/04/2016 10:17</td>\n",
       "    </tr>\n",
       "    <tr>\n",
       "      <th>5</th>\n",
       "      <td>04/04/2016 17:36</td>\n",
       "      <td>650</td>\n",
       "      <td>sedan</td>\n",
       "      <td>1995</td>\n",
       "      <td>manual</td>\n",
       "      <td>102</td>\n",
       "      <td>3er</td>\n",
       "      <td>150000</td>\n",
       "      <td>10</td>\n",
       "      <td>petrol</td>\n",
       "      <td>bmw</td>\n",
       "      <td>yes</td>\n",
       "      <td>04/04/2016 00:00</td>\n",
       "      <td>33775</td>\n",
       "      <td>06/04/2016 19:17</td>\n",
       "    </tr>\n",
       "    <tr>\n",
       "      <th>6</th>\n",
       "      <td>01/04/2016 20:48</td>\n",
       "      <td>2200</td>\n",
       "      <td>convertible</td>\n",
       "      <td>2004</td>\n",
       "      <td>manual</td>\n",
       "      <td>109</td>\n",
       "      <td>2_reihe</td>\n",
       "      <td>150000</td>\n",
       "      <td>8</td>\n",
       "      <td>petrol</td>\n",
       "      <td>peugeot</td>\n",
       "      <td>no</td>\n",
       "      <td>01/04/2016 00:00</td>\n",
       "      <td>67112</td>\n",
       "      <td>05/04/2016 18:18</td>\n",
       "    </tr>\n",
       "    <tr>\n",
       "      <th>7</th>\n",
       "      <td>21/03/2016 18:54</td>\n",
       "      <td>0</td>\n",
       "      <td>sedan</td>\n",
       "      <td>1980</td>\n",
       "      <td>manual</td>\n",
       "      <td>50</td>\n",
       "      <td>other</td>\n",
       "      <td>40000</td>\n",
       "      <td>7</td>\n",
       "      <td>petrol</td>\n",
       "      <td>volkswagen</td>\n",
       "      <td>no</td>\n",
       "      <td>21/03/2016 00:00</td>\n",
       "      <td>19348</td>\n",
       "      <td>25/03/2016 16:47</td>\n",
       "    </tr>\n",
       "    <tr>\n",
       "      <th>...</th>\n",
       "      <td>...</td>\n",
       "      <td>...</td>\n",
       "      <td>...</td>\n",
       "      <td>...</td>\n",
       "      <td>...</td>\n",
       "      <td>...</td>\n",
       "      <td>...</td>\n",
       "      <td>...</td>\n",
       "      <td>...</td>\n",
       "      <td>...</td>\n",
       "      <td>...</td>\n",
       "      <td>...</td>\n",
       "      <td>...</td>\n",
       "      <td>...</td>\n",
       "      <td>...</td>\n",
       "    </tr>\n",
       "    <tr>\n",
       "      <th>354360</th>\n",
       "      <td>02/04/2016 20:37</td>\n",
       "      <td>3999</td>\n",
       "      <td>wagon</td>\n",
       "      <td>2005</td>\n",
       "      <td>manual</td>\n",
       "      <td>3</td>\n",
       "      <td>3er</td>\n",
       "      <td>150000</td>\n",
       "      <td>5</td>\n",
       "      <td>gasoline</td>\n",
       "      <td>bmw</td>\n",
       "      <td>no</td>\n",
       "      <td>02/04/2016 00:00</td>\n",
       "      <td>81825</td>\n",
       "      <td>06/04/2016 20:47</td>\n",
       "    </tr>\n",
       "    <tr>\n",
       "      <th>354362</th>\n",
       "      <td>19/03/2016 19:53</td>\n",
       "      <td>3200</td>\n",
       "      <td>sedan</td>\n",
       "      <td>2004</td>\n",
       "      <td>manual</td>\n",
       "      <td>225</td>\n",
       "      <td>leon</td>\n",
       "      <td>150000</td>\n",
       "      <td>5</td>\n",
       "      <td>petrol</td>\n",
       "      <td>seat</td>\n",
       "      <td>yes</td>\n",
       "      <td>19/03/2016 00:00</td>\n",
       "      <td>96465</td>\n",
       "      <td>19/03/2016 20:44</td>\n",
       "    </tr>\n",
       "    <tr>\n",
       "      <th>354363</th>\n",
       "      <td>27/03/2016 20:36</td>\n",
       "      <td>1150</td>\n",
       "      <td>bus</td>\n",
       "      <td>2000</td>\n",
       "      <td>manual</td>\n",
       "      <td>0</td>\n",
       "      <td>zafira</td>\n",
       "      <td>150000</td>\n",
       "      <td>3</td>\n",
       "      <td>petrol</td>\n",
       "      <td>opel</td>\n",
       "      <td>no</td>\n",
       "      <td>27/03/2016 00:00</td>\n",
       "      <td>26624</td>\n",
       "      <td>29/03/2016 10:17</td>\n",
       "    </tr>\n",
       "    <tr>\n",
       "      <th>354366</th>\n",
       "      <td>05/03/2016 19:56</td>\n",
       "      <td>1199</td>\n",
       "      <td>convertible</td>\n",
       "      <td>2000</td>\n",
       "      <td>auto</td>\n",
       "      <td>101</td>\n",
       "      <td>fortwo</td>\n",
       "      <td>125000</td>\n",
       "      <td>3</td>\n",
       "      <td>petrol</td>\n",
       "      <td>smart</td>\n",
       "      <td>no</td>\n",
       "      <td>05/03/2016 00:00</td>\n",
       "      <td>26135</td>\n",
       "      <td>11/03/2016 18:17</td>\n",
       "    </tr>\n",
       "    <tr>\n",
       "      <th>354367</th>\n",
       "      <td>19/03/2016 18:57</td>\n",
       "      <td>9200</td>\n",
       "      <td>bus</td>\n",
       "      <td>1996</td>\n",
       "      <td>manual</td>\n",
       "      <td>102</td>\n",
       "      <td>transporter</td>\n",
       "      <td>150000</td>\n",
       "      <td>3</td>\n",
       "      <td>gasoline</td>\n",
       "      <td>volkswagen</td>\n",
       "      <td>no</td>\n",
       "      <td>19/03/2016 00:00</td>\n",
       "      <td>87439</td>\n",
       "      <td>07/04/2016 07:15</td>\n",
       "    </tr>\n",
       "  </tbody>\n",
       "</table>\n",
       "<p>245814 rows × 15 columns</p>\n",
       "</div>"
      ],
      "text/plain": [
       "             datecrawled  price  vehicletype  registrationyear gearbox  power  \\\n",
       "3       17/03/2016 16:54   1500        small              2001  manual     75   \n",
       "4       31/03/2016 17:25   3600        small              2008  manual     69   \n",
       "5       04/04/2016 17:36    650        sedan              1995  manual    102   \n",
       "6       01/04/2016 20:48   2200  convertible              2004  manual    109   \n",
       "7       21/03/2016 18:54      0        sedan              1980  manual     50   \n",
       "...                  ...    ...          ...               ...     ...    ...   \n",
       "354360  02/04/2016 20:37   3999        wagon              2005  manual      3   \n",
       "354362  19/03/2016 19:53   3200        sedan              2004  manual    225   \n",
       "354363  27/03/2016 20:36   1150          bus              2000  manual      0   \n",
       "354366  05/03/2016 19:56   1199  convertible              2000    auto    101   \n",
       "354367  19/03/2016 18:57   9200          bus              1996  manual    102   \n",
       "\n",
       "              model  mileage  registrationmonth  fueltype       brand  \\\n",
       "3              golf   150000                  6    petrol  volkswagen   \n",
       "4             fabia    90000                  7  gasoline       skoda   \n",
       "5               3er   150000                 10    petrol         bmw   \n",
       "6           2_reihe   150000                  8    petrol     peugeot   \n",
       "7             other    40000                  7    petrol  volkswagen   \n",
       "...             ...      ...                ...       ...         ...   \n",
       "354360          3er   150000                  5  gasoline         bmw   \n",
       "354362         leon   150000                  5    petrol        seat   \n",
       "354363       zafira   150000                  3    petrol        opel   \n",
       "354366       fortwo   125000                  3    petrol       smart   \n",
       "354367  transporter   150000                  3  gasoline  volkswagen   \n",
       "\n",
       "       notrepaired       datecreated  postalcode          lastseen  \n",
       "3               no  17/03/2016 00:00       91074  17/03/2016 17:40  \n",
       "4               no  31/03/2016 00:00       60437  06/04/2016 10:17  \n",
       "5              yes  04/04/2016 00:00       33775  06/04/2016 19:17  \n",
       "6               no  01/04/2016 00:00       67112  05/04/2016 18:18  \n",
       "7               no  21/03/2016 00:00       19348  25/03/2016 16:47  \n",
       "...            ...               ...         ...               ...  \n",
       "354360          no  02/04/2016 00:00       81825  06/04/2016 20:47  \n",
       "354362         yes  19/03/2016 00:00       96465  19/03/2016 20:44  \n",
       "354363          no  27/03/2016 00:00       26624  29/03/2016 10:17  \n",
       "354366          no  05/03/2016 00:00       26135  11/03/2016 18:17  \n",
       "354367          no  19/03/2016 00:00       87439  07/04/2016 07:15  \n",
       "\n",
       "[245814 rows x 15 columns]"
      ]
     },
     "execution_count": 37,
     "metadata": {},
     "output_type": "execute_result"
    }
   ],
   "source": [
    "df.dropna(inplace=True)\n",
    "df"
   ]
  },
  {
   "cell_type": "markdown",
   "metadata": {},
   "source": [
    "#### verificando o percentual de perda de dados"
   ]
  },
  {
   "cell_type": "code",
   "execution_count": 38,
   "metadata": {},
   "outputs": [
    {
     "data": {
      "text/plain": [
       "69.36667710776055"
      ]
     },
     "execution_count": 38,
     "metadata": {},
     "output_type": "execute_result"
    }
   ],
   "source": [
    "(len(df)/qtde_df_antigo)*100"
   ]
  },
  {
   "cell_type": "markdown",
   "metadata": {},
   "source": [
    "#### somando a quantidade de linha que sobraram para o projeto"
   ]
  },
  {
   "cell_type": "code",
   "execution_count": 39,
   "metadata": {},
   "outputs": [
    {
     "data": {
      "text/plain": [
       "<bound method Series.sum of 3         17/03/2016 16:54\n",
       "4         31/03/2016 17:25\n",
       "5         04/04/2016 17:36\n",
       "6         01/04/2016 20:48\n",
       "7         21/03/2016 18:54\n",
       "                ...       \n",
       "354360    02/04/2016 20:37\n",
       "354362    19/03/2016 19:53\n",
       "354363    27/03/2016 20:36\n",
       "354366    05/03/2016 19:56\n",
       "354367    19/03/2016 18:57\n",
       "Name: datecrawled, Length: 245814, dtype: object>"
      ]
     },
     "execution_count": 39,
     "metadata": {},
     "output_type": "execute_result"
    }
   ],
   "source": [
    "df['datecrawled'].sum"
   ]
  },
  {
   "cell_type": "markdown",
   "metadata": {},
   "source": [
    "Mesmo retirando 30% dos dados ainda temos aproximadamente 245 mil linhas para poder trabalhar."
   ]
  },
  {
   "cell_type": "markdown",
   "metadata": {},
   "source": [
    "#### Removendo duplicatas"
   ]
  },
  {
   "cell_type": "code",
   "execution_count": 40,
   "metadata": {},
   "outputs": [
    {
     "data": {
      "text/plain": [
       "0.6929697575126492"
      ]
     },
     "execution_count": 40,
     "metadata": {},
     "output_type": "execute_result"
    }
   ],
   "source": [
    "df = df.drop_duplicates()\n",
    "len(df)/qtde_df_antigo"
   ]
  },
  {
   "cell_type": "markdown",
   "metadata": {},
   "source": [
    "Foi verificado variação da porcentagem, verificamos que existiam dados duplicados que foram retirados do dataset"
   ]
  },
  {
   "cell_type": "markdown",
   "metadata": {},
   "source": [
    "#### Onservando dataset apos tratamento"
   ]
  },
  {
   "cell_type": "code",
   "execution_count": 41,
   "metadata": {},
   "outputs": [
    {
     "name": "stdout",
     "output_type": "stream",
     "text": [
      "<class 'pandas.core.frame.DataFrame'>\n",
      "Index: 245567 entries, 3 to 354367\n",
      "Data columns (total 15 columns):\n",
      " #   Column             Non-Null Count   Dtype \n",
      "---  ------             --------------   ----- \n",
      " 0   datecrawled        245567 non-null  object\n",
      " 1   price              245567 non-null  int64 \n",
      " 2   vehicletype        245567 non-null  object\n",
      " 3   registrationyear   245567 non-null  int64 \n",
      " 4   gearbox            245567 non-null  object\n",
      " 5   power              245567 non-null  int64 \n",
      " 6   model              245567 non-null  object\n",
      " 7   mileage            245567 non-null  int64 \n",
      " 8   registrationmonth  245567 non-null  int64 \n",
      " 9   fueltype           245567 non-null  object\n",
      " 10  brand              245567 non-null  object\n",
      " 11  notrepaired        245567 non-null  object\n",
      " 12  datecreated        245567 non-null  object\n",
      " 13  postalcode         245567 non-null  int64 \n",
      " 14  lastseen           245567 non-null  object\n",
      "dtypes: int64(6), object(9)\n",
      "memory usage: 30.0+ MB\n"
     ]
    }
   ],
   "source": [
    "df.info()"
   ]
  },
  {
   "cell_type": "markdown",
   "metadata": {},
   "source": [
    "## Treinamento do modelo\n"
   ]
  },
  {
   "cell_type": "markdown",
   "metadata": {},
   "source": [
    "### utilização de codificação de rótulos para as características \n"
   ]
  },
  {
   "cell_type": "code",
   "execution_count": 42,
   "metadata": {},
   "outputs": [],
   "source": [
    "le = LabelEncoder()\n",
    "df_scaled = df.apply(le.fit_transform)"
   ]
  },
  {
   "cell_type": "code",
   "execution_count": 45,
   "metadata": {},
   "outputs": [
    {
     "data": {
      "text/html": [
       "<div>\n",
       "<style scoped>\n",
       "    .dataframe tbody tr th:only-of-type {\n",
       "        vertical-align: middle;\n",
       "    }\n",
       "\n",
       "    .dataframe tbody tr th {\n",
       "        vertical-align: top;\n",
       "    }\n",
       "\n",
       "    .dataframe thead th {\n",
       "        text-align: right;\n",
       "    }\n",
       "</style>\n",
       "<table border=\"1\" class=\"dataframe\">\n",
       "  <thead>\n",
       "    <tr style=\"text-align: right;\">\n",
       "      <th></th>\n",
       "      <th>datecrawled</th>\n",
       "      <th>price</th>\n",
       "      <th>vehicletype</th>\n",
       "      <th>registrationyear</th>\n",
       "      <th>gearbox</th>\n",
       "      <th>power</th>\n",
       "      <th>model</th>\n",
       "      <th>mileage</th>\n",
       "      <th>registrationmonth</th>\n",
       "      <th>registrationmonth</th>\n",
       "      <th>fueltype</th>\n",
       "      <th>brand</th>\n",
       "      <th>notrepaired</th>\n",
       "      <th>datecreated</th>\n",
       "      <th>postalcode</th>\n",
       "      <th>lastseen</th>\n",
       "    </tr>\n",
       "  </thead>\n",
       "  <tbody>\n",
       "    <tr>\n",
       "      <th>3</th>\n",
       "      <td>0.543444</td>\n",
       "      <td>0.170094</td>\n",
       "      <td>0.714286</td>\n",
       "      <td>0.792683</td>\n",
       "      <td>1</td>\n",
       "      <td>0.139147</td>\n",
       "      <td>0.467742</td>\n",
       "      <td>1.000000</td>\n",
       "      <td>0.500000</td>\n",
       "      <td>0.500000</td>\n",
       "      <td>1.000000</td>\n",
       "      <td>0.973684</td>\n",
       "      <td>0</td>\n",
       "      <td>0.568627</td>\n",
       "      <td>0.863974</td>\n",
       "      <td>0.528414</td>\n",
       "    </tr>\n",
       "    <tr>\n",
       "      <th>4</th>\n",
       "      <td>0.987558</td>\n",
       "      <td>0.336663</td>\n",
       "      <td>0.714286</td>\n",
       "      <td>0.878049</td>\n",
       "      <td>1</td>\n",
       "      <td>0.128015</td>\n",
       "      <td>0.407258</td>\n",
       "      <td>0.750000</td>\n",
       "      <td>0.583333</td>\n",
       "      <td>0.583333</td>\n",
       "      <td>0.333333</td>\n",
       "      <td>0.815789</td>\n",
       "      <td>0</td>\n",
       "      <td>1.000000</td>\n",
       "      <td>0.516601</td>\n",
       "      <td>0.203693</td>\n",
       "    </tr>\n",
       "    <tr>\n",
       "      <th>5</th>\n",
       "      <td>0.120360</td>\n",
       "      <td>0.079612</td>\n",
       "      <td>0.571429</td>\n",
       "      <td>0.719512</td>\n",
       "      <td>1</td>\n",
       "      <td>0.189239</td>\n",
       "      <td>0.044355</td>\n",
       "      <td>1.000000</td>\n",
       "      <td>0.833333</td>\n",
       "      <td>0.833333</td>\n",
       "      <td>1.000000</td>\n",
       "      <td>0.052632</td>\n",
       "      <td>1</td>\n",
       "      <td>0.127451</td>\n",
       "      <td>0.290015</td>\n",
       "      <td>0.209627</td>\n",
       "    </tr>\n",
       "    <tr>\n",
       "      <th>6</th>\n",
       "      <td>0.026844</td>\n",
       "      <td>0.228261</td>\n",
       "      <td>0.142857</td>\n",
       "      <td>0.829268</td>\n",
       "      <td>1</td>\n",
       "      <td>0.202226</td>\n",
       "      <td>0.032258</td>\n",
       "      <td>1.000000</td>\n",
       "      <td>0.666667</td>\n",
       "      <td>0.666667</td>\n",
       "      <td>1.000000</td>\n",
       "      <td>0.657895</td>\n",
       "      <td>0</td>\n",
       "      <td>0.019608</td>\n",
       "      <td>0.569004</td>\n",
       "      <td>0.177497</td>\n",
       "    </tr>\n",
       "    <tr>\n",
       "      <th>7</th>\n",
       "      <td>0.671851</td>\n",
       "      <td>0.000000</td>\n",
       "      <td>0.571429</td>\n",
       "      <td>0.536585</td>\n",
       "      <td>1</td>\n",
       "      <td>0.092764</td>\n",
       "      <td>0.669355</td>\n",
       "      <td>0.333333</td>\n",
       "      <td>0.583333</td>\n",
       "      <td>0.583333</td>\n",
       "      <td>1.000000</td>\n",
       "      <td>0.973684</td>\n",
       "      <td>0</td>\n",
       "      <td>0.705882</td>\n",
       "      <td>0.141601</td>\n",
       "      <td>0.787975</td>\n",
       "    </tr>\n",
       "    <tr>\n",
       "      <th>...</th>\n",
       "      <td>...</td>\n",
       "      <td>...</td>\n",
       "      <td>...</td>\n",
       "      <td>...</td>\n",
       "      <td>...</td>\n",
       "      <td>...</td>\n",
       "      <td>...</td>\n",
       "      <td>...</td>\n",
       "      <td>...</td>\n",
       "      <td>...</td>\n",
       "      <td>...</td>\n",
       "      <td>...</td>\n",
       "      <td>...</td>\n",
       "      <td>...</td>\n",
       "      <td>...</td>\n",
       "      <td>...</td>\n",
       "    </tr>\n",
       "    <tr>\n",
       "      <th>354360</th>\n",
       "      <td>0.058760</td>\n",
       "      <td>0.366921</td>\n",
       "      <td>1.000000</td>\n",
       "      <td>0.841463</td>\n",
       "      <td>1</td>\n",
       "      <td>0.005566</td>\n",
       "      <td>0.044355</td>\n",
       "      <td>1.000000</td>\n",
       "      <td>0.416667</td>\n",
       "      <td>0.416667</td>\n",
       "      <td>0.333333</td>\n",
       "      <td>0.052632</td>\n",
       "      <td>0</td>\n",
       "      <td>0.058824</td>\n",
       "      <td>0.726090</td>\n",
       "      <td>0.210886</td>\n",
       "    </tr>\n",
       "    <tr>\n",
       "      <th>354362</th>\n",
       "      <td>0.608222</td>\n",
       "      <td>0.306404</td>\n",
       "      <td>0.571429</td>\n",
       "      <td>0.829268</td>\n",
       "      <td>1</td>\n",
       "      <td>0.417440</td>\n",
       "      <td>0.564516</td>\n",
       "      <td>1.000000</td>\n",
       "      <td>0.416667</td>\n",
       "      <td>0.416667</td>\n",
       "      <td>1.000000</td>\n",
       "      <td>0.789474</td>\n",
       "      <td>1</td>\n",
       "      <td>0.647059</td>\n",
       "      <td>0.956269</td>\n",
       "      <td>0.588179</td>\n",
       "    </tr>\n",
       "    <tr>\n",
       "      <th>354363</th>\n",
       "      <td>0.865981</td>\n",
       "      <td>0.133079</td>\n",
       "      <td>0.000000</td>\n",
       "      <td>0.780488</td>\n",
       "      <td>1</td>\n",
       "      <td>0.000000</td>\n",
       "      <td>1.000000</td>\n",
       "      <td>1.000000</td>\n",
       "      <td>0.250000</td>\n",
       "      <td>0.250000</td>\n",
       "      <td>1.000000</td>\n",
       "      <td>0.631579</td>\n",
       "      <td>0</td>\n",
       "      <td>0.882353</td>\n",
       "      <td>0.226957</td>\n",
       "      <td>0.907205</td>\n",
       "    </tr>\n",
       "    <tr>\n",
       "      <th>354366</th>\n",
       "      <td>0.145919</td>\n",
       "      <td>0.138367</td>\n",
       "      <td>0.142857</td>\n",
       "      <td>0.780488</td>\n",
       "      <td>0</td>\n",
       "      <td>0.187384</td>\n",
       "      <td>0.427419</td>\n",
       "      <td>0.916667</td>\n",
       "      <td>0.250000</td>\n",
       "      <td>0.250000</td>\n",
       "      <td>1.000000</td>\n",
       "      <td>0.842105</td>\n",
       "      <td>0</td>\n",
       "      <td>0.156863</td>\n",
       "      <td>0.222250</td>\n",
       "      <td>0.349059</td>\n",
       "    </tr>\n",
       "    <tr>\n",
       "      <th>354367</th>\n",
       "      <td>0.606532</td>\n",
       "      <td>0.653643</td>\n",
       "      <td>0.000000</td>\n",
       "      <td>0.731707</td>\n",
       "      <td>1</td>\n",
       "      <td>0.189239</td>\n",
       "      <td>0.899194</td>\n",
       "      <td>1.000000</td>\n",
       "      <td>0.250000</td>\n",
       "      <td>0.250000</td>\n",
       "      <td>0.333333</td>\n",
       "      <td>0.973684</td>\n",
       "      <td>0</td>\n",
       "      <td>0.647059</td>\n",
       "      <td>0.815164</td>\n",
       "      <td>0.240379</td>\n",
       "    </tr>\n",
       "  </tbody>\n",
       "</table>\n",
       "<p>245567 rows × 16 columns</p>\n",
       "</div>"
      ],
      "text/plain": [
       "        datecrawled     price  vehicletype  registrationyear  gearbox  \\\n",
       "3          0.543444  0.170094     0.714286          0.792683        1   \n",
       "4          0.987558  0.336663     0.714286          0.878049        1   \n",
       "5          0.120360  0.079612     0.571429          0.719512        1   \n",
       "6          0.026844  0.228261     0.142857          0.829268        1   \n",
       "7          0.671851  0.000000     0.571429          0.536585        1   \n",
       "...             ...       ...          ...               ...      ...   \n",
       "354360     0.058760  0.366921     1.000000          0.841463        1   \n",
       "354362     0.608222  0.306404     0.571429          0.829268        1   \n",
       "354363     0.865981  0.133079     0.000000          0.780488        1   \n",
       "354366     0.145919  0.138367     0.142857          0.780488        0   \n",
       "354367     0.606532  0.653643     0.000000          0.731707        1   \n",
       "\n",
       "           power     model   mileage  registrationmonth  registrationmonth  \\\n",
       "3       0.139147  0.467742  1.000000           0.500000           0.500000   \n",
       "4       0.128015  0.407258  0.750000           0.583333           0.583333   \n",
       "5       0.189239  0.044355  1.000000           0.833333           0.833333   \n",
       "6       0.202226  0.032258  1.000000           0.666667           0.666667   \n",
       "7       0.092764  0.669355  0.333333           0.583333           0.583333   \n",
       "...          ...       ...       ...                ...                ...   \n",
       "354360  0.005566  0.044355  1.000000           0.416667           0.416667   \n",
       "354362  0.417440  0.564516  1.000000           0.416667           0.416667   \n",
       "354363  0.000000  1.000000  1.000000           0.250000           0.250000   \n",
       "354366  0.187384  0.427419  0.916667           0.250000           0.250000   \n",
       "354367  0.189239  0.899194  1.000000           0.250000           0.250000   \n",
       "\n",
       "        fueltype     brand  notrepaired  datecreated  postalcode  lastseen  \n",
       "3       1.000000  0.973684            0     0.568627    0.863974  0.528414  \n",
       "4       0.333333  0.815789            0     1.000000    0.516601  0.203693  \n",
       "5       1.000000  0.052632            1     0.127451    0.290015  0.209627  \n",
       "6       1.000000  0.657895            0     0.019608    0.569004  0.177497  \n",
       "7       1.000000  0.973684            0     0.705882    0.141601  0.787975  \n",
       "...          ...       ...          ...          ...         ...       ...  \n",
       "354360  0.333333  0.052632            0     0.058824    0.726090  0.210886  \n",
       "354362  1.000000  0.789474            1     0.647059    0.956269  0.588179  \n",
       "354363  1.000000  0.631579            0     0.882353    0.226957  0.907205  \n",
       "354366  1.000000  0.842105            0     0.156863    0.222250  0.349059  \n",
       "354367  0.333333  0.973684            0     0.647059    0.815164  0.240379  \n",
       "\n",
       "[245567 rows x 16 columns]"
      ]
     },
     "execution_count": 45,
     "metadata": {},
     "output_type": "execute_result"
    }
   ],
   "source": [
    "feature_names = ['datecrawled','price','vehicletype','registrationyear','gearbox', 'power', 'model',\n",
    "    'mileage', 'registrationmonth', 'registrationmonth','fueltype', 'brand', 'notrepaired',\n",
    "    'datecreated', 'postalcode', 'lastseen']\n",
    "\n",
    "transformer_mas = sklearn.preprocessing.MaxAbsScaler().fit(df_scaled[feature_names].to_numpy())\n",
    "\n",
    "df_scaled = df_scaled.copy()\n",
    "df_scaled.loc[:, feature_names] = transformer_mas.transform(df_scaled[feature_names].to_numpy())\n",
    "df_scaled"
   ]
  },
  {
   "cell_type": "markdown",
   "metadata": {},
   "source": [
    "### Divididndo os dados em treino categoria e teste"
   ]
  },
  {
   "cell_type": "code",
   "execution_count": 46,
   "metadata": {},
   "outputs": [],
   "source": [
    "X = df.drop(['price', 'datecrawled', 'datecreated', 'postalcode', 'lastseen'], axis = 1).to_numpy()\n",
    "y = df['price'].to_numpy()\n",
    "X_train, X_test, y_train, y_test = train_test_split(X, y, test_size=0.25, random_state=12345)\n",
    "\n",
    "X = ['price']\n",
    "categoryy = df[X].select_dtypes('object').columns"
   ]
  },
  {
   "cell_type": "code",
   "execution_count": 47,
   "metadata": {},
   "outputs": [],
   "source": [
    "feature_names = ['vehicletype', 'registrationyear', 'gearbox', 'power', 'model', 'mileage', 'fueltype', 'brand', 'notrepaired']\n",
    "X = ['price']\n",
    "\n",
    "CATEGORICAL = df[feature_names].select_dtypes('object').columns"
   ]
  },
  {
   "cell_type": "code",
   "execution_count": 48,
   "metadata": {},
   "outputs": [],
   "source": [
    "X_train_val, X_test, y_train_val, y_test = train_test_split(df[feature_names], df[X], test_size=0.2, random_state=42)\n",
    "X_train, X_val, y_train, y_val = train_test_split(X_train_val, y_train_val, test_size=0.2, random_state=42)"
   ]
  },
  {
   "cell_type": "markdown",
   "metadata": {},
   "source": [
    "### Encoder"
   ]
  },
  {
   "cell_type": "code",
   "execution_count": 49,
   "metadata": {},
   "outputs": [],
   "source": [
    "encoder = ce.CatBoostEncoder(cols=CATEGORICAL)\n",
    "encoder.fit(X_train, y_train)\n",
    "\n",
    "X_train = encoder.transform(X_train)\n",
    "X_train_val = encoder.transform(X_train_val)\n",
    "X_test = encoder.transform(X_test)\n",
    "X_val = encoder.transform(X_val)\n",
    "\n"
   ]
  },
  {
   "cell_type": "markdown",
   "metadata": {},
   "source": [
    "### Ajuste de hyperparametros"
   ]
  },
  {
   "cell_type": "code",
   "execution_count": 50,
   "metadata": {},
   "outputs": [],
   "source": [
    "def perform_gs(model, param_grid, X, y):\n",
    "    gs = GridSearchCV(model, param_grid=param_grid, cv=5, scoring='neg_root_mean_squared_error', n_jobs=-1, verbose=10)\n",
    "    gs.fit(X, y)\n",
    "    best_model = gs.best_estimator_\n",
    "    best_params = gs.best_params_\n",
    "    best_score = gs.best_score_\n",
    "    return best_model, best_params, best_score"
   ]
  },
  {
   "cell_type": "markdown",
   "metadata": {},
   "source": [
    "### Modelo LightGBM\n"
   ]
  },
  {
   "cell_type": "code",
   "execution_count": 51,
   "metadata": {},
   "outputs": [],
   "source": [
    "from sklearn.model_selection import GridSearchCV\n",
    "train_data_scaled = lgb.Dataset(X_train, label=y_train)\n",
    "test_data_scaled = lgb.Dataset(X_test, label=y_test)\n",
    "\n",
    "params = {\n",
    "    'num_leaves': [31,100] ,\n",
    "    'learning_rate' : [0.01, 0.05],\n",
    "}\n",
    "\n",
    "model_hip = lgb.LGBMRegressor()\n"
   ]
  },
  {
   "cell_type": "code",
   "execution_count": 52,
   "metadata": {},
   "outputs": [],
   "source": [
    "params_model = {\n",
    "    'metric': 'rmse',\n",
    "    'num_leaves' : 31,\n",
    "    'learning_rate' : 0.05,\n",
    "}"
   ]
  },
  {
   "cell_type": "code",
   "execution_count": 53,
   "metadata": {},
   "outputs": [
    {
     "name": "stdout",
     "output_type": "stream",
     "text": [
      "[LightGBM] [Info] Auto-choosing row-wise multi-threading, the overhead of testing was 0.001115 seconds.\n",
      "You can set `force_row_wise=true` to remove the overhead.\n",
      "And if memory is not enough, you can set `force_col_wise=true`.\n",
      "[LightGBM] [Info] Total Bins 656\n",
      "[LightGBM] [Info] Number of data points in the train set: 196453, number of used features: 9\n",
      "[LightGBM] [Info] Start training from score 5126.598728\n",
      "Training until validation scores don't improve for 50 rounds\n",
      "Did not meet early stopping. Best iteration is:\n",
      "[100]\tvalid_0's rmse: 1745.22\n",
      "Tempo total de treinamento: 0.3348097801208496 segundos\n"
     ]
    }
   ],
   "source": [
    "import lightgbm as lgb\n",
    "import time\n",
    "\n",
    "train_data = lgb.Dataset(X_train_val, label=y_train_val)\n",
    "test_data = lgb.Dataset(X_val, label=y_val, reference=train_data)\n",
    "\n",
    "start_time = time.time()\n",
    "\n",
    "\n",
    "model = lgb.train(\n",
    "    params_model,  # Parâmetros do modelo\n",
    "    train_data,  # Dados de treino\n",
    "    valid_sets=[test_data],  # Dados de validação\n",
    "    num_boost_round=100,  # Número máximo de iterações\n",
    "    callbacks=[lgb.callback.early_stopping(stopping_rounds=50)]  # Parada antecipada\n",
    ")\n",
    "\n",
    "end_time = time.time()\n",
    "total_time_lgb = end_time - start_time\n",
    "\n",
    "\n",
    "print(f'Tempo total de treinamento: {total_time_lgb} segundos')\n",
    "\n"
   ]
  },
  {
   "cell_type": "code",
   "execution_count": 54,
   "metadata": {},
   "outputs": [],
   "source": [
    "y_pred_gbm = model.predict(X_test)"
   ]
  },
  {
   "cell_type": "code",
   "execution_count": 55,
   "metadata": {},
   "outputs": [
    {
     "name": "stdout",
     "output_type": "stream",
     "text": [
      "1777.4420392146212\n"
     ]
    }
   ],
   "source": [
    "rmse_gbm = mean_squared_error(y_test, y_pred_gbm, squared=False)\n",
    "print(rmse_gbm)"
   ]
  },
  {
   "cell_type": "code",
   "execution_count": 56,
   "metadata": {},
   "outputs": [
    {
     "name": "stdout",
     "output_type": "stream",
     "text": [
      "Tempo total de execução: 0.33 segundos\n"
     ]
    }
   ],
   "source": [
    "print(\"Tempo total de execução: {:.2f} segundos\".format(total_time_lgb))"
   ]
  },
  {
   "cell_type": "markdown",
   "metadata": {},
   "source": [
    "### Modelo Floresta Aleatória\n"
   ]
  },
  {
   "cell_type": "markdown",
   "metadata": {},
   "source": [
    "#### Calibrando os hiperparâmetros"
   ]
  },
  {
   "cell_type": "code",
   "execution_count": 57,
   "metadata": {},
   "outputs": [],
   "source": [
    "rf_model = RandomForestRegressor()\n",
    "\n",
    "param_grid = {\n",
    "    'n_estimators': [5, 10, 15], \n",
    "    'max_depth': [1, 5, 10]\n",
    "}"
   ]
  },
  {
   "cell_type": "code",
   "execution_count": 58,
   "metadata": {},
   "outputs": [
    {
     "data": {
      "text/html": [
       "<style>#sk-container-id-1 {\n",
       "  /* Definition of color scheme common for light and dark mode */\n",
       "  --sklearn-color-text: black;\n",
       "  --sklearn-color-line: gray;\n",
       "  /* Definition of color scheme for unfitted estimators */\n",
       "  --sklearn-color-unfitted-level-0: #fff5e6;\n",
       "  --sklearn-color-unfitted-level-1: #f6e4d2;\n",
       "  --sklearn-color-unfitted-level-2: #ffe0b3;\n",
       "  --sklearn-color-unfitted-level-3: chocolate;\n",
       "  /* Definition of color scheme for fitted estimators */\n",
       "  --sklearn-color-fitted-level-0: #f0f8ff;\n",
       "  --sklearn-color-fitted-level-1: #d4ebff;\n",
       "  --sklearn-color-fitted-level-2: #b3dbfd;\n",
       "  --sklearn-color-fitted-level-3: cornflowerblue;\n",
       "\n",
       "  /* Specific color for light theme */\n",
       "  --sklearn-color-text-on-default-background: var(--sg-text-color, var(--theme-code-foreground, var(--jp-content-font-color1, black)));\n",
       "  --sklearn-color-background: var(--sg-background-color, var(--theme-background, var(--jp-layout-color0, white)));\n",
       "  --sklearn-color-border-box: var(--sg-text-color, var(--theme-code-foreground, var(--jp-content-font-color1, black)));\n",
       "  --sklearn-color-icon: #696969;\n",
       "\n",
       "  @media (prefers-color-scheme: dark) {\n",
       "    /* Redefinition of color scheme for dark theme */\n",
       "    --sklearn-color-text-on-default-background: var(--sg-text-color, var(--theme-code-foreground, var(--jp-content-font-color1, white)));\n",
       "    --sklearn-color-background: var(--sg-background-color, var(--theme-background, var(--jp-layout-color0, #111)));\n",
       "    --sklearn-color-border-box: var(--sg-text-color, var(--theme-code-foreground, var(--jp-content-font-color1, white)));\n",
       "    --sklearn-color-icon: #878787;\n",
       "  }\n",
       "}\n",
       "\n",
       "#sk-container-id-1 {\n",
       "  color: var(--sklearn-color-text);\n",
       "}\n",
       "\n",
       "#sk-container-id-1 pre {\n",
       "  padding: 0;\n",
       "}\n",
       "\n",
       "#sk-container-id-1 input.sk-hidden--visually {\n",
       "  border: 0;\n",
       "  clip: rect(1px 1px 1px 1px);\n",
       "  clip: rect(1px, 1px, 1px, 1px);\n",
       "  height: 1px;\n",
       "  margin: -1px;\n",
       "  overflow: hidden;\n",
       "  padding: 0;\n",
       "  position: absolute;\n",
       "  width: 1px;\n",
       "}\n",
       "\n",
       "#sk-container-id-1 div.sk-dashed-wrapped {\n",
       "  border: 1px dashed var(--sklearn-color-line);\n",
       "  margin: 0 0.4em 0.5em 0.4em;\n",
       "  box-sizing: border-box;\n",
       "  padding-bottom: 0.4em;\n",
       "  background-color: var(--sklearn-color-background);\n",
       "}\n",
       "\n",
       "#sk-container-id-1 div.sk-container {\n",
       "  /* jupyter's `normalize.less` sets `[hidden] { display: none; }`\n",
       "     but bootstrap.min.css set `[hidden] { display: none !important; }`\n",
       "     so we also need the `!important` here to be able to override the\n",
       "     default hidden behavior on the sphinx rendered scikit-learn.org.\n",
       "     See: https://github.com/scikit-learn/scikit-learn/issues/21755 */\n",
       "  display: inline-block !important;\n",
       "  position: relative;\n",
       "}\n",
       "\n",
       "#sk-container-id-1 div.sk-text-repr-fallback {\n",
       "  display: none;\n",
       "}\n",
       "\n",
       "div.sk-parallel-item,\n",
       "div.sk-serial,\n",
       "div.sk-item {\n",
       "  /* draw centered vertical line to link estimators */\n",
       "  background-image: linear-gradient(var(--sklearn-color-text-on-default-background), var(--sklearn-color-text-on-default-background));\n",
       "  background-size: 2px 100%;\n",
       "  background-repeat: no-repeat;\n",
       "  background-position: center center;\n",
       "}\n",
       "\n",
       "/* Parallel-specific style estimator block */\n",
       "\n",
       "#sk-container-id-1 div.sk-parallel-item::after {\n",
       "  content: \"\";\n",
       "  width: 100%;\n",
       "  border-bottom: 2px solid var(--sklearn-color-text-on-default-background);\n",
       "  flex-grow: 1;\n",
       "}\n",
       "\n",
       "#sk-container-id-1 div.sk-parallel {\n",
       "  display: flex;\n",
       "  align-items: stretch;\n",
       "  justify-content: center;\n",
       "  background-color: var(--sklearn-color-background);\n",
       "  position: relative;\n",
       "}\n",
       "\n",
       "#sk-container-id-1 div.sk-parallel-item {\n",
       "  display: flex;\n",
       "  flex-direction: column;\n",
       "}\n",
       "\n",
       "#sk-container-id-1 div.sk-parallel-item:first-child::after {\n",
       "  align-self: flex-end;\n",
       "  width: 50%;\n",
       "}\n",
       "\n",
       "#sk-container-id-1 div.sk-parallel-item:last-child::after {\n",
       "  align-self: flex-start;\n",
       "  width: 50%;\n",
       "}\n",
       "\n",
       "#sk-container-id-1 div.sk-parallel-item:only-child::after {\n",
       "  width: 0;\n",
       "}\n",
       "\n",
       "/* Serial-specific style estimator block */\n",
       "\n",
       "#sk-container-id-1 div.sk-serial {\n",
       "  display: flex;\n",
       "  flex-direction: column;\n",
       "  align-items: center;\n",
       "  background-color: var(--sklearn-color-background);\n",
       "  padding-right: 1em;\n",
       "  padding-left: 1em;\n",
       "}\n",
       "\n",
       "\n",
       "/* Toggleable style: style used for estimator/Pipeline/ColumnTransformer box that is\n",
       "clickable and can be expanded/collapsed.\n",
       "- Pipeline and ColumnTransformer use this feature and define the default style\n",
       "- Estimators will overwrite some part of the style using the `sk-estimator` class\n",
       "*/\n",
       "\n",
       "/* Pipeline and ColumnTransformer style (default) */\n",
       "\n",
       "#sk-container-id-1 div.sk-toggleable {\n",
       "  /* Default theme specific background. It is overwritten whether we have a\n",
       "  specific estimator or a Pipeline/ColumnTransformer */\n",
       "  background-color: var(--sklearn-color-background);\n",
       "}\n",
       "\n",
       "/* Toggleable label */\n",
       "#sk-container-id-1 label.sk-toggleable__label {\n",
       "  cursor: pointer;\n",
       "  display: block;\n",
       "  width: 100%;\n",
       "  margin-bottom: 0;\n",
       "  padding: 0.5em;\n",
       "  box-sizing: border-box;\n",
       "  text-align: center;\n",
       "}\n",
       "\n",
       "#sk-container-id-1 label.sk-toggleable__label-arrow:before {\n",
       "  /* Arrow on the left of the label */\n",
       "  content: \"▸\";\n",
       "  float: left;\n",
       "  margin-right: 0.25em;\n",
       "  color: var(--sklearn-color-icon);\n",
       "}\n",
       "\n",
       "#sk-container-id-1 label.sk-toggleable__label-arrow:hover:before {\n",
       "  color: var(--sklearn-color-text);\n",
       "}\n",
       "\n",
       "/* Toggleable content - dropdown */\n",
       "\n",
       "#sk-container-id-1 div.sk-toggleable__content {\n",
       "  max-height: 0;\n",
       "  max-width: 0;\n",
       "  overflow: hidden;\n",
       "  text-align: left;\n",
       "  /* unfitted */\n",
       "  background-color: var(--sklearn-color-unfitted-level-0);\n",
       "}\n",
       "\n",
       "#sk-container-id-1 div.sk-toggleable__content.fitted {\n",
       "  /* fitted */\n",
       "  background-color: var(--sklearn-color-fitted-level-0);\n",
       "}\n",
       "\n",
       "#sk-container-id-1 div.sk-toggleable__content pre {\n",
       "  margin: 0.2em;\n",
       "  border-radius: 0.25em;\n",
       "  color: var(--sklearn-color-text);\n",
       "  /* unfitted */\n",
       "  background-color: var(--sklearn-color-unfitted-level-0);\n",
       "}\n",
       "\n",
       "#sk-container-id-1 div.sk-toggleable__content.fitted pre {\n",
       "  /* unfitted */\n",
       "  background-color: var(--sklearn-color-fitted-level-0);\n",
       "}\n",
       "\n",
       "#sk-container-id-1 input.sk-toggleable__control:checked~div.sk-toggleable__content {\n",
       "  /* Expand drop-down */\n",
       "  max-height: 200px;\n",
       "  max-width: 100%;\n",
       "  overflow: auto;\n",
       "}\n",
       "\n",
       "#sk-container-id-1 input.sk-toggleable__control:checked~label.sk-toggleable__label-arrow:before {\n",
       "  content: \"▾\";\n",
       "}\n",
       "\n",
       "/* Pipeline/ColumnTransformer-specific style */\n",
       "\n",
       "#sk-container-id-1 div.sk-label input.sk-toggleable__control:checked~label.sk-toggleable__label {\n",
       "  color: var(--sklearn-color-text);\n",
       "  background-color: var(--sklearn-color-unfitted-level-2);\n",
       "}\n",
       "\n",
       "#sk-container-id-1 div.sk-label.fitted input.sk-toggleable__control:checked~label.sk-toggleable__label {\n",
       "  background-color: var(--sklearn-color-fitted-level-2);\n",
       "}\n",
       "\n",
       "/* Estimator-specific style */\n",
       "\n",
       "/* Colorize estimator box */\n",
       "#sk-container-id-1 div.sk-estimator input.sk-toggleable__control:checked~label.sk-toggleable__label {\n",
       "  /* unfitted */\n",
       "  background-color: var(--sklearn-color-unfitted-level-2);\n",
       "}\n",
       "\n",
       "#sk-container-id-1 div.sk-estimator.fitted input.sk-toggleable__control:checked~label.sk-toggleable__label {\n",
       "  /* fitted */\n",
       "  background-color: var(--sklearn-color-fitted-level-2);\n",
       "}\n",
       "\n",
       "#sk-container-id-1 div.sk-label label.sk-toggleable__label,\n",
       "#sk-container-id-1 div.sk-label label {\n",
       "  /* The background is the default theme color */\n",
       "  color: var(--sklearn-color-text-on-default-background);\n",
       "}\n",
       "\n",
       "/* On hover, darken the color of the background */\n",
       "#sk-container-id-1 div.sk-label:hover label.sk-toggleable__label {\n",
       "  color: var(--sklearn-color-text);\n",
       "  background-color: var(--sklearn-color-unfitted-level-2);\n",
       "}\n",
       "\n",
       "/* Label box, darken color on hover, fitted */\n",
       "#sk-container-id-1 div.sk-label.fitted:hover label.sk-toggleable__label.fitted {\n",
       "  color: var(--sklearn-color-text);\n",
       "  background-color: var(--sklearn-color-fitted-level-2);\n",
       "}\n",
       "\n",
       "/* Estimator label */\n",
       "\n",
       "#sk-container-id-1 div.sk-label label {\n",
       "  font-family: monospace;\n",
       "  font-weight: bold;\n",
       "  display: inline-block;\n",
       "  line-height: 1.2em;\n",
       "}\n",
       "\n",
       "#sk-container-id-1 div.sk-label-container {\n",
       "  text-align: center;\n",
       "}\n",
       "\n",
       "/* Estimator-specific */\n",
       "#sk-container-id-1 div.sk-estimator {\n",
       "  font-family: monospace;\n",
       "  border: 1px dotted var(--sklearn-color-border-box);\n",
       "  border-radius: 0.25em;\n",
       "  box-sizing: border-box;\n",
       "  margin-bottom: 0.5em;\n",
       "  /* unfitted */\n",
       "  background-color: var(--sklearn-color-unfitted-level-0);\n",
       "}\n",
       "\n",
       "#sk-container-id-1 div.sk-estimator.fitted {\n",
       "  /* fitted */\n",
       "  background-color: var(--sklearn-color-fitted-level-0);\n",
       "}\n",
       "\n",
       "/* on hover */\n",
       "#sk-container-id-1 div.sk-estimator:hover {\n",
       "  /* unfitted */\n",
       "  background-color: var(--sklearn-color-unfitted-level-2);\n",
       "}\n",
       "\n",
       "#sk-container-id-1 div.sk-estimator.fitted:hover {\n",
       "  /* fitted */\n",
       "  background-color: var(--sklearn-color-fitted-level-2);\n",
       "}\n",
       "\n",
       "/* Specification for estimator info (e.g. \"i\" and \"?\") */\n",
       "\n",
       "/* Common style for \"i\" and \"?\" */\n",
       "\n",
       ".sk-estimator-doc-link,\n",
       "a:link.sk-estimator-doc-link,\n",
       "a:visited.sk-estimator-doc-link {\n",
       "  float: right;\n",
       "  font-size: smaller;\n",
       "  line-height: 1em;\n",
       "  font-family: monospace;\n",
       "  background-color: var(--sklearn-color-background);\n",
       "  border-radius: 1em;\n",
       "  height: 1em;\n",
       "  width: 1em;\n",
       "  text-decoration: none !important;\n",
       "  margin-left: 1ex;\n",
       "  /* unfitted */\n",
       "  border: var(--sklearn-color-unfitted-level-1) 1pt solid;\n",
       "  color: var(--sklearn-color-unfitted-level-1);\n",
       "}\n",
       "\n",
       ".sk-estimator-doc-link.fitted,\n",
       "a:link.sk-estimator-doc-link.fitted,\n",
       "a:visited.sk-estimator-doc-link.fitted {\n",
       "  /* fitted */\n",
       "  border: var(--sklearn-color-fitted-level-1) 1pt solid;\n",
       "  color: var(--sklearn-color-fitted-level-1);\n",
       "}\n",
       "\n",
       "/* On hover */\n",
       "div.sk-estimator:hover .sk-estimator-doc-link:hover,\n",
       ".sk-estimator-doc-link:hover,\n",
       "div.sk-label-container:hover .sk-estimator-doc-link:hover,\n",
       ".sk-estimator-doc-link:hover {\n",
       "  /* unfitted */\n",
       "  background-color: var(--sklearn-color-unfitted-level-3);\n",
       "  color: var(--sklearn-color-background);\n",
       "  text-decoration: none;\n",
       "}\n",
       "\n",
       "div.sk-estimator.fitted:hover .sk-estimator-doc-link.fitted:hover,\n",
       ".sk-estimator-doc-link.fitted:hover,\n",
       "div.sk-label-container:hover .sk-estimator-doc-link.fitted:hover,\n",
       ".sk-estimator-doc-link.fitted:hover {\n",
       "  /* fitted */\n",
       "  background-color: var(--sklearn-color-fitted-level-3);\n",
       "  color: var(--sklearn-color-background);\n",
       "  text-decoration: none;\n",
       "}\n",
       "\n",
       "/* Span, style for the box shown on hovering the info icon */\n",
       ".sk-estimator-doc-link span {\n",
       "  display: none;\n",
       "  z-index: 9999;\n",
       "  position: relative;\n",
       "  font-weight: normal;\n",
       "  right: .2ex;\n",
       "  padding: .5ex;\n",
       "  margin: .5ex;\n",
       "  width: min-content;\n",
       "  min-width: 20ex;\n",
       "  max-width: 50ex;\n",
       "  color: var(--sklearn-color-text);\n",
       "  box-shadow: 2pt 2pt 4pt #999;\n",
       "  /* unfitted */\n",
       "  background: var(--sklearn-color-unfitted-level-0);\n",
       "  border: .5pt solid var(--sklearn-color-unfitted-level-3);\n",
       "}\n",
       "\n",
       ".sk-estimator-doc-link.fitted span {\n",
       "  /* fitted */\n",
       "  background: var(--sklearn-color-fitted-level-0);\n",
       "  border: var(--sklearn-color-fitted-level-3);\n",
       "}\n",
       "\n",
       ".sk-estimator-doc-link:hover span {\n",
       "  display: block;\n",
       "}\n",
       "\n",
       "/* \"?\"-specific style due to the `<a>` HTML tag */\n",
       "\n",
       "#sk-container-id-1 a.estimator_doc_link {\n",
       "  float: right;\n",
       "  font-size: 1rem;\n",
       "  line-height: 1em;\n",
       "  font-family: monospace;\n",
       "  background-color: var(--sklearn-color-background);\n",
       "  border-radius: 1rem;\n",
       "  height: 1rem;\n",
       "  width: 1rem;\n",
       "  text-decoration: none;\n",
       "  /* unfitted */\n",
       "  color: var(--sklearn-color-unfitted-level-1);\n",
       "  border: var(--sklearn-color-unfitted-level-1) 1pt solid;\n",
       "}\n",
       "\n",
       "#sk-container-id-1 a.estimator_doc_link.fitted {\n",
       "  /* fitted */\n",
       "  border: var(--sklearn-color-fitted-level-1) 1pt solid;\n",
       "  color: var(--sklearn-color-fitted-level-1);\n",
       "}\n",
       "\n",
       "/* On hover */\n",
       "#sk-container-id-1 a.estimator_doc_link:hover {\n",
       "  /* unfitted */\n",
       "  background-color: var(--sklearn-color-unfitted-level-3);\n",
       "  color: var(--sklearn-color-background);\n",
       "  text-decoration: none;\n",
       "}\n",
       "\n",
       "#sk-container-id-1 a.estimator_doc_link.fitted:hover {\n",
       "  /* fitted */\n",
       "  background-color: var(--sklearn-color-fitted-level-3);\n",
       "}\n",
       "</style><div id=\"sk-container-id-1\" class=\"sk-top-container\"><div class=\"sk-text-repr-fallback\"><pre>GridSearchCV(cv=5, estimator=RandomForestRegressor(),\n",
       "             param_grid={&#x27;max_depth&#x27;: [1, 5, 10], &#x27;n_estimators&#x27;: [5, 10, 15]})</pre><b>In a Jupyter environment, please rerun this cell to show the HTML representation or trust the notebook. <br />On GitHub, the HTML representation is unable to render, please try loading this page with nbviewer.org.</b></div><div class=\"sk-container\" hidden><div class=\"sk-item sk-dashed-wrapped\"><div class=\"sk-label-container\"><div class=\"sk-label fitted sk-toggleable\"><input class=\"sk-toggleable__control sk-hidden--visually\" id=\"sk-estimator-id-1\" type=\"checkbox\" ><label for=\"sk-estimator-id-1\" class=\"sk-toggleable__label fitted sk-toggleable__label-arrow fitted\">&nbsp;&nbsp;GridSearchCV<a class=\"sk-estimator-doc-link fitted\" rel=\"noreferrer\" target=\"_blank\" href=\"https://scikit-learn.org/1.5/modules/generated/sklearn.model_selection.GridSearchCV.html\">?<span>Documentation for GridSearchCV</span></a><span class=\"sk-estimator-doc-link fitted\">i<span>Fitted</span></span></label><div class=\"sk-toggleable__content fitted\"><pre>GridSearchCV(cv=5, estimator=RandomForestRegressor(),\n",
       "             param_grid={&#x27;max_depth&#x27;: [1, 5, 10], &#x27;n_estimators&#x27;: [5, 10, 15]})</pre></div> </div></div><div class=\"sk-parallel\"><div class=\"sk-parallel-item\"><div class=\"sk-item\"><div class=\"sk-label-container\"><div class=\"sk-label fitted sk-toggleable\"><input class=\"sk-toggleable__control sk-hidden--visually\" id=\"sk-estimator-id-2\" type=\"checkbox\" ><label for=\"sk-estimator-id-2\" class=\"sk-toggleable__label fitted sk-toggleable__label-arrow fitted\">best_estimator_: RandomForestRegressor</label><div class=\"sk-toggleable__content fitted\"><pre>RandomForestRegressor(max_depth=10, n_estimators=15)</pre></div> </div></div><div class=\"sk-serial\"><div class=\"sk-item\"><div class=\"sk-estimator fitted sk-toggleable\"><input class=\"sk-toggleable__control sk-hidden--visually\" id=\"sk-estimator-id-3\" type=\"checkbox\" ><label for=\"sk-estimator-id-3\" class=\"sk-toggleable__label fitted sk-toggleable__label-arrow fitted\">&nbsp;RandomForestRegressor<a class=\"sk-estimator-doc-link fitted\" rel=\"noreferrer\" target=\"_blank\" href=\"https://scikit-learn.org/1.5/modules/generated/sklearn.ensemble.RandomForestRegressor.html\">?<span>Documentation for RandomForestRegressor</span></a></label><div class=\"sk-toggleable__content fitted\"><pre>RandomForestRegressor(max_depth=10, n_estimators=15)</pre></div> </div></div></div></div></div></div></div></div></div>"
      ],
      "text/plain": [
       "GridSearchCV(cv=5, estimator=RandomForestRegressor(),\n",
       "             param_grid={'max_depth': [1, 5, 10], 'n_estimators': [5, 10, 15]})"
      ]
     },
     "execution_count": 58,
     "metadata": {},
     "output_type": "execute_result"
    }
   ],
   "source": [
    "rf_grid = GridSearchCV(rf_model, param_grid, cv=5)\n",
    "rf_grid.fit(X_train, y_train)"
   ]
  },
  {
   "cell_type": "code",
   "execution_count": 59,
   "metadata": {},
   "outputs": [
    {
     "data": {
      "text/html": [
       "<style>#sk-container-id-2 {\n",
       "  /* Definition of color scheme common for light and dark mode */\n",
       "  --sklearn-color-text: black;\n",
       "  --sklearn-color-line: gray;\n",
       "  /* Definition of color scheme for unfitted estimators */\n",
       "  --sklearn-color-unfitted-level-0: #fff5e6;\n",
       "  --sklearn-color-unfitted-level-1: #f6e4d2;\n",
       "  --sklearn-color-unfitted-level-2: #ffe0b3;\n",
       "  --sklearn-color-unfitted-level-3: chocolate;\n",
       "  /* Definition of color scheme for fitted estimators */\n",
       "  --sklearn-color-fitted-level-0: #f0f8ff;\n",
       "  --sklearn-color-fitted-level-1: #d4ebff;\n",
       "  --sklearn-color-fitted-level-2: #b3dbfd;\n",
       "  --sklearn-color-fitted-level-3: cornflowerblue;\n",
       "\n",
       "  /* Specific color for light theme */\n",
       "  --sklearn-color-text-on-default-background: var(--sg-text-color, var(--theme-code-foreground, var(--jp-content-font-color1, black)));\n",
       "  --sklearn-color-background: var(--sg-background-color, var(--theme-background, var(--jp-layout-color0, white)));\n",
       "  --sklearn-color-border-box: var(--sg-text-color, var(--theme-code-foreground, var(--jp-content-font-color1, black)));\n",
       "  --sklearn-color-icon: #696969;\n",
       "\n",
       "  @media (prefers-color-scheme: dark) {\n",
       "    /* Redefinition of color scheme for dark theme */\n",
       "    --sklearn-color-text-on-default-background: var(--sg-text-color, var(--theme-code-foreground, var(--jp-content-font-color1, white)));\n",
       "    --sklearn-color-background: var(--sg-background-color, var(--theme-background, var(--jp-layout-color0, #111)));\n",
       "    --sklearn-color-border-box: var(--sg-text-color, var(--theme-code-foreground, var(--jp-content-font-color1, white)));\n",
       "    --sklearn-color-icon: #878787;\n",
       "  }\n",
       "}\n",
       "\n",
       "#sk-container-id-2 {\n",
       "  color: var(--sklearn-color-text);\n",
       "}\n",
       "\n",
       "#sk-container-id-2 pre {\n",
       "  padding: 0;\n",
       "}\n",
       "\n",
       "#sk-container-id-2 input.sk-hidden--visually {\n",
       "  border: 0;\n",
       "  clip: rect(1px 1px 1px 1px);\n",
       "  clip: rect(1px, 1px, 1px, 1px);\n",
       "  height: 1px;\n",
       "  margin: -1px;\n",
       "  overflow: hidden;\n",
       "  padding: 0;\n",
       "  position: absolute;\n",
       "  width: 1px;\n",
       "}\n",
       "\n",
       "#sk-container-id-2 div.sk-dashed-wrapped {\n",
       "  border: 1px dashed var(--sklearn-color-line);\n",
       "  margin: 0 0.4em 0.5em 0.4em;\n",
       "  box-sizing: border-box;\n",
       "  padding-bottom: 0.4em;\n",
       "  background-color: var(--sklearn-color-background);\n",
       "}\n",
       "\n",
       "#sk-container-id-2 div.sk-container {\n",
       "  /* jupyter's `normalize.less` sets `[hidden] { display: none; }`\n",
       "     but bootstrap.min.css set `[hidden] { display: none !important; }`\n",
       "     so we also need the `!important` here to be able to override the\n",
       "     default hidden behavior on the sphinx rendered scikit-learn.org.\n",
       "     See: https://github.com/scikit-learn/scikit-learn/issues/21755 */\n",
       "  display: inline-block !important;\n",
       "  position: relative;\n",
       "}\n",
       "\n",
       "#sk-container-id-2 div.sk-text-repr-fallback {\n",
       "  display: none;\n",
       "}\n",
       "\n",
       "div.sk-parallel-item,\n",
       "div.sk-serial,\n",
       "div.sk-item {\n",
       "  /* draw centered vertical line to link estimators */\n",
       "  background-image: linear-gradient(var(--sklearn-color-text-on-default-background), var(--sklearn-color-text-on-default-background));\n",
       "  background-size: 2px 100%;\n",
       "  background-repeat: no-repeat;\n",
       "  background-position: center center;\n",
       "}\n",
       "\n",
       "/* Parallel-specific style estimator block */\n",
       "\n",
       "#sk-container-id-2 div.sk-parallel-item::after {\n",
       "  content: \"\";\n",
       "  width: 100%;\n",
       "  border-bottom: 2px solid var(--sklearn-color-text-on-default-background);\n",
       "  flex-grow: 1;\n",
       "}\n",
       "\n",
       "#sk-container-id-2 div.sk-parallel {\n",
       "  display: flex;\n",
       "  align-items: stretch;\n",
       "  justify-content: center;\n",
       "  background-color: var(--sklearn-color-background);\n",
       "  position: relative;\n",
       "}\n",
       "\n",
       "#sk-container-id-2 div.sk-parallel-item {\n",
       "  display: flex;\n",
       "  flex-direction: column;\n",
       "}\n",
       "\n",
       "#sk-container-id-2 div.sk-parallel-item:first-child::after {\n",
       "  align-self: flex-end;\n",
       "  width: 50%;\n",
       "}\n",
       "\n",
       "#sk-container-id-2 div.sk-parallel-item:last-child::after {\n",
       "  align-self: flex-start;\n",
       "  width: 50%;\n",
       "}\n",
       "\n",
       "#sk-container-id-2 div.sk-parallel-item:only-child::after {\n",
       "  width: 0;\n",
       "}\n",
       "\n",
       "/* Serial-specific style estimator block */\n",
       "\n",
       "#sk-container-id-2 div.sk-serial {\n",
       "  display: flex;\n",
       "  flex-direction: column;\n",
       "  align-items: center;\n",
       "  background-color: var(--sklearn-color-background);\n",
       "  padding-right: 1em;\n",
       "  padding-left: 1em;\n",
       "}\n",
       "\n",
       "\n",
       "/* Toggleable style: style used for estimator/Pipeline/ColumnTransformer box that is\n",
       "clickable and can be expanded/collapsed.\n",
       "- Pipeline and ColumnTransformer use this feature and define the default style\n",
       "- Estimators will overwrite some part of the style using the `sk-estimator` class\n",
       "*/\n",
       "\n",
       "/* Pipeline and ColumnTransformer style (default) */\n",
       "\n",
       "#sk-container-id-2 div.sk-toggleable {\n",
       "  /* Default theme specific background. It is overwritten whether we have a\n",
       "  specific estimator or a Pipeline/ColumnTransformer */\n",
       "  background-color: var(--sklearn-color-background);\n",
       "}\n",
       "\n",
       "/* Toggleable label */\n",
       "#sk-container-id-2 label.sk-toggleable__label {\n",
       "  cursor: pointer;\n",
       "  display: block;\n",
       "  width: 100%;\n",
       "  margin-bottom: 0;\n",
       "  padding: 0.5em;\n",
       "  box-sizing: border-box;\n",
       "  text-align: center;\n",
       "}\n",
       "\n",
       "#sk-container-id-2 label.sk-toggleable__label-arrow:before {\n",
       "  /* Arrow on the left of the label */\n",
       "  content: \"▸\";\n",
       "  float: left;\n",
       "  margin-right: 0.25em;\n",
       "  color: var(--sklearn-color-icon);\n",
       "}\n",
       "\n",
       "#sk-container-id-2 label.sk-toggleable__label-arrow:hover:before {\n",
       "  color: var(--sklearn-color-text);\n",
       "}\n",
       "\n",
       "/* Toggleable content - dropdown */\n",
       "\n",
       "#sk-container-id-2 div.sk-toggleable__content {\n",
       "  max-height: 0;\n",
       "  max-width: 0;\n",
       "  overflow: hidden;\n",
       "  text-align: left;\n",
       "  /* unfitted */\n",
       "  background-color: var(--sklearn-color-unfitted-level-0);\n",
       "}\n",
       "\n",
       "#sk-container-id-2 div.sk-toggleable__content.fitted {\n",
       "  /* fitted */\n",
       "  background-color: var(--sklearn-color-fitted-level-0);\n",
       "}\n",
       "\n",
       "#sk-container-id-2 div.sk-toggleable__content pre {\n",
       "  margin: 0.2em;\n",
       "  border-radius: 0.25em;\n",
       "  color: var(--sklearn-color-text);\n",
       "  /* unfitted */\n",
       "  background-color: var(--sklearn-color-unfitted-level-0);\n",
       "}\n",
       "\n",
       "#sk-container-id-2 div.sk-toggleable__content.fitted pre {\n",
       "  /* unfitted */\n",
       "  background-color: var(--sklearn-color-fitted-level-0);\n",
       "}\n",
       "\n",
       "#sk-container-id-2 input.sk-toggleable__control:checked~div.sk-toggleable__content {\n",
       "  /* Expand drop-down */\n",
       "  max-height: 200px;\n",
       "  max-width: 100%;\n",
       "  overflow: auto;\n",
       "}\n",
       "\n",
       "#sk-container-id-2 input.sk-toggleable__control:checked~label.sk-toggleable__label-arrow:before {\n",
       "  content: \"▾\";\n",
       "}\n",
       "\n",
       "/* Pipeline/ColumnTransformer-specific style */\n",
       "\n",
       "#sk-container-id-2 div.sk-label input.sk-toggleable__control:checked~label.sk-toggleable__label {\n",
       "  color: var(--sklearn-color-text);\n",
       "  background-color: var(--sklearn-color-unfitted-level-2);\n",
       "}\n",
       "\n",
       "#sk-container-id-2 div.sk-label.fitted input.sk-toggleable__control:checked~label.sk-toggleable__label {\n",
       "  background-color: var(--sklearn-color-fitted-level-2);\n",
       "}\n",
       "\n",
       "/* Estimator-specific style */\n",
       "\n",
       "/* Colorize estimator box */\n",
       "#sk-container-id-2 div.sk-estimator input.sk-toggleable__control:checked~label.sk-toggleable__label {\n",
       "  /* unfitted */\n",
       "  background-color: var(--sklearn-color-unfitted-level-2);\n",
       "}\n",
       "\n",
       "#sk-container-id-2 div.sk-estimator.fitted input.sk-toggleable__control:checked~label.sk-toggleable__label {\n",
       "  /* fitted */\n",
       "  background-color: var(--sklearn-color-fitted-level-2);\n",
       "}\n",
       "\n",
       "#sk-container-id-2 div.sk-label label.sk-toggleable__label,\n",
       "#sk-container-id-2 div.sk-label label {\n",
       "  /* The background is the default theme color */\n",
       "  color: var(--sklearn-color-text-on-default-background);\n",
       "}\n",
       "\n",
       "/* On hover, darken the color of the background */\n",
       "#sk-container-id-2 div.sk-label:hover label.sk-toggleable__label {\n",
       "  color: var(--sklearn-color-text);\n",
       "  background-color: var(--sklearn-color-unfitted-level-2);\n",
       "}\n",
       "\n",
       "/* Label box, darken color on hover, fitted */\n",
       "#sk-container-id-2 div.sk-label.fitted:hover label.sk-toggleable__label.fitted {\n",
       "  color: var(--sklearn-color-text);\n",
       "  background-color: var(--sklearn-color-fitted-level-2);\n",
       "}\n",
       "\n",
       "/* Estimator label */\n",
       "\n",
       "#sk-container-id-2 div.sk-label label {\n",
       "  font-family: monospace;\n",
       "  font-weight: bold;\n",
       "  display: inline-block;\n",
       "  line-height: 1.2em;\n",
       "}\n",
       "\n",
       "#sk-container-id-2 div.sk-label-container {\n",
       "  text-align: center;\n",
       "}\n",
       "\n",
       "/* Estimator-specific */\n",
       "#sk-container-id-2 div.sk-estimator {\n",
       "  font-family: monospace;\n",
       "  border: 1px dotted var(--sklearn-color-border-box);\n",
       "  border-radius: 0.25em;\n",
       "  box-sizing: border-box;\n",
       "  margin-bottom: 0.5em;\n",
       "  /* unfitted */\n",
       "  background-color: var(--sklearn-color-unfitted-level-0);\n",
       "}\n",
       "\n",
       "#sk-container-id-2 div.sk-estimator.fitted {\n",
       "  /* fitted */\n",
       "  background-color: var(--sklearn-color-fitted-level-0);\n",
       "}\n",
       "\n",
       "/* on hover */\n",
       "#sk-container-id-2 div.sk-estimator:hover {\n",
       "  /* unfitted */\n",
       "  background-color: var(--sklearn-color-unfitted-level-2);\n",
       "}\n",
       "\n",
       "#sk-container-id-2 div.sk-estimator.fitted:hover {\n",
       "  /* fitted */\n",
       "  background-color: var(--sklearn-color-fitted-level-2);\n",
       "}\n",
       "\n",
       "/* Specification for estimator info (e.g. \"i\" and \"?\") */\n",
       "\n",
       "/* Common style for \"i\" and \"?\" */\n",
       "\n",
       ".sk-estimator-doc-link,\n",
       "a:link.sk-estimator-doc-link,\n",
       "a:visited.sk-estimator-doc-link {\n",
       "  float: right;\n",
       "  font-size: smaller;\n",
       "  line-height: 1em;\n",
       "  font-family: monospace;\n",
       "  background-color: var(--sklearn-color-background);\n",
       "  border-radius: 1em;\n",
       "  height: 1em;\n",
       "  width: 1em;\n",
       "  text-decoration: none !important;\n",
       "  margin-left: 1ex;\n",
       "  /* unfitted */\n",
       "  border: var(--sklearn-color-unfitted-level-1) 1pt solid;\n",
       "  color: var(--sklearn-color-unfitted-level-1);\n",
       "}\n",
       "\n",
       ".sk-estimator-doc-link.fitted,\n",
       "a:link.sk-estimator-doc-link.fitted,\n",
       "a:visited.sk-estimator-doc-link.fitted {\n",
       "  /* fitted */\n",
       "  border: var(--sklearn-color-fitted-level-1) 1pt solid;\n",
       "  color: var(--sklearn-color-fitted-level-1);\n",
       "}\n",
       "\n",
       "/* On hover */\n",
       "div.sk-estimator:hover .sk-estimator-doc-link:hover,\n",
       ".sk-estimator-doc-link:hover,\n",
       "div.sk-label-container:hover .sk-estimator-doc-link:hover,\n",
       ".sk-estimator-doc-link:hover {\n",
       "  /* unfitted */\n",
       "  background-color: var(--sklearn-color-unfitted-level-3);\n",
       "  color: var(--sklearn-color-background);\n",
       "  text-decoration: none;\n",
       "}\n",
       "\n",
       "div.sk-estimator.fitted:hover .sk-estimator-doc-link.fitted:hover,\n",
       ".sk-estimator-doc-link.fitted:hover,\n",
       "div.sk-label-container:hover .sk-estimator-doc-link.fitted:hover,\n",
       ".sk-estimator-doc-link.fitted:hover {\n",
       "  /* fitted */\n",
       "  background-color: var(--sklearn-color-fitted-level-3);\n",
       "  color: var(--sklearn-color-background);\n",
       "  text-decoration: none;\n",
       "}\n",
       "\n",
       "/* Span, style for the box shown on hovering the info icon */\n",
       ".sk-estimator-doc-link span {\n",
       "  display: none;\n",
       "  z-index: 9999;\n",
       "  position: relative;\n",
       "  font-weight: normal;\n",
       "  right: .2ex;\n",
       "  padding: .5ex;\n",
       "  margin: .5ex;\n",
       "  width: min-content;\n",
       "  min-width: 20ex;\n",
       "  max-width: 50ex;\n",
       "  color: var(--sklearn-color-text);\n",
       "  box-shadow: 2pt 2pt 4pt #999;\n",
       "  /* unfitted */\n",
       "  background: var(--sklearn-color-unfitted-level-0);\n",
       "  border: .5pt solid var(--sklearn-color-unfitted-level-3);\n",
       "}\n",
       "\n",
       ".sk-estimator-doc-link.fitted span {\n",
       "  /* fitted */\n",
       "  background: var(--sklearn-color-fitted-level-0);\n",
       "  border: var(--sklearn-color-fitted-level-3);\n",
       "}\n",
       "\n",
       ".sk-estimator-doc-link:hover span {\n",
       "  display: block;\n",
       "}\n",
       "\n",
       "/* \"?\"-specific style due to the `<a>` HTML tag */\n",
       "\n",
       "#sk-container-id-2 a.estimator_doc_link {\n",
       "  float: right;\n",
       "  font-size: 1rem;\n",
       "  line-height: 1em;\n",
       "  font-family: monospace;\n",
       "  background-color: var(--sklearn-color-background);\n",
       "  border-radius: 1rem;\n",
       "  height: 1rem;\n",
       "  width: 1rem;\n",
       "  text-decoration: none;\n",
       "  /* unfitted */\n",
       "  color: var(--sklearn-color-unfitted-level-1);\n",
       "  border: var(--sklearn-color-unfitted-level-1) 1pt solid;\n",
       "}\n",
       "\n",
       "#sk-container-id-2 a.estimator_doc_link.fitted {\n",
       "  /* fitted */\n",
       "  border: var(--sklearn-color-fitted-level-1) 1pt solid;\n",
       "  color: var(--sklearn-color-fitted-level-1);\n",
       "}\n",
       "\n",
       "/* On hover */\n",
       "#sk-container-id-2 a.estimator_doc_link:hover {\n",
       "  /* unfitted */\n",
       "  background-color: var(--sklearn-color-unfitted-level-3);\n",
       "  color: var(--sklearn-color-background);\n",
       "  text-decoration: none;\n",
       "}\n",
       "\n",
       "#sk-container-id-2 a.estimator_doc_link.fitted:hover {\n",
       "  /* fitted */\n",
       "  background-color: var(--sklearn-color-fitted-level-3);\n",
       "}\n",
       "</style><div id=\"sk-container-id-2\" class=\"sk-top-container\"><div class=\"sk-text-repr-fallback\"><pre>GridSearchCV(cv=5, estimator=RandomForestRegressor(),\n",
       "             param_grid={&#x27;max_depth&#x27;: [1, 5, 10], &#x27;n_estimators&#x27;: [5, 10, 15]})</pre><b>In a Jupyter environment, please rerun this cell to show the HTML representation or trust the notebook. <br />On GitHub, the HTML representation is unable to render, please try loading this page with nbviewer.org.</b></div><div class=\"sk-container\" hidden><div class=\"sk-item sk-dashed-wrapped\"><div class=\"sk-label-container\"><div class=\"sk-label  sk-toggleable\"><input class=\"sk-toggleable__control sk-hidden--visually\" id=\"sk-estimator-id-4\" type=\"checkbox\" ><label for=\"sk-estimator-id-4\" class=\"sk-toggleable__label  sk-toggleable__label-arrow \">&nbsp;&nbsp;GridSearchCV<a class=\"sk-estimator-doc-link \" rel=\"noreferrer\" target=\"_blank\" href=\"https://scikit-learn.org/1.5/modules/generated/sklearn.model_selection.GridSearchCV.html\">?<span>Documentation for GridSearchCV</span></a><span class=\"sk-estimator-doc-link \">i<span>Not fitted</span></span></label><div class=\"sk-toggleable__content \"><pre>GridSearchCV(cv=5, estimator=RandomForestRegressor(),\n",
       "             param_grid={&#x27;max_depth&#x27;: [1, 5, 10], &#x27;n_estimators&#x27;: [5, 10, 15]})</pre></div> </div></div><div class=\"sk-parallel\"><div class=\"sk-parallel-item\"><div class=\"sk-item\"><div class=\"sk-label-container\"><div class=\"sk-label  sk-toggleable\"><input class=\"sk-toggleable__control sk-hidden--visually\" id=\"sk-estimator-id-5\" type=\"checkbox\" ><label for=\"sk-estimator-id-5\" class=\"sk-toggleable__label  sk-toggleable__label-arrow \">estimator: RandomForestRegressor</label><div class=\"sk-toggleable__content \"><pre>RandomForestRegressor()</pre></div> </div></div><div class=\"sk-serial\"><div class=\"sk-item\"><div class=\"sk-estimator  sk-toggleable\"><input class=\"sk-toggleable__control sk-hidden--visually\" id=\"sk-estimator-id-6\" type=\"checkbox\" ><label for=\"sk-estimator-id-6\" class=\"sk-toggleable__label  sk-toggleable__label-arrow \">&nbsp;RandomForestRegressor<a class=\"sk-estimator-doc-link \" rel=\"noreferrer\" target=\"_blank\" href=\"https://scikit-learn.org/1.5/modules/generated/sklearn.ensemble.RandomForestRegressor.html\">?<span>Documentation for RandomForestRegressor</span></a></label><div class=\"sk-toggleable__content \"><pre>RandomForestRegressor()</pre></div> </div></div></div></div></div></div></div></div></div>"
      ],
      "text/plain": [
       "GridSearchCV(cv=5, estimator=RandomForestRegressor(),\n",
       "             param_grid={'max_depth': [1, 5, 10], 'n_estimators': [5, 10, 15]})"
      ]
     },
     "execution_count": 59,
     "metadata": {},
     "output_type": "execute_result"
    }
   ],
   "source": [
    "GridSearchCV(cv=5, estimator=RandomForestRegressor(),\n",
    "             param_grid={'max_depth': [1, 5, 10], 'n_estimators': [5, 10, 15]})"
   ]
  },
  {
   "cell_type": "code",
   "execution_count": 60,
   "metadata": {},
   "outputs": [
    {
     "name": "stdout",
     "output_type": "stream",
     "text": [
      "Melhores hiperparâmetros:  {'max_depth': 10, 'n_estimators': 15}\n",
      "Melhor pontuação:  0.8431935033001297\n"
     ]
    }
   ],
   "source": [
    "print('Melhores hiperparâmetros: ', rf_grid.best_params_)\n",
    "print('Melhor pontuação: ', rf_grid.best_score_)"
   ]
  },
  {
   "cell_type": "markdown",
   "metadata": {},
   "source": [
    "#### Treinando o modelo"
   ]
  },
  {
   "cell_type": "code",
   "execution_count": 61,
   "metadata": {},
   "outputs": [],
   "source": [
    "rf = RandomForestRegressor(max_depth = None, n_estimators=20, random_state=12345)\n",
    "start_time = time.time()\n",
    "\n",
    "rf.fit(X_train, y_train)\n",
    "end_time = time.time()\n",
    "total_time_rf = end_time - start_time"
   ]
  },
  {
   "cell_type": "code",
   "execution_count": 62,
   "metadata": {},
   "outputs": [
    {
     "name": "stdout",
     "output_type": "stream",
     "text": [
      "Tempo total de execução: 6.54 segundos\n"
     ]
    }
   ],
   "source": [
    "print(\"Tempo total de execução: {:.2f} segundos\".format(total_time_rf))"
   ]
  },
  {
   "cell_type": "markdown",
   "metadata": {},
   "source": [
    "### Árvore de Decisão"
   ]
  },
  {
   "cell_type": "code",
   "execution_count": 63,
   "metadata": {},
   "outputs": [],
   "source": [
    "dtr = DecisionTreeRegressor()\n",
    "param_grid = {\n",
    "    'max_depth': [2, 4, 6, 8, 10],\n",
    "    'min_samples_split': [2, 4, 6, 8, 10]\n",
    "}"
   ]
  },
  {
   "cell_type": "code",
   "execution_count": 64,
   "metadata": {},
   "outputs": [
    {
     "data": {
      "text/html": [
       "<style>#sk-container-id-3 {\n",
       "  /* Definition of color scheme common for light and dark mode */\n",
       "  --sklearn-color-text: black;\n",
       "  --sklearn-color-line: gray;\n",
       "  /* Definition of color scheme for unfitted estimators */\n",
       "  --sklearn-color-unfitted-level-0: #fff5e6;\n",
       "  --sklearn-color-unfitted-level-1: #f6e4d2;\n",
       "  --sklearn-color-unfitted-level-2: #ffe0b3;\n",
       "  --sklearn-color-unfitted-level-3: chocolate;\n",
       "  /* Definition of color scheme for fitted estimators */\n",
       "  --sklearn-color-fitted-level-0: #f0f8ff;\n",
       "  --sklearn-color-fitted-level-1: #d4ebff;\n",
       "  --sklearn-color-fitted-level-2: #b3dbfd;\n",
       "  --sklearn-color-fitted-level-3: cornflowerblue;\n",
       "\n",
       "  /* Specific color for light theme */\n",
       "  --sklearn-color-text-on-default-background: var(--sg-text-color, var(--theme-code-foreground, var(--jp-content-font-color1, black)));\n",
       "  --sklearn-color-background: var(--sg-background-color, var(--theme-background, var(--jp-layout-color0, white)));\n",
       "  --sklearn-color-border-box: var(--sg-text-color, var(--theme-code-foreground, var(--jp-content-font-color1, black)));\n",
       "  --sklearn-color-icon: #696969;\n",
       "\n",
       "  @media (prefers-color-scheme: dark) {\n",
       "    /* Redefinition of color scheme for dark theme */\n",
       "    --sklearn-color-text-on-default-background: var(--sg-text-color, var(--theme-code-foreground, var(--jp-content-font-color1, white)));\n",
       "    --sklearn-color-background: var(--sg-background-color, var(--theme-background, var(--jp-layout-color0, #111)));\n",
       "    --sklearn-color-border-box: var(--sg-text-color, var(--theme-code-foreground, var(--jp-content-font-color1, white)));\n",
       "    --sklearn-color-icon: #878787;\n",
       "  }\n",
       "}\n",
       "\n",
       "#sk-container-id-3 {\n",
       "  color: var(--sklearn-color-text);\n",
       "}\n",
       "\n",
       "#sk-container-id-3 pre {\n",
       "  padding: 0;\n",
       "}\n",
       "\n",
       "#sk-container-id-3 input.sk-hidden--visually {\n",
       "  border: 0;\n",
       "  clip: rect(1px 1px 1px 1px);\n",
       "  clip: rect(1px, 1px, 1px, 1px);\n",
       "  height: 1px;\n",
       "  margin: -1px;\n",
       "  overflow: hidden;\n",
       "  padding: 0;\n",
       "  position: absolute;\n",
       "  width: 1px;\n",
       "}\n",
       "\n",
       "#sk-container-id-3 div.sk-dashed-wrapped {\n",
       "  border: 1px dashed var(--sklearn-color-line);\n",
       "  margin: 0 0.4em 0.5em 0.4em;\n",
       "  box-sizing: border-box;\n",
       "  padding-bottom: 0.4em;\n",
       "  background-color: var(--sklearn-color-background);\n",
       "}\n",
       "\n",
       "#sk-container-id-3 div.sk-container {\n",
       "  /* jupyter's `normalize.less` sets `[hidden] { display: none; }`\n",
       "     but bootstrap.min.css set `[hidden] { display: none !important; }`\n",
       "     so we also need the `!important` here to be able to override the\n",
       "     default hidden behavior on the sphinx rendered scikit-learn.org.\n",
       "     See: https://github.com/scikit-learn/scikit-learn/issues/21755 */\n",
       "  display: inline-block !important;\n",
       "  position: relative;\n",
       "}\n",
       "\n",
       "#sk-container-id-3 div.sk-text-repr-fallback {\n",
       "  display: none;\n",
       "}\n",
       "\n",
       "div.sk-parallel-item,\n",
       "div.sk-serial,\n",
       "div.sk-item {\n",
       "  /* draw centered vertical line to link estimators */\n",
       "  background-image: linear-gradient(var(--sklearn-color-text-on-default-background), var(--sklearn-color-text-on-default-background));\n",
       "  background-size: 2px 100%;\n",
       "  background-repeat: no-repeat;\n",
       "  background-position: center center;\n",
       "}\n",
       "\n",
       "/* Parallel-specific style estimator block */\n",
       "\n",
       "#sk-container-id-3 div.sk-parallel-item::after {\n",
       "  content: \"\";\n",
       "  width: 100%;\n",
       "  border-bottom: 2px solid var(--sklearn-color-text-on-default-background);\n",
       "  flex-grow: 1;\n",
       "}\n",
       "\n",
       "#sk-container-id-3 div.sk-parallel {\n",
       "  display: flex;\n",
       "  align-items: stretch;\n",
       "  justify-content: center;\n",
       "  background-color: var(--sklearn-color-background);\n",
       "  position: relative;\n",
       "}\n",
       "\n",
       "#sk-container-id-3 div.sk-parallel-item {\n",
       "  display: flex;\n",
       "  flex-direction: column;\n",
       "}\n",
       "\n",
       "#sk-container-id-3 div.sk-parallel-item:first-child::after {\n",
       "  align-self: flex-end;\n",
       "  width: 50%;\n",
       "}\n",
       "\n",
       "#sk-container-id-3 div.sk-parallel-item:last-child::after {\n",
       "  align-self: flex-start;\n",
       "  width: 50%;\n",
       "}\n",
       "\n",
       "#sk-container-id-3 div.sk-parallel-item:only-child::after {\n",
       "  width: 0;\n",
       "}\n",
       "\n",
       "/* Serial-specific style estimator block */\n",
       "\n",
       "#sk-container-id-3 div.sk-serial {\n",
       "  display: flex;\n",
       "  flex-direction: column;\n",
       "  align-items: center;\n",
       "  background-color: var(--sklearn-color-background);\n",
       "  padding-right: 1em;\n",
       "  padding-left: 1em;\n",
       "}\n",
       "\n",
       "\n",
       "/* Toggleable style: style used for estimator/Pipeline/ColumnTransformer box that is\n",
       "clickable and can be expanded/collapsed.\n",
       "- Pipeline and ColumnTransformer use this feature and define the default style\n",
       "- Estimators will overwrite some part of the style using the `sk-estimator` class\n",
       "*/\n",
       "\n",
       "/* Pipeline and ColumnTransformer style (default) */\n",
       "\n",
       "#sk-container-id-3 div.sk-toggleable {\n",
       "  /* Default theme specific background. It is overwritten whether we have a\n",
       "  specific estimator or a Pipeline/ColumnTransformer */\n",
       "  background-color: var(--sklearn-color-background);\n",
       "}\n",
       "\n",
       "/* Toggleable label */\n",
       "#sk-container-id-3 label.sk-toggleable__label {\n",
       "  cursor: pointer;\n",
       "  display: block;\n",
       "  width: 100%;\n",
       "  margin-bottom: 0;\n",
       "  padding: 0.5em;\n",
       "  box-sizing: border-box;\n",
       "  text-align: center;\n",
       "}\n",
       "\n",
       "#sk-container-id-3 label.sk-toggleable__label-arrow:before {\n",
       "  /* Arrow on the left of the label */\n",
       "  content: \"▸\";\n",
       "  float: left;\n",
       "  margin-right: 0.25em;\n",
       "  color: var(--sklearn-color-icon);\n",
       "}\n",
       "\n",
       "#sk-container-id-3 label.sk-toggleable__label-arrow:hover:before {\n",
       "  color: var(--sklearn-color-text);\n",
       "}\n",
       "\n",
       "/* Toggleable content - dropdown */\n",
       "\n",
       "#sk-container-id-3 div.sk-toggleable__content {\n",
       "  max-height: 0;\n",
       "  max-width: 0;\n",
       "  overflow: hidden;\n",
       "  text-align: left;\n",
       "  /* unfitted */\n",
       "  background-color: var(--sklearn-color-unfitted-level-0);\n",
       "}\n",
       "\n",
       "#sk-container-id-3 div.sk-toggleable__content.fitted {\n",
       "  /* fitted */\n",
       "  background-color: var(--sklearn-color-fitted-level-0);\n",
       "}\n",
       "\n",
       "#sk-container-id-3 div.sk-toggleable__content pre {\n",
       "  margin: 0.2em;\n",
       "  border-radius: 0.25em;\n",
       "  color: var(--sklearn-color-text);\n",
       "  /* unfitted */\n",
       "  background-color: var(--sklearn-color-unfitted-level-0);\n",
       "}\n",
       "\n",
       "#sk-container-id-3 div.sk-toggleable__content.fitted pre {\n",
       "  /* unfitted */\n",
       "  background-color: var(--sklearn-color-fitted-level-0);\n",
       "}\n",
       "\n",
       "#sk-container-id-3 input.sk-toggleable__control:checked~div.sk-toggleable__content {\n",
       "  /* Expand drop-down */\n",
       "  max-height: 200px;\n",
       "  max-width: 100%;\n",
       "  overflow: auto;\n",
       "}\n",
       "\n",
       "#sk-container-id-3 input.sk-toggleable__control:checked~label.sk-toggleable__label-arrow:before {\n",
       "  content: \"▾\";\n",
       "}\n",
       "\n",
       "/* Pipeline/ColumnTransformer-specific style */\n",
       "\n",
       "#sk-container-id-3 div.sk-label input.sk-toggleable__control:checked~label.sk-toggleable__label {\n",
       "  color: var(--sklearn-color-text);\n",
       "  background-color: var(--sklearn-color-unfitted-level-2);\n",
       "}\n",
       "\n",
       "#sk-container-id-3 div.sk-label.fitted input.sk-toggleable__control:checked~label.sk-toggleable__label {\n",
       "  background-color: var(--sklearn-color-fitted-level-2);\n",
       "}\n",
       "\n",
       "/* Estimator-specific style */\n",
       "\n",
       "/* Colorize estimator box */\n",
       "#sk-container-id-3 div.sk-estimator input.sk-toggleable__control:checked~label.sk-toggleable__label {\n",
       "  /* unfitted */\n",
       "  background-color: var(--sklearn-color-unfitted-level-2);\n",
       "}\n",
       "\n",
       "#sk-container-id-3 div.sk-estimator.fitted input.sk-toggleable__control:checked~label.sk-toggleable__label {\n",
       "  /* fitted */\n",
       "  background-color: var(--sklearn-color-fitted-level-2);\n",
       "}\n",
       "\n",
       "#sk-container-id-3 div.sk-label label.sk-toggleable__label,\n",
       "#sk-container-id-3 div.sk-label label {\n",
       "  /* The background is the default theme color */\n",
       "  color: var(--sklearn-color-text-on-default-background);\n",
       "}\n",
       "\n",
       "/* On hover, darken the color of the background */\n",
       "#sk-container-id-3 div.sk-label:hover label.sk-toggleable__label {\n",
       "  color: var(--sklearn-color-text);\n",
       "  background-color: var(--sklearn-color-unfitted-level-2);\n",
       "}\n",
       "\n",
       "/* Label box, darken color on hover, fitted */\n",
       "#sk-container-id-3 div.sk-label.fitted:hover label.sk-toggleable__label.fitted {\n",
       "  color: var(--sklearn-color-text);\n",
       "  background-color: var(--sklearn-color-fitted-level-2);\n",
       "}\n",
       "\n",
       "/* Estimator label */\n",
       "\n",
       "#sk-container-id-3 div.sk-label label {\n",
       "  font-family: monospace;\n",
       "  font-weight: bold;\n",
       "  display: inline-block;\n",
       "  line-height: 1.2em;\n",
       "}\n",
       "\n",
       "#sk-container-id-3 div.sk-label-container {\n",
       "  text-align: center;\n",
       "}\n",
       "\n",
       "/* Estimator-specific */\n",
       "#sk-container-id-3 div.sk-estimator {\n",
       "  font-family: monospace;\n",
       "  border: 1px dotted var(--sklearn-color-border-box);\n",
       "  border-radius: 0.25em;\n",
       "  box-sizing: border-box;\n",
       "  margin-bottom: 0.5em;\n",
       "  /* unfitted */\n",
       "  background-color: var(--sklearn-color-unfitted-level-0);\n",
       "}\n",
       "\n",
       "#sk-container-id-3 div.sk-estimator.fitted {\n",
       "  /* fitted */\n",
       "  background-color: var(--sklearn-color-fitted-level-0);\n",
       "}\n",
       "\n",
       "/* on hover */\n",
       "#sk-container-id-3 div.sk-estimator:hover {\n",
       "  /* unfitted */\n",
       "  background-color: var(--sklearn-color-unfitted-level-2);\n",
       "}\n",
       "\n",
       "#sk-container-id-3 div.sk-estimator.fitted:hover {\n",
       "  /* fitted */\n",
       "  background-color: var(--sklearn-color-fitted-level-2);\n",
       "}\n",
       "\n",
       "/* Specification for estimator info (e.g. \"i\" and \"?\") */\n",
       "\n",
       "/* Common style for \"i\" and \"?\" */\n",
       "\n",
       ".sk-estimator-doc-link,\n",
       "a:link.sk-estimator-doc-link,\n",
       "a:visited.sk-estimator-doc-link {\n",
       "  float: right;\n",
       "  font-size: smaller;\n",
       "  line-height: 1em;\n",
       "  font-family: monospace;\n",
       "  background-color: var(--sklearn-color-background);\n",
       "  border-radius: 1em;\n",
       "  height: 1em;\n",
       "  width: 1em;\n",
       "  text-decoration: none !important;\n",
       "  margin-left: 1ex;\n",
       "  /* unfitted */\n",
       "  border: var(--sklearn-color-unfitted-level-1) 1pt solid;\n",
       "  color: var(--sklearn-color-unfitted-level-1);\n",
       "}\n",
       "\n",
       ".sk-estimator-doc-link.fitted,\n",
       "a:link.sk-estimator-doc-link.fitted,\n",
       "a:visited.sk-estimator-doc-link.fitted {\n",
       "  /* fitted */\n",
       "  border: var(--sklearn-color-fitted-level-1) 1pt solid;\n",
       "  color: var(--sklearn-color-fitted-level-1);\n",
       "}\n",
       "\n",
       "/* On hover */\n",
       "div.sk-estimator:hover .sk-estimator-doc-link:hover,\n",
       ".sk-estimator-doc-link:hover,\n",
       "div.sk-label-container:hover .sk-estimator-doc-link:hover,\n",
       ".sk-estimator-doc-link:hover {\n",
       "  /* unfitted */\n",
       "  background-color: var(--sklearn-color-unfitted-level-3);\n",
       "  color: var(--sklearn-color-background);\n",
       "  text-decoration: none;\n",
       "}\n",
       "\n",
       "div.sk-estimator.fitted:hover .sk-estimator-doc-link.fitted:hover,\n",
       ".sk-estimator-doc-link.fitted:hover,\n",
       "div.sk-label-container:hover .sk-estimator-doc-link.fitted:hover,\n",
       ".sk-estimator-doc-link.fitted:hover {\n",
       "  /* fitted */\n",
       "  background-color: var(--sklearn-color-fitted-level-3);\n",
       "  color: var(--sklearn-color-background);\n",
       "  text-decoration: none;\n",
       "}\n",
       "\n",
       "/* Span, style for the box shown on hovering the info icon */\n",
       ".sk-estimator-doc-link span {\n",
       "  display: none;\n",
       "  z-index: 9999;\n",
       "  position: relative;\n",
       "  font-weight: normal;\n",
       "  right: .2ex;\n",
       "  padding: .5ex;\n",
       "  margin: .5ex;\n",
       "  width: min-content;\n",
       "  min-width: 20ex;\n",
       "  max-width: 50ex;\n",
       "  color: var(--sklearn-color-text);\n",
       "  box-shadow: 2pt 2pt 4pt #999;\n",
       "  /* unfitted */\n",
       "  background: var(--sklearn-color-unfitted-level-0);\n",
       "  border: .5pt solid var(--sklearn-color-unfitted-level-3);\n",
       "}\n",
       "\n",
       ".sk-estimator-doc-link.fitted span {\n",
       "  /* fitted */\n",
       "  background: var(--sklearn-color-fitted-level-0);\n",
       "  border: var(--sklearn-color-fitted-level-3);\n",
       "}\n",
       "\n",
       ".sk-estimator-doc-link:hover span {\n",
       "  display: block;\n",
       "}\n",
       "\n",
       "/* \"?\"-specific style due to the `<a>` HTML tag */\n",
       "\n",
       "#sk-container-id-3 a.estimator_doc_link {\n",
       "  float: right;\n",
       "  font-size: 1rem;\n",
       "  line-height: 1em;\n",
       "  font-family: monospace;\n",
       "  background-color: var(--sklearn-color-background);\n",
       "  border-radius: 1rem;\n",
       "  height: 1rem;\n",
       "  width: 1rem;\n",
       "  text-decoration: none;\n",
       "  /* unfitted */\n",
       "  color: var(--sklearn-color-unfitted-level-1);\n",
       "  border: var(--sklearn-color-unfitted-level-1) 1pt solid;\n",
       "}\n",
       "\n",
       "#sk-container-id-3 a.estimator_doc_link.fitted {\n",
       "  /* fitted */\n",
       "  border: var(--sklearn-color-fitted-level-1) 1pt solid;\n",
       "  color: var(--sklearn-color-fitted-level-1);\n",
       "}\n",
       "\n",
       "/* On hover */\n",
       "#sk-container-id-3 a.estimator_doc_link:hover {\n",
       "  /* unfitted */\n",
       "  background-color: var(--sklearn-color-unfitted-level-3);\n",
       "  color: var(--sklearn-color-background);\n",
       "  text-decoration: none;\n",
       "}\n",
       "\n",
       "#sk-container-id-3 a.estimator_doc_link.fitted:hover {\n",
       "  /* fitted */\n",
       "  background-color: var(--sklearn-color-fitted-level-3);\n",
       "}\n",
       "</style><div id=\"sk-container-id-3\" class=\"sk-top-container\"><div class=\"sk-text-repr-fallback\"><pre>GridSearchCV(cv=5, estimator=DecisionTreeRegressor(),\n",
       "             param_grid={&#x27;max_depth&#x27;: [2, 4, 6, 8, 10],\n",
       "                         &#x27;min_samples_split&#x27;: [2, 4, 6, 8, 10]})</pre><b>In a Jupyter environment, please rerun this cell to show the HTML representation or trust the notebook. <br />On GitHub, the HTML representation is unable to render, please try loading this page with nbviewer.org.</b></div><div class=\"sk-container\" hidden><div class=\"sk-item sk-dashed-wrapped\"><div class=\"sk-label-container\"><div class=\"sk-label fitted sk-toggleable\"><input class=\"sk-toggleable__control sk-hidden--visually\" id=\"sk-estimator-id-7\" type=\"checkbox\" ><label for=\"sk-estimator-id-7\" class=\"sk-toggleable__label fitted sk-toggleable__label-arrow fitted\">&nbsp;&nbsp;GridSearchCV<a class=\"sk-estimator-doc-link fitted\" rel=\"noreferrer\" target=\"_blank\" href=\"https://scikit-learn.org/1.5/modules/generated/sklearn.model_selection.GridSearchCV.html\">?<span>Documentation for GridSearchCV</span></a><span class=\"sk-estimator-doc-link fitted\">i<span>Fitted</span></span></label><div class=\"sk-toggleable__content fitted\"><pre>GridSearchCV(cv=5, estimator=DecisionTreeRegressor(),\n",
       "             param_grid={&#x27;max_depth&#x27;: [2, 4, 6, 8, 10],\n",
       "                         &#x27;min_samples_split&#x27;: [2, 4, 6, 8, 10]})</pre></div> </div></div><div class=\"sk-parallel\"><div class=\"sk-parallel-item\"><div class=\"sk-item\"><div class=\"sk-label-container\"><div class=\"sk-label fitted sk-toggleable\"><input class=\"sk-toggleable__control sk-hidden--visually\" id=\"sk-estimator-id-8\" type=\"checkbox\" ><label for=\"sk-estimator-id-8\" class=\"sk-toggleable__label fitted sk-toggleable__label-arrow fitted\">best_estimator_: DecisionTreeRegressor</label><div class=\"sk-toggleable__content fitted\"><pre>DecisionTreeRegressor(max_depth=10, min_samples_split=8)</pre></div> </div></div><div class=\"sk-serial\"><div class=\"sk-item\"><div class=\"sk-estimator fitted sk-toggleable\"><input class=\"sk-toggleable__control sk-hidden--visually\" id=\"sk-estimator-id-9\" type=\"checkbox\" ><label for=\"sk-estimator-id-9\" class=\"sk-toggleable__label fitted sk-toggleable__label-arrow fitted\">&nbsp;DecisionTreeRegressor<a class=\"sk-estimator-doc-link fitted\" rel=\"noreferrer\" target=\"_blank\" href=\"https://scikit-learn.org/1.5/modules/generated/sklearn.tree.DecisionTreeRegressor.html\">?<span>Documentation for DecisionTreeRegressor</span></a></label><div class=\"sk-toggleable__content fitted\"><pre>DecisionTreeRegressor(max_depth=10, min_samples_split=8)</pre></div> </div></div></div></div></div></div></div></div></div>"
      ],
      "text/plain": [
       "GridSearchCV(cv=5, estimator=DecisionTreeRegressor(),\n",
       "             param_grid={'max_depth': [2, 4, 6, 8, 10],\n",
       "                         'min_samples_split': [2, 4, 6, 8, 10]})"
      ]
     },
     "execution_count": 64,
     "metadata": {},
     "output_type": "execute_result"
    }
   ],
   "source": [
    "grid_search = GridSearchCV(dtr, param_grid, cv=5)\n",
    "grid_search.fit(X_train, y_train)"
   ]
  },
  {
   "cell_type": "code",
   "execution_count": 65,
   "metadata": {},
   "outputs": [
    {
     "data": {
      "text/html": [
       "<style>#sk-container-id-4 {\n",
       "  /* Definition of color scheme common for light and dark mode */\n",
       "  --sklearn-color-text: black;\n",
       "  --sklearn-color-line: gray;\n",
       "  /* Definition of color scheme for unfitted estimators */\n",
       "  --sklearn-color-unfitted-level-0: #fff5e6;\n",
       "  --sklearn-color-unfitted-level-1: #f6e4d2;\n",
       "  --sklearn-color-unfitted-level-2: #ffe0b3;\n",
       "  --sklearn-color-unfitted-level-3: chocolate;\n",
       "  /* Definition of color scheme for fitted estimators */\n",
       "  --sklearn-color-fitted-level-0: #f0f8ff;\n",
       "  --sklearn-color-fitted-level-1: #d4ebff;\n",
       "  --sklearn-color-fitted-level-2: #b3dbfd;\n",
       "  --sklearn-color-fitted-level-3: cornflowerblue;\n",
       "\n",
       "  /* Specific color for light theme */\n",
       "  --sklearn-color-text-on-default-background: var(--sg-text-color, var(--theme-code-foreground, var(--jp-content-font-color1, black)));\n",
       "  --sklearn-color-background: var(--sg-background-color, var(--theme-background, var(--jp-layout-color0, white)));\n",
       "  --sklearn-color-border-box: var(--sg-text-color, var(--theme-code-foreground, var(--jp-content-font-color1, black)));\n",
       "  --sklearn-color-icon: #696969;\n",
       "\n",
       "  @media (prefers-color-scheme: dark) {\n",
       "    /* Redefinition of color scheme for dark theme */\n",
       "    --sklearn-color-text-on-default-background: var(--sg-text-color, var(--theme-code-foreground, var(--jp-content-font-color1, white)));\n",
       "    --sklearn-color-background: var(--sg-background-color, var(--theme-background, var(--jp-layout-color0, #111)));\n",
       "    --sklearn-color-border-box: var(--sg-text-color, var(--theme-code-foreground, var(--jp-content-font-color1, white)));\n",
       "    --sklearn-color-icon: #878787;\n",
       "  }\n",
       "}\n",
       "\n",
       "#sk-container-id-4 {\n",
       "  color: var(--sklearn-color-text);\n",
       "}\n",
       "\n",
       "#sk-container-id-4 pre {\n",
       "  padding: 0;\n",
       "}\n",
       "\n",
       "#sk-container-id-4 input.sk-hidden--visually {\n",
       "  border: 0;\n",
       "  clip: rect(1px 1px 1px 1px);\n",
       "  clip: rect(1px, 1px, 1px, 1px);\n",
       "  height: 1px;\n",
       "  margin: -1px;\n",
       "  overflow: hidden;\n",
       "  padding: 0;\n",
       "  position: absolute;\n",
       "  width: 1px;\n",
       "}\n",
       "\n",
       "#sk-container-id-4 div.sk-dashed-wrapped {\n",
       "  border: 1px dashed var(--sklearn-color-line);\n",
       "  margin: 0 0.4em 0.5em 0.4em;\n",
       "  box-sizing: border-box;\n",
       "  padding-bottom: 0.4em;\n",
       "  background-color: var(--sklearn-color-background);\n",
       "}\n",
       "\n",
       "#sk-container-id-4 div.sk-container {\n",
       "  /* jupyter's `normalize.less` sets `[hidden] { display: none; }`\n",
       "     but bootstrap.min.css set `[hidden] { display: none !important; }`\n",
       "     so we also need the `!important` here to be able to override the\n",
       "     default hidden behavior on the sphinx rendered scikit-learn.org.\n",
       "     See: https://github.com/scikit-learn/scikit-learn/issues/21755 */\n",
       "  display: inline-block !important;\n",
       "  position: relative;\n",
       "}\n",
       "\n",
       "#sk-container-id-4 div.sk-text-repr-fallback {\n",
       "  display: none;\n",
       "}\n",
       "\n",
       "div.sk-parallel-item,\n",
       "div.sk-serial,\n",
       "div.sk-item {\n",
       "  /* draw centered vertical line to link estimators */\n",
       "  background-image: linear-gradient(var(--sklearn-color-text-on-default-background), var(--sklearn-color-text-on-default-background));\n",
       "  background-size: 2px 100%;\n",
       "  background-repeat: no-repeat;\n",
       "  background-position: center center;\n",
       "}\n",
       "\n",
       "/* Parallel-specific style estimator block */\n",
       "\n",
       "#sk-container-id-4 div.sk-parallel-item::after {\n",
       "  content: \"\";\n",
       "  width: 100%;\n",
       "  border-bottom: 2px solid var(--sklearn-color-text-on-default-background);\n",
       "  flex-grow: 1;\n",
       "}\n",
       "\n",
       "#sk-container-id-4 div.sk-parallel {\n",
       "  display: flex;\n",
       "  align-items: stretch;\n",
       "  justify-content: center;\n",
       "  background-color: var(--sklearn-color-background);\n",
       "  position: relative;\n",
       "}\n",
       "\n",
       "#sk-container-id-4 div.sk-parallel-item {\n",
       "  display: flex;\n",
       "  flex-direction: column;\n",
       "}\n",
       "\n",
       "#sk-container-id-4 div.sk-parallel-item:first-child::after {\n",
       "  align-self: flex-end;\n",
       "  width: 50%;\n",
       "}\n",
       "\n",
       "#sk-container-id-4 div.sk-parallel-item:last-child::after {\n",
       "  align-self: flex-start;\n",
       "  width: 50%;\n",
       "}\n",
       "\n",
       "#sk-container-id-4 div.sk-parallel-item:only-child::after {\n",
       "  width: 0;\n",
       "}\n",
       "\n",
       "/* Serial-specific style estimator block */\n",
       "\n",
       "#sk-container-id-4 div.sk-serial {\n",
       "  display: flex;\n",
       "  flex-direction: column;\n",
       "  align-items: center;\n",
       "  background-color: var(--sklearn-color-background);\n",
       "  padding-right: 1em;\n",
       "  padding-left: 1em;\n",
       "}\n",
       "\n",
       "\n",
       "/* Toggleable style: style used for estimator/Pipeline/ColumnTransformer box that is\n",
       "clickable and can be expanded/collapsed.\n",
       "- Pipeline and ColumnTransformer use this feature and define the default style\n",
       "- Estimators will overwrite some part of the style using the `sk-estimator` class\n",
       "*/\n",
       "\n",
       "/* Pipeline and ColumnTransformer style (default) */\n",
       "\n",
       "#sk-container-id-4 div.sk-toggleable {\n",
       "  /* Default theme specific background. It is overwritten whether we have a\n",
       "  specific estimator or a Pipeline/ColumnTransformer */\n",
       "  background-color: var(--sklearn-color-background);\n",
       "}\n",
       "\n",
       "/* Toggleable label */\n",
       "#sk-container-id-4 label.sk-toggleable__label {\n",
       "  cursor: pointer;\n",
       "  display: block;\n",
       "  width: 100%;\n",
       "  margin-bottom: 0;\n",
       "  padding: 0.5em;\n",
       "  box-sizing: border-box;\n",
       "  text-align: center;\n",
       "}\n",
       "\n",
       "#sk-container-id-4 label.sk-toggleable__label-arrow:before {\n",
       "  /* Arrow on the left of the label */\n",
       "  content: \"▸\";\n",
       "  float: left;\n",
       "  margin-right: 0.25em;\n",
       "  color: var(--sklearn-color-icon);\n",
       "}\n",
       "\n",
       "#sk-container-id-4 label.sk-toggleable__label-arrow:hover:before {\n",
       "  color: var(--sklearn-color-text);\n",
       "}\n",
       "\n",
       "/* Toggleable content - dropdown */\n",
       "\n",
       "#sk-container-id-4 div.sk-toggleable__content {\n",
       "  max-height: 0;\n",
       "  max-width: 0;\n",
       "  overflow: hidden;\n",
       "  text-align: left;\n",
       "  /* unfitted */\n",
       "  background-color: var(--sklearn-color-unfitted-level-0);\n",
       "}\n",
       "\n",
       "#sk-container-id-4 div.sk-toggleable__content.fitted {\n",
       "  /* fitted */\n",
       "  background-color: var(--sklearn-color-fitted-level-0);\n",
       "}\n",
       "\n",
       "#sk-container-id-4 div.sk-toggleable__content pre {\n",
       "  margin: 0.2em;\n",
       "  border-radius: 0.25em;\n",
       "  color: var(--sklearn-color-text);\n",
       "  /* unfitted */\n",
       "  background-color: var(--sklearn-color-unfitted-level-0);\n",
       "}\n",
       "\n",
       "#sk-container-id-4 div.sk-toggleable__content.fitted pre {\n",
       "  /* unfitted */\n",
       "  background-color: var(--sklearn-color-fitted-level-0);\n",
       "}\n",
       "\n",
       "#sk-container-id-4 input.sk-toggleable__control:checked~div.sk-toggleable__content {\n",
       "  /* Expand drop-down */\n",
       "  max-height: 200px;\n",
       "  max-width: 100%;\n",
       "  overflow: auto;\n",
       "}\n",
       "\n",
       "#sk-container-id-4 input.sk-toggleable__control:checked~label.sk-toggleable__label-arrow:before {\n",
       "  content: \"▾\";\n",
       "}\n",
       "\n",
       "/* Pipeline/ColumnTransformer-specific style */\n",
       "\n",
       "#sk-container-id-4 div.sk-label input.sk-toggleable__control:checked~label.sk-toggleable__label {\n",
       "  color: var(--sklearn-color-text);\n",
       "  background-color: var(--sklearn-color-unfitted-level-2);\n",
       "}\n",
       "\n",
       "#sk-container-id-4 div.sk-label.fitted input.sk-toggleable__control:checked~label.sk-toggleable__label {\n",
       "  background-color: var(--sklearn-color-fitted-level-2);\n",
       "}\n",
       "\n",
       "/* Estimator-specific style */\n",
       "\n",
       "/* Colorize estimator box */\n",
       "#sk-container-id-4 div.sk-estimator input.sk-toggleable__control:checked~label.sk-toggleable__label {\n",
       "  /* unfitted */\n",
       "  background-color: var(--sklearn-color-unfitted-level-2);\n",
       "}\n",
       "\n",
       "#sk-container-id-4 div.sk-estimator.fitted input.sk-toggleable__control:checked~label.sk-toggleable__label {\n",
       "  /* fitted */\n",
       "  background-color: var(--sklearn-color-fitted-level-2);\n",
       "}\n",
       "\n",
       "#sk-container-id-4 div.sk-label label.sk-toggleable__label,\n",
       "#sk-container-id-4 div.sk-label label {\n",
       "  /* The background is the default theme color */\n",
       "  color: var(--sklearn-color-text-on-default-background);\n",
       "}\n",
       "\n",
       "/* On hover, darken the color of the background */\n",
       "#sk-container-id-4 div.sk-label:hover label.sk-toggleable__label {\n",
       "  color: var(--sklearn-color-text);\n",
       "  background-color: var(--sklearn-color-unfitted-level-2);\n",
       "}\n",
       "\n",
       "/* Label box, darken color on hover, fitted */\n",
       "#sk-container-id-4 div.sk-label.fitted:hover label.sk-toggleable__label.fitted {\n",
       "  color: var(--sklearn-color-text);\n",
       "  background-color: var(--sklearn-color-fitted-level-2);\n",
       "}\n",
       "\n",
       "/* Estimator label */\n",
       "\n",
       "#sk-container-id-4 div.sk-label label {\n",
       "  font-family: monospace;\n",
       "  font-weight: bold;\n",
       "  display: inline-block;\n",
       "  line-height: 1.2em;\n",
       "}\n",
       "\n",
       "#sk-container-id-4 div.sk-label-container {\n",
       "  text-align: center;\n",
       "}\n",
       "\n",
       "/* Estimator-specific */\n",
       "#sk-container-id-4 div.sk-estimator {\n",
       "  font-family: monospace;\n",
       "  border: 1px dotted var(--sklearn-color-border-box);\n",
       "  border-radius: 0.25em;\n",
       "  box-sizing: border-box;\n",
       "  margin-bottom: 0.5em;\n",
       "  /* unfitted */\n",
       "  background-color: var(--sklearn-color-unfitted-level-0);\n",
       "}\n",
       "\n",
       "#sk-container-id-4 div.sk-estimator.fitted {\n",
       "  /* fitted */\n",
       "  background-color: var(--sklearn-color-fitted-level-0);\n",
       "}\n",
       "\n",
       "/* on hover */\n",
       "#sk-container-id-4 div.sk-estimator:hover {\n",
       "  /* unfitted */\n",
       "  background-color: var(--sklearn-color-unfitted-level-2);\n",
       "}\n",
       "\n",
       "#sk-container-id-4 div.sk-estimator.fitted:hover {\n",
       "  /* fitted */\n",
       "  background-color: var(--sklearn-color-fitted-level-2);\n",
       "}\n",
       "\n",
       "/* Specification for estimator info (e.g. \"i\" and \"?\") */\n",
       "\n",
       "/* Common style for \"i\" and \"?\" */\n",
       "\n",
       ".sk-estimator-doc-link,\n",
       "a:link.sk-estimator-doc-link,\n",
       "a:visited.sk-estimator-doc-link {\n",
       "  float: right;\n",
       "  font-size: smaller;\n",
       "  line-height: 1em;\n",
       "  font-family: monospace;\n",
       "  background-color: var(--sklearn-color-background);\n",
       "  border-radius: 1em;\n",
       "  height: 1em;\n",
       "  width: 1em;\n",
       "  text-decoration: none !important;\n",
       "  margin-left: 1ex;\n",
       "  /* unfitted */\n",
       "  border: var(--sklearn-color-unfitted-level-1) 1pt solid;\n",
       "  color: var(--sklearn-color-unfitted-level-1);\n",
       "}\n",
       "\n",
       ".sk-estimator-doc-link.fitted,\n",
       "a:link.sk-estimator-doc-link.fitted,\n",
       "a:visited.sk-estimator-doc-link.fitted {\n",
       "  /* fitted */\n",
       "  border: var(--sklearn-color-fitted-level-1) 1pt solid;\n",
       "  color: var(--sklearn-color-fitted-level-1);\n",
       "}\n",
       "\n",
       "/* On hover */\n",
       "div.sk-estimator:hover .sk-estimator-doc-link:hover,\n",
       ".sk-estimator-doc-link:hover,\n",
       "div.sk-label-container:hover .sk-estimator-doc-link:hover,\n",
       ".sk-estimator-doc-link:hover {\n",
       "  /* unfitted */\n",
       "  background-color: var(--sklearn-color-unfitted-level-3);\n",
       "  color: var(--sklearn-color-background);\n",
       "  text-decoration: none;\n",
       "}\n",
       "\n",
       "div.sk-estimator.fitted:hover .sk-estimator-doc-link.fitted:hover,\n",
       ".sk-estimator-doc-link.fitted:hover,\n",
       "div.sk-label-container:hover .sk-estimator-doc-link.fitted:hover,\n",
       ".sk-estimator-doc-link.fitted:hover {\n",
       "  /* fitted */\n",
       "  background-color: var(--sklearn-color-fitted-level-3);\n",
       "  color: var(--sklearn-color-background);\n",
       "  text-decoration: none;\n",
       "}\n",
       "\n",
       "/* Span, style for the box shown on hovering the info icon */\n",
       ".sk-estimator-doc-link span {\n",
       "  display: none;\n",
       "  z-index: 9999;\n",
       "  position: relative;\n",
       "  font-weight: normal;\n",
       "  right: .2ex;\n",
       "  padding: .5ex;\n",
       "  margin: .5ex;\n",
       "  width: min-content;\n",
       "  min-width: 20ex;\n",
       "  max-width: 50ex;\n",
       "  color: var(--sklearn-color-text);\n",
       "  box-shadow: 2pt 2pt 4pt #999;\n",
       "  /* unfitted */\n",
       "  background: var(--sklearn-color-unfitted-level-0);\n",
       "  border: .5pt solid var(--sklearn-color-unfitted-level-3);\n",
       "}\n",
       "\n",
       ".sk-estimator-doc-link.fitted span {\n",
       "  /* fitted */\n",
       "  background: var(--sklearn-color-fitted-level-0);\n",
       "  border: var(--sklearn-color-fitted-level-3);\n",
       "}\n",
       "\n",
       ".sk-estimator-doc-link:hover span {\n",
       "  display: block;\n",
       "}\n",
       "\n",
       "/* \"?\"-specific style due to the `<a>` HTML tag */\n",
       "\n",
       "#sk-container-id-4 a.estimator_doc_link {\n",
       "  float: right;\n",
       "  font-size: 1rem;\n",
       "  line-height: 1em;\n",
       "  font-family: monospace;\n",
       "  background-color: var(--sklearn-color-background);\n",
       "  border-radius: 1rem;\n",
       "  height: 1rem;\n",
       "  width: 1rem;\n",
       "  text-decoration: none;\n",
       "  /* unfitted */\n",
       "  color: var(--sklearn-color-unfitted-level-1);\n",
       "  border: var(--sklearn-color-unfitted-level-1) 1pt solid;\n",
       "}\n",
       "\n",
       "#sk-container-id-4 a.estimator_doc_link.fitted {\n",
       "  /* fitted */\n",
       "  border: var(--sklearn-color-fitted-level-1) 1pt solid;\n",
       "  color: var(--sklearn-color-fitted-level-1);\n",
       "}\n",
       "\n",
       "/* On hover */\n",
       "#sk-container-id-4 a.estimator_doc_link:hover {\n",
       "  /* unfitted */\n",
       "  background-color: var(--sklearn-color-unfitted-level-3);\n",
       "  color: var(--sklearn-color-background);\n",
       "  text-decoration: none;\n",
       "}\n",
       "\n",
       "#sk-container-id-4 a.estimator_doc_link.fitted:hover {\n",
       "  /* fitted */\n",
       "  background-color: var(--sklearn-color-fitted-level-3);\n",
       "}\n",
       "</style><div id=\"sk-container-id-4\" class=\"sk-top-container\"><div class=\"sk-text-repr-fallback\"><pre>GridSearchCV(cv=5, estimator=DecisionTreeRegressor(),\n",
       "             param_grid={&#x27;max_depth&#x27;: [2, 4, 6, 8, 10],\n",
       "                         &#x27;min_samples_split&#x27;: [2, 4, 6, 8, 10]})</pre><b>In a Jupyter environment, please rerun this cell to show the HTML representation or trust the notebook. <br />On GitHub, the HTML representation is unable to render, please try loading this page with nbviewer.org.</b></div><div class=\"sk-container\" hidden><div class=\"sk-item sk-dashed-wrapped\"><div class=\"sk-label-container\"><div class=\"sk-label  sk-toggleable\"><input class=\"sk-toggleable__control sk-hidden--visually\" id=\"sk-estimator-id-10\" type=\"checkbox\" ><label for=\"sk-estimator-id-10\" class=\"sk-toggleable__label  sk-toggleable__label-arrow \">&nbsp;&nbsp;GridSearchCV<a class=\"sk-estimator-doc-link \" rel=\"noreferrer\" target=\"_blank\" href=\"https://scikit-learn.org/1.5/modules/generated/sklearn.model_selection.GridSearchCV.html\">?<span>Documentation for GridSearchCV</span></a><span class=\"sk-estimator-doc-link \">i<span>Not fitted</span></span></label><div class=\"sk-toggleable__content \"><pre>GridSearchCV(cv=5, estimator=DecisionTreeRegressor(),\n",
       "             param_grid={&#x27;max_depth&#x27;: [2, 4, 6, 8, 10],\n",
       "                         &#x27;min_samples_split&#x27;: [2, 4, 6, 8, 10]})</pre></div> </div></div><div class=\"sk-parallel\"><div class=\"sk-parallel-item\"><div class=\"sk-item\"><div class=\"sk-label-container\"><div class=\"sk-label  sk-toggleable\"><input class=\"sk-toggleable__control sk-hidden--visually\" id=\"sk-estimator-id-11\" type=\"checkbox\" ><label for=\"sk-estimator-id-11\" class=\"sk-toggleable__label  sk-toggleable__label-arrow \">estimator: DecisionTreeRegressor</label><div class=\"sk-toggleable__content \"><pre>DecisionTreeRegressor()</pre></div> </div></div><div class=\"sk-serial\"><div class=\"sk-item\"><div class=\"sk-estimator  sk-toggleable\"><input class=\"sk-toggleable__control sk-hidden--visually\" id=\"sk-estimator-id-12\" type=\"checkbox\" ><label for=\"sk-estimator-id-12\" class=\"sk-toggleable__label  sk-toggleable__label-arrow \">&nbsp;DecisionTreeRegressor<a class=\"sk-estimator-doc-link \" rel=\"noreferrer\" target=\"_blank\" href=\"https://scikit-learn.org/1.5/modules/generated/sklearn.tree.DecisionTreeRegressor.html\">?<span>Documentation for DecisionTreeRegressor</span></a></label><div class=\"sk-toggleable__content \"><pre>DecisionTreeRegressor()</pre></div> </div></div></div></div></div></div></div></div></div>"
      ],
      "text/plain": [
       "GridSearchCV(cv=5, estimator=DecisionTreeRegressor(),\n",
       "             param_grid={'max_depth': [2, 4, 6, 8, 10],\n",
       "                         'min_samples_split': [2, 4, 6, 8, 10]})"
      ]
     },
     "execution_count": 65,
     "metadata": {},
     "output_type": "execute_result"
    }
   ],
   "source": [
    "GridSearchCV(cv=5, estimator=DecisionTreeRegressor(),\n",
    "             param_grid={'max_depth': [2, 4, 6, 8, 10],\n",
    "                         'min_samples_split': [2, 4, 6, 8, 10]})"
   ]
  },
  {
   "cell_type": "code",
   "execution_count": 66,
   "metadata": {},
   "outputs": [
    {
     "name": "stdout",
     "output_type": "stream",
     "text": [
      "Melhores hiperparâmetros: {'max_depth': 10, 'min_samples_split': 8}\n",
      "Melhor pontuação: 0.8225026552177341\n"
     ]
    }
   ],
   "source": [
    "print('Melhores hiperparâmetros:', grid_search.best_params_)\n",
    "print('Melhor pontuação:', grid_search.best_score_)"
   ]
  },
  {
   "cell_type": "markdown",
   "metadata": {},
   "source": [
    "### Treinando o modelo"
   ]
  },
  {
   "cell_type": "code",
   "execution_count": 67,
   "metadata": {},
   "outputs": [],
   "source": [
    "dtr = DecisionTreeRegressor(max_depth = 10, min_samples_split = 10, random_state=12345)\n",
    "\n",
    "start_time = time.time()\n",
    "dtr.fit(X_train, y_train)\n",
    "end_time = time.time()\n",
    "total_time_dtr = end_time - start_time"
   ]
  },
  {
   "cell_type": "code",
   "execution_count": 68,
   "metadata": {},
   "outputs": [],
   "source": [
    "y_pred_dtr = dtr.predict(X_test)"
   ]
  },
  {
   "cell_type": "code",
   "execution_count": 69,
   "metadata": {},
   "outputs": [
    {
     "data": {
      "text/plain": [
       "1958.7487432604446"
      ]
     },
     "execution_count": 69,
     "metadata": {},
     "output_type": "execute_result"
    }
   ],
   "source": [
    "rmse_dtr = mean_squared_error(y_test, y_pred_dtr, squared=False)\n",
    "rmse_dtr"
   ]
  },
  {
   "cell_type": "code",
   "execution_count": 70,
   "metadata": {},
   "outputs": [
    {
     "name": "stdout",
     "output_type": "stream",
     "text": [
      "Tempo total de execução: 0.21 segundos\n"
     ]
    }
   ],
   "source": [
    "print(\"Tempo total de execução: {:.2f} segundos\".format(total_time_dtr))"
   ]
  },
  {
   "cell_type": "markdown",
   "metadata": {},
   "source": [
    "### Modelo Regressão Linear\n"
   ]
  },
  {
   "cell_type": "code",
   "execution_count": 71,
   "metadata": {},
   "outputs": [],
   "source": [
    "rl = LinearRegression()\n",
    "\n",
    "start_time = time.time()\n",
    "rl.fit(X_train, y_train)\n",
    "end_time = time.time()\n",
    "total_time_rl = end_time - start_time"
   ]
  },
  {
   "cell_type": "code",
   "execution_count": 72,
   "metadata": {},
   "outputs": [],
   "source": [
    "y_pred_rl = rl.predict(X_test)"
   ]
  },
  {
   "cell_type": "code",
   "execution_count": 73,
   "metadata": {},
   "outputs": [
    {
     "name": "stdout",
     "output_type": "stream",
     "text": [
      "2989.1059179326676\n"
     ]
    }
   ],
   "source": [
    "rmse_rl = mean_squared_error(y_test, y_pred_rl, squared=False)\n",
    "rmse_rl\n",
    "print(rmse_rl)"
   ]
  },
  {
   "cell_type": "code",
   "execution_count": 74,
   "metadata": {},
   "outputs": [],
   "source": [
    "lr = LinearRegression()\n",
    "lr.fit(X_train_val, y_train_val)\n",
    "lr_pred = lr.predict(X_val)"
   ]
  },
  {
   "cell_type": "code",
   "execution_count": 75,
   "metadata": {},
   "outputs": [
    {
     "data": {
      "text/plain": [
       "2989.1059179326676"
      ]
     },
     "execution_count": 75,
     "metadata": {},
     "output_type": "execute_result"
    }
   ],
   "source": [
    "rmse_rl = mean_squared_error(y_test, y_pred_rl) ** 0.5\n",
    "rmse_rl"
   ]
  },
  {
   "cell_type": "code",
   "execution_count": 76,
   "metadata": {},
   "outputs": [
    {
     "name": "stdout",
     "output_type": "stream",
     "text": [
      "Tempo total de execução: 0.05 segundos\n"
     ]
    }
   ],
   "source": [
    "print(\"Tempo total de execução: {:.2f} segundos\".format(total_time_rl))"
   ]
  },
  {
   "cell_type": "code",
   "execution_count": 77,
   "metadata": {},
   "outputs": [
    {
     "name": "stdout",
     "output_type": "stream",
     "text": [
      "Erro Quadrático Médio  para Regressão Linear: 2989.1059179326676\n",
      "Erro Quadrático Médio  para Árvore de Decisão: 1958.7487432604446\n",
      "Erro Quadrático Médio  para GBM: 1777.4420392146212\n"
     ]
    }
   ],
   "source": [
    "from sklearn.metrics import mean_squared_error\n",
    "import numpy as np\n",
    "\n",
    "\n",
    "def rmse(y, a):\n",
    "    return np.sqrt(mean_squared_error(y, a))\n",
    "\n",
    "# Cálculo dos valores de RMSE para diferentes modelos\n",
    "rmse_rl = rmse(y_test, y_pred_rl)  # Para o modelo de regressão linear \n",
    "rmse_dtr = rmse(y_test, y_pred_dtr)  # Para o modelo de árvore de decisão \n",
    "rmse_gbm = rmse(y_test, y_pred_gbm)  # Para o modelo GBM \n",
    "\n",
    "# Exibindo os resultados\n",
    "\n",
    "print(\"Erro Quadrático Médio  para Regressão Linear:\", rmse_rl)\n",
    "print(\"Erro Quadrático Médio  para Árvore de Decisão:\", rmse_dtr)\n",
    "print(\"Erro Quadrático Médio  para GBM:\", rmse_gbm)\n",
    "\n"
   ]
  },
  {
   "cell_type": "markdown",
   "metadata": {},
   "source": [
    "### Análise do modelo\n"
   ]
  },
  {
   "cell_type": "markdown",
   "metadata": {},
   "source": [
    "Neste projeto, utilizamos os modelos LightGBM, Floresta Aleatória, Árvore de Decisão e Regressão Linear para determinar o melhor ajuste ao nosso conjunto de dados. Testamos diferentes parâmetros no modelo LightGBM, o que impactou significativamente o tempo de execução. Por esse motivo, optamos por manter as configurações utilizadas no projeto. Além de medir o tempo de execução de cada modelo, avaliamos todos eles com base no RMSE (Erro Quadrático Médio da Raiz). Assim, escolhemos o modelo LightGBM como o mais adequado para a tarefa, pois, apesar de ter o maior tempo de execução, ele apresenta um desempenho aceitável."
   ]
  }
 ],
 "metadata": {
  "ExecuteTimeLog": [
   {
    "duration": 358,
    "start_time": "2024-11-12T02:35:35.124Z"
   },
   {
    "duration": 5,
    "start_time": "2024-11-12T02:35:54.068Z"
   },
   {
    "duration": 566,
    "start_time": "2024-11-12T02:36:01.109Z"
   },
   {
    "duration": 3,
    "start_time": "2024-11-12T02:36:13.266Z"
   },
   {
    "duration": 556,
    "start_time": "2024-11-12T02:36:24.910Z"
   },
   {
    "duration": 66,
    "start_time": "2024-11-12T02:36:48.276Z"
   },
   {
    "duration": 5,
    "start_time": "2024-11-12T02:46:44.033Z"
   },
   {
    "duration": 159,
    "start_time": "2024-11-12T18:09:42.843Z"
   },
   {
    "duration": 810,
    "start_time": "2024-11-12T18:09:47.876Z"
   },
   {
    "duration": 482,
    "start_time": "2024-11-12T18:09:48.983Z"
   },
   {
    "duration": 3,
    "start_time": "2024-11-12T18:10:53.313Z"
   },
   {
    "duration": 410,
    "start_time": "2024-11-12T18:10:56.177Z"
   },
   {
    "duration": 58,
    "start_time": "2024-11-12T18:10:59.693Z"
   },
   {
    "duration": 56,
    "start_time": "2024-11-12T18:11:07.163Z"
   },
   {
    "duration": 91,
    "start_time": "2024-11-12T18:16:37.103Z"
   },
   {
    "duration": 6,
    "start_time": "2024-11-12T18:17:16.329Z"
   },
   {
    "duration": 2,
    "start_time": "2024-11-12T18:18:10.322Z"
   },
   {
    "duration": 2,
    "start_time": "2024-11-12T18:18:10.826Z"
   },
   {
    "duration": 3,
    "start_time": "2024-11-12T18:18:22.152Z"
   },
   {
    "duration": 413,
    "start_time": "2024-11-12T18:18:41.741Z"
   },
   {
    "duration": 2,
    "start_time": "2024-11-12T18:18:54.793Z"
   },
   {
    "duration": 95,
    "start_time": "2024-11-12T18:19:19.977Z"
   },
   {
    "duration": 97,
    "start_time": "2024-11-12T18:23:49.053Z"
   },
   {
    "duration": 2,
    "start_time": "2024-11-12T18:24:17.994Z"
   },
   {
    "duration": 2,
    "start_time": "2024-11-12T18:25:25.507Z"
   },
   {
    "duration": 467,
    "start_time": "2024-11-12T18:26:52.810Z"
   },
   {
    "duration": 1014,
    "start_time": "2024-11-12T18:28:48.862Z"
   },
   {
    "duration": 1079,
    "start_time": "2024-11-12T18:29:02.751Z"
   },
   {
    "duration": 421,
    "start_time": "2024-11-12T18:29:54.769Z"
   },
   {
    "duration": 16,
    "start_time": "2024-11-12T18:29:59.310Z"
   },
   {
    "duration": 366,
    "start_time": "2024-11-12T18:30:03.839Z"
   },
   {
    "duration": 17,
    "start_time": "2024-11-12T18:30:05.676Z"
   },
   {
    "duration": 17,
    "start_time": "2024-11-12T18:31:07.311Z"
   },
   {
    "duration": 2,
    "start_time": "2024-11-12T18:34:16.504Z"
   },
   {
    "duration": 371,
    "start_time": "2024-11-12T18:34:16.814Z"
   },
   {
    "duration": 16,
    "start_time": "2024-11-12T18:34:17.225Z"
   },
   {
    "duration": 56,
    "start_time": "2024-11-12T18:34:18.554Z"
   },
   {
    "duration": 94,
    "start_time": "2024-11-12T18:34:27.862Z"
   },
   {
    "duration": 14,
    "start_time": "2024-11-12T18:35:49.130Z"
   },
   {
    "duration": 14,
    "start_time": "2024-11-12T18:35:55.009Z"
   },
   {
    "duration": 14,
    "start_time": "2024-11-12T18:36:41.457Z"
   },
   {
    "duration": 44,
    "start_time": "2024-11-12T18:37:03.089Z"
   },
   {
    "duration": 108,
    "start_time": "2024-11-12T18:40:01.040Z"
   },
   {
    "duration": 113,
    "start_time": "2024-11-12T18:40:08.916Z"
   },
   {
    "duration": 31,
    "start_time": "2024-11-12T18:40:24.574Z"
   },
   {
    "duration": 36,
    "start_time": "2024-11-12T18:40:47.409Z"
   },
   {
    "duration": 156,
    "start_time": "2024-11-12T18:42:10.492Z"
   },
   {
    "duration": 109,
    "start_time": "2024-11-12T18:42:45.599Z"
   },
   {
    "duration": 3,
    "start_time": "2024-11-12T18:43:12.866Z"
   },
   {
    "duration": 238,
    "start_time": "2024-11-12T18:44:08.174Z"
   },
   {
    "duration": 120,
    "start_time": "2024-11-12T18:49:28.454Z"
   },
   {
    "duration": 96,
    "start_time": "2024-11-12T18:52:25.509Z"
   },
   {
    "duration": 108,
    "start_time": "2024-11-12T18:52:28.530Z"
   },
   {
    "duration": 59,
    "start_time": "2024-11-12T19:00:03.201Z"
   },
   {
    "duration": 39,
    "start_time": "2024-11-12T19:00:19.448Z"
   },
   {
    "duration": 7,
    "start_time": "2024-11-12T19:00:30.758Z"
   },
   {
    "duration": 4,
    "start_time": "2024-11-12T19:01:08.838Z"
   },
   {
    "duration": 5,
    "start_time": "2024-11-12T19:01:10.713Z"
   },
   {
    "duration": 348,
    "start_time": "2024-11-12T19:01:54.925Z"
   },
   {
    "duration": 23,
    "start_time": "2024-11-12T19:02:08.730Z"
   },
   {
    "duration": 94,
    "start_time": "2024-11-12T19:02:41.345Z"
   },
   {
    "duration": 113,
    "start_time": "2024-11-12T19:02:45.432Z"
   },
   {
    "duration": 108,
    "start_time": "2024-11-12T19:03:09.458Z"
   },
   {
    "duration": 3,
    "start_time": "2024-11-12T19:04:31.512Z"
   },
   {
    "duration": 42,
    "start_time": "2024-11-12T19:04:46.131Z"
   },
   {
    "duration": 4,
    "start_time": "2024-11-12T19:05:01.723Z"
   },
   {
    "duration": 388,
    "start_time": "2024-11-12T19:05:01.729Z"
   },
   {
    "duration": 18,
    "start_time": "2024-11-12T19:05:02.118Z"
   },
   {
    "duration": 71,
    "start_time": "2024-11-12T19:05:02.139Z"
   },
   {
    "duration": 4,
    "start_time": "2024-11-12T19:05:02.212Z"
   },
   {
    "duration": 31,
    "start_time": "2024-11-12T19:05:02.218Z"
   },
   {
    "duration": 118,
    "start_time": "2024-11-12T19:05:02.250Z"
   },
   {
    "duration": 143,
    "start_time": "2024-11-12T19:05:02.369Z"
   },
   {
    "duration": 2,
    "start_time": "2024-11-12T19:05:43.339Z"
   },
   {
    "duration": 43,
    "start_time": "2024-11-12T19:05:58.828Z"
   },
   {
    "duration": 3,
    "start_time": "2024-11-12T19:06:15.588Z"
   },
   {
    "duration": 361,
    "start_time": "2024-11-12T19:06:17.603Z"
   },
   {
    "duration": 19,
    "start_time": "2024-11-12T19:06:21.511Z"
   },
   {
    "duration": 16,
    "start_time": "2024-11-12T19:07:47.108Z"
   },
   {
    "duration": 42,
    "start_time": "2024-11-12T19:08:04.796Z"
   },
   {
    "duration": 13,
    "start_time": "2024-11-12T19:08:14.680Z"
   },
   {
    "duration": 2,
    "start_time": "2024-11-12T19:08:43.875Z"
   },
   {
    "duration": 40,
    "start_time": "2024-11-12T19:10:07.642Z"
   },
   {
    "duration": 31,
    "start_time": "2024-11-12T19:10:17.034Z"
   },
   {
    "duration": 2,
    "start_time": "2024-11-12T19:10:33.495Z"
   },
   {
    "duration": 52,
    "start_time": "2024-11-12T19:10:42.066Z"
   },
   {
    "duration": 31,
    "start_time": "2024-11-12T19:10:50.401Z"
   },
   {
    "duration": 34,
    "start_time": "2024-11-12T19:11:16.227Z"
   },
   {
    "duration": 14,
    "start_time": "2024-11-12T19:11:47.435Z"
   },
   {
    "duration": 19,
    "start_time": "2024-11-12T19:12:19.446Z"
   },
   {
    "duration": 18,
    "start_time": "2024-11-12T19:12:21.492Z"
   },
   {
    "duration": 31,
    "start_time": "2024-11-12T19:12:23.618Z"
   },
   {
    "duration": 16,
    "start_time": "2024-11-12T19:12:31.858Z"
   },
   {
    "duration": 31,
    "start_time": "2024-11-12T19:12:34.099Z"
   },
   {
    "duration": 14,
    "start_time": "2024-11-12T19:12:36.936Z"
   },
   {
    "duration": 14,
    "start_time": "2024-11-12T19:13:55.606Z"
   },
   {
    "duration": 14,
    "start_time": "2024-11-12T19:13:59.655Z"
   },
   {
    "duration": 2,
    "start_time": "2024-11-12T19:20:34.630Z"
   },
   {
    "duration": 42,
    "start_time": "2024-11-12T19:21:20.332Z"
   },
   {
    "duration": 16,
    "start_time": "2024-11-12T19:21:27.767Z"
   },
   {
    "duration": 41,
    "start_time": "2024-11-12T19:21:44.765Z"
   },
   {
    "duration": 14,
    "start_time": "2024-11-12T19:21:50.070Z"
   },
   {
    "duration": 13,
    "start_time": "2024-11-12T19:22:11.574Z"
   },
   {
    "duration": 16,
    "start_time": "2024-11-12T19:22:14.728Z"
   },
   {
    "duration": 13,
    "start_time": "2024-11-12T19:23:19.334Z"
   },
   {
    "duration": 13,
    "start_time": "2024-11-12T19:24:23.704Z"
   },
   {
    "duration": 3,
    "start_time": "2024-11-13T00:55:56.715Z"
   },
   {
    "duration": 376,
    "start_time": "2024-11-13T00:55:57.178Z"
   },
   {
    "duration": 19,
    "start_time": "2024-11-13T00:55:58.512Z"
   },
   {
    "duration": 56,
    "start_time": "2024-11-13T00:56:01.006Z"
   },
   {
    "duration": 5,
    "start_time": "2024-11-13T00:56:02.191Z"
   },
   {
    "duration": 29,
    "start_time": "2024-11-13T00:56:02.755Z"
   },
   {
    "duration": 91,
    "start_time": "2024-11-13T00:56:03.158Z"
   },
   {
    "duration": 105,
    "start_time": "2024-11-13T00:56:04.622Z"
   },
   {
    "duration": 16,
    "start_time": "2024-11-13T00:56:06.661Z"
   },
   {
    "duration": 29,
    "start_time": "2024-11-13T00:56:08.939Z"
   },
   {
    "duration": 13,
    "start_time": "2024-11-13T00:56:09.783Z"
   },
   {
    "duration": 13,
    "start_time": "2024-11-13T01:05:27.490Z"
   },
   {
    "duration": 3,
    "start_time": "2024-11-13T01:05:33.900Z"
   },
   {
    "duration": 401,
    "start_time": "2024-11-13T01:05:35.077Z"
   },
   {
    "duration": 14,
    "start_time": "2024-11-13T01:05:36.929Z"
   },
   {
    "duration": 18,
    "start_time": "2024-11-13T01:06:38.701Z"
   },
   {
    "duration": 18,
    "start_time": "2024-11-13T01:06:42.162Z"
   },
   {
    "duration": 34,
    "start_time": "2024-11-13T01:07:23.246Z"
   },
   {
    "duration": 17,
    "start_time": "2024-11-13T01:07:56.032Z"
   },
   {
    "duration": 3,
    "start_time": "2024-11-13T01:16:03.920Z"
   },
   {
    "duration": 2,
    "start_time": "2024-11-13T01:16:06.757Z"
   },
   {
    "duration": 833,
    "start_time": "2024-11-13T04:31:39.721Z"
   },
   {
    "duration": 450,
    "start_time": "2024-11-13T04:31:40.557Z"
   },
   {
    "duration": 21,
    "start_time": "2024-11-13T04:31:41.009Z"
   },
   {
    "duration": 74,
    "start_time": "2024-11-13T04:31:41.032Z"
   },
   {
    "duration": 6,
    "start_time": "2024-11-13T04:31:41.108Z"
   },
   {
    "duration": 55,
    "start_time": "2024-11-13T04:31:41.115Z"
   },
   {
    "duration": 104,
    "start_time": "2024-11-13T04:31:41.172Z"
   },
   {
    "duration": 121,
    "start_time": "2024-11-13T04:31:41.278Z"
   },
   {
    "duration": 17,
    "start_time": "2024-11-13T04:31:41.400Z"
   },
   {
    "duration": 31,
    "start_time": "2024-11-13T04:31:41.420Z"
   },
   {
    "duration": 13,
    "start_time": "2024-11-13T04:31:41.469Z"
   },
   {
    "duration": 15,
    "start_time": "2024-11-13T04:31:41.484Z"
   },
   {
    "duration": 3,
    "start_time": "2024-11-13T04:31:41.501Z"
   },
   {
    "duration": 13,
    "start_time": "2024-11-13T04:31:41.507Z"
   },
   {
    "duration": 14,
    "start_time": "2024-11-13T04:31:55.521Z"
   },
   {
    "duration": 19,
    "start_time": "2024-11-13T04:31:57.444Z"
   },
   {
    "duration": 666,
    "start_time": "2024-11-13T04:34:54.471Z"
   },
   {
    "duration": 16,
    "start_time": "2024-11-13T04:35:00.549Z"
   },
   {
    "duration": 42,
    "start_time": "2024-11-13T04:35:30.996Z"
   },
   {
    "duration": 13,
    "start_time": "2024-11-13T04:35:35.891Z"
   },
   {
    "duration": 13,
    "start_time": "2024-11-13T04:35:51.286Z"
   },
   {
    "duration": 5,
    "start_time": "2024-11-13T04:36:14.742Z"
   },
   {
    "duration": 2,
    "start_time": "2024-11-13T04:37:15.798Z"
   },
   {
    "duration": 15,
    "start_time": "2024-11-13T04:37:54.101Z"
   },
   {
    "duration": 32,
    "start_time": "2024-11-13T04:38:34.695Z"
   },
   {
    "duration": 14,
    "start_time": "2024-11-13T04:38:52.960Z"
   },
   {
    "duration": 16,
    "start_time": "2024-11-13T04:39:39.399Z"
   },
   {
    "duration": 33,
    "start_time": "2024-11-13T04:39:51.941Z"
   },
   {
    "duration": 33,
    "start_time": "2024-11-13T04:40:01.271Z"
   },
   {
    "duration": 2,
    "start_time": "2024-11-13T04:40:22.812Z"
   },
   {
    "duration": 13,
    "start_time": "2024-11-13T04:40:46.040Z"
   },
   {
    "duration": 48,
    "start_time": "2024-11-13T04:44:26.441Z"
   },
   {
    "duration": 17,
    "start_time": "2024-11-13T04:45:32.947Z"
   },
   {
    "duration": 14,
    "start_time": "2024-11-13T04:45:59.544Z"
   },
   {
    "duration": 2,
    "start_time": "2024-11-13T04:46:16.196Z"
   },
   {
    "duration": 5,
    "start_time": "2024-11-13T04:46:49.159Z"
   },
   {
    "duration": 17,
    "start_time": "2024-11-13T04:47:42.151Z"
   },
   {
    "duration": 30,
    "start_time": "2024-11-13T04:48:13.670Z"
   },
   {
    "duration": 13,
    "start_time": "2024-11-13T04:48:17.720Z"
   },
   {
    "duration": 43,
    "start_time": "2024-11-13T04:49:13.611Z"
   },
   {
    "duration": 16,
    "start_time": "2024-11-13T04:49:41.568Z"
   },
   {
    "duration": 2,
    "start_time": "2024-11-13T04:50:03.532Z"
   },
   {
    "duration": 34,
    "start_time": "2024-11-13T04:50:24.760Z"
   },
   {
    "duration": 13,
    "start_time": "2024-11-13T04:51:12.343Z"
   },
   {
    "duration": 13,
    "start_time": "2024-11-13T04:51:38.700Z"
   },
   {
    "duration": 5,
    "start_time": "2024-11-13T04:52:43.783Z"
   },
   {
    "duration": 44,
    "start_time": "2024-11-13T04:53:55.018Z"
   },
   {
    "duration": 28,
    "start_time": "2024-11-13T04:53:59.359Z"
   },
   {
    "duration": 44,
    "start_time": "2024-11-13T04:55:29.001Z"
   },
   {
    "duration": 11,
    "start_time": "2024-11-13T04:55:33.224Z"
   },
   {
    "duration": 12,
    "start_time": "2024-11-13T04:55:53.129Z"
   },
   {
    "duration": 2,
    "start_time": "2024-11-13T04:57:09.386Z"
   },
   {
    "duration": 4,
    "start_time": "2024-11-13T04:58:08.744Z"
   },
   {
    "duration": 130,
    "start_time": "2024-11-13T04:59:20.953Z"
   },
   {
    "duration": 4,
    "start_time": "2024-11-13T04:59:58.092Z"
   },
   {
    "duration": 3,
    "start_time": "2024-11-13T05:00:09.995Z"
   },
   {
    "duration": 169,
    "start_time": "2024-11-13T05:01:07.749Z"
   },
   {
    "duration": 65,
    "start_time": "2024-11-13T05:02:26.429Z"
   },
   {
    "duration": 4,
    "start_time": "2024-11-13T05:03:28.404Z"
   },
   {
    "duration": 3,
    "start_time": "2024-11-13T05:04:03.672Z"
   },
   {
    "duration": 44,
    "start_time": "2024-11-13T05:04:35.100Z"
   },
   {
    "duration": 6,
    "start_time": "2024-11-13T05:05:06.652Z"
   },
   {
    "duration": 3,
    "start_time": "2024-11-13T05:05:25.195Z"
   },
   {
    "duration": 4,
    "start_time": "2024-11-13T05:06:24.410Z"
   },
   {
    "duration": 3,
    "start_time": "2024-11-13T05:06:49.467Z"
   },
   {
    "duration": 14,
    "start_time": "2024-11-13T05:07:02.421Z"
   },
   {
    "duration": 2,
    "start_time": "2024-11-13T05:08:20.061Z"
   },
   {
    "duration": 380,
    "start_time": "2024-11-13T05:08:25.421Z"
   },
   {
    "duration": 196,
    "start_time": "2024-11-13T05:10:34.941Z"
   },
   {
    "duration": 427,
    "start_time": "2024-11-13T05:11:24.430Z"
   },
   {
    "duration": 81,
    "start_time": "2024-11-13T05:12:56.062Z"
   },
   {
    "duration": 5,
    "start_time": "2024-11-13T05:13:40.965Z"
   },
   {
    "duration": 4,
    "start_time": "2024-11-13T05:13:57.744Z"
   },
   {
    "duration": 4,
    "start_time": "2024-11-13T05:14:15.422Z"
   },
   {
    "duration": 6,
    "start_time": "2024-11-13T05:14:58.368Z"
   },
   {
    "duration": 31,
    "start_time": "2024-11-13T05:15:15.405Z"
   },
   {
    "duration": 27,
    "start_time": "2024-11-13T05:22:12.839Z"
   },
   {
    "duration": 25,
    "start_time": "2024-11-13T05:22:25.521Z"
   },
   {
    "duration": 24,
    "start_time": "2024-11-13T05:22:41.375Z"
   },
   {
    "duration": 5,
    "start_time": "2024-11-13T05:22:54.895Z"
   },
   {
    "duration": 36,
    "start_time": "2024-11-13T05:23:09.552Z"
   },
   {
    "duration": 23,
    "start_time": "2024-11-13T05:23:20.081Z"
   },
   {
    "duration": 31,
    "start_time": "2024-11-13T05:23:22.523Z"
   },
   {
    "duration": 25,
    "start_time": "2024-11-13T05:23:35.425Z"
   },
   {
    "duration": 4,
    "start_time": "2024-11-13T05:34:47.154Z"
   },
   {
    "duration": 4,
    "start_time": "2024-11-13T05:35:06.900Z"
   },
   {
    "duration": 2,
    "start_time": "2024-11-13T05:35:28.464Z"
   },
   {
    "duration": 3,
    "start_time": "2024-11-13T05:35:32.927Z"
   },
   {
    "duration": 184485,
    "start_time": "2024-11-13T05:36:13.042Z"
   },
   {
    "duration": 0,
    "start_time": "2024-11-13T05:39:17.529Z"
   },
   {
    "duration": 0,
    "start_time": "2024-11-13T05:39:17.530Z"
   },
   {
    "duration": 0,
    "start_time": "2024-11-13T05:39:17.531Z"
   },
   {
    "duration": 914,
    "start_time": "2024-11-13T05:39:43.913Z"
   },
   {
    "duration": 413,
    "start_time": "2024-11-13T05:39:44.829Z"
   },
   {
    "duration": 36,
    "start_time": "2024-11-13T05:39:45.244Z"
   },
   {
    "duration": 87,
    "start_time": "2024-11-13T05:39:45.283Z"
   },
   {
    "duration": 6,
    "start_time": "2024-11-13T05:39:45.372Z"
   },
   {
    "duration": 52,
    "start_time": "2024-11-13T05:39:45.380Z"
   },
   {
    "duration": 120,
    "start_time": "2024-11-13T05:39:45.434Z"
   },
   {
    "duration": 129,
    "start_time": "2024-11-13T05:39:45.556Z"
   },
   {
    "duration": 17,
    "start_time": "2024-11-13T05:39:45.688Z"
   },
   {
    "duration": 33,
    "start_time": "2024-11-13T05:39:45.709Z"
   },
   {
    "duration": 38,
    "start_time": "2024-11-13T05:39:45.744Z"
   },
   {
    "duration": 23,
    "start_time": "2024-11-13T05:39:45.784Z"
   },
   {
    "duration": 32,
    "start_time": "2024-11-13T05:39:45.809Z"
   },
   {
    "duration": 30,
    "start_time": "2024-11-13T05:39:45.843Z"
   },
   {
    "duration": 20,
    "start_time": "2024-11-13T05:39:45.874Z"
   },
   {
    "duration": 32,
    "start_time": "2024-11-13T05:39:45.896Z"
   },
   {
    "duration": 41,
    "start_time": "2024-11-13T05:39:45.930Z"
   },
   {
    "duration": 46,
    "start_time": "2024-11-13T05:39:45.973Z"
   },
   {
    "duration": 17,
    "start_time": "2024-11-13T05:39:46.021Z"
   },
   {
    "duration": 48,
    "start_time": "2024-11-13T05:39:46.040Z"
   },
   {
    "duration": 14,
    "start_time": "2024-11-13T05:39:46.090Z"
   },
   {
    "duration": 15,
    "start_time": "2024-11-13T05:39:46.106Z"
   },
   {
    "duration": 57,
    "start_time": "2024-11-13T05:39:46.123Z"
   },
   {
    "duration": 18,
    "start_time": "2024-11-13T05:39:46.181Z"
   },
   {
    "duration": 28,
    "start_time": "2024-11-13T05:39:46.201Z"
   },
   {
    "duration": 10,
    "start_time": "2024-11-13T05:39:46.231Z"
   },
   {
    "duration": 27,
    "start_time": "2024-11-13T05:39:46.243Z"
   },
   {
    "duration": 156,
    "start_time": "2024-11-13T05:39:46.274Z"
   },
   {
    "duration": 5,
    "start_time": "2024-11-13T05:39:46.433Z"
   },
   {
    "duration": 5,
    "start_time": "2024-11-13T05:39:46.441Z"
   },
   {
    "duration": 222,
    "start_time": "2024-11-13T05:39:46.449Z"
   },
   {
    "duration": 68,
    "start_time": "2024-11-13T05:39:46.673Z"
   },
   {
    "duration": 406,
    "start_time": "2024-11-13T05:39:46.743Z"
   },
   {
    "duration": 435,
    "start_time": "2024-11-13T05:39:47.150Z"
   },
   {
    "duration": 106,
    "start_time": "2024-11-13T05:39:47.588Z"
   },
   {
    "duration": 245,
    "start_time": "2024-11-13T05:39:47.696Z"
   },
   {
    "duration": 0,
    "start_time": "2024-11-13T05:39:47.943Z"
   },
   {
    "duration": 0,
    "start_time": "2024-11-13T05:39:47.944Z"
   },
   {
    "duration": 0,
    "start_time": "2024-11-13T05:39:47.945Z"
   },
   {
    "duration": 0,
    "start_time": "2024-11-13T05:39:47.946Z"
   },
   {
    "duration": 0,
    "start_time": "2024-11-13T05:39:47.947Z"
   },
   {
    "duration": 120,
    "start_time": "2024-11-13T05:40:01.702Z"
   },
   {
    "duration": 18,
    "start_time": "2024-11-13T05:40:04.276Z"
   },
   {
    "duration": 22,
    "start_time": "2024-11-13T05:40:28.091Z"
   },
   {
    "duration": 27,
    "start_time": "2024-11-13T05:40:34.536Z"
   },
   {
    "duration": 23,
    "start_time": "2024-11-13T05:40:47.688Z"
   },
   {
    "duration": 3,
    "start_time": "2024-11-13T05:40:48.858Z"
   },
   {
    "duration": 349024,
    "start_time": "2024-11-13T05:40:52.151Z"
   },
   {
    "duration": 0,
    "start_time": "2024-11-13T05:46:41.178Z"
   },
   {
    "duration": 0,
    "start_time": "2024-11-13T05:46:41.179Z"
   },
   {
    "duration": 0,
    "start_time": "2024-11-13T05:46:41.180Z"
   },
   {
    "duration": 0,
    "start_time": "2024-11-13T05:46:41.183Z"
   },
   {
    "duration": 0,
    "start_time": "2024-11-13T05:46:41.184Z"
   },
   {
    "duration": 883,
    "start_time": "2024-11-13T05:46:49.590Z"
   },
   {
    "duration": 413,
    "start_time": "2024-11-13T05:46:50.475Z"
   },
   {
    "duration": 29,
    "start_time": "2024-11-13T05:46:50.893Z"
   },
   {
    "duration": 81,
    "start_time": "2024-11-13T05:46:50.923Z"
   },
   {
    "duration": 6,
    "start_time": "2024-11-13T05:46:51.007Z"
   },
   {
    "duration": 38,
    "start_time": "2024-11-13T05:46:51.014Z"
   },
   {
    "duration": 116,
    "start_time": "2024-11-13T05:46:51.055Z"
   },
   {
    "duration": 143,
    "start_time": "2024-11-13T05:46:51.173Z"
   },
   {
    "duration": 23,
    "start_time": "2024-11-13T05:46:51.318Z"
   },
   {
    "duration": 49,
    "start_time": "2024-11-13T05:46:51.342Z"
   },
   {
    "duration": 13,
    "start_time": "2024-11-13T05:46:51.393Z"
   },
   {
    "duration": 15,
    "start_time": "2024-11-13T05:46:51.408Z"
   },
   {
    "duration": 61,
    "start_time": "2024-11-13T05:46:51.425Z"
   },
   {
    "duration": 17,
    "start_time": "2024-11-13T05:46:51.491Z"
   },
   {
    "duration": 16,
    "start_time": "2024-11-13T05:46:51.510Z"
   },
   {
    "duration": 54,
    "start_time": "2024-11-13T05:46:51.529Z"
   },
   {
    "duration": 19,
    "start_time": "2024-11-13T05:46:51.586Z"
   },
   {
    "duration": 45,
    "start_time": "2024-11-13T05:46:51.606Z"
   },
   {
    "duration": 31,
    "start_time": "2024-11-13T05:46:51.653Z"
   },
   {
    "duration": 30,
    "start_time": "2024-11-13T05:46:51.686Z"
   },
   {
    "duration": 14,
    "start_time": "2024-11-13T05:46:51.718Z"
   },
   {
    "duration": 36,
    "start_time": "2024-11-13T05:46:51.734Z"
   },
   {
    "duration": 42,
    "start_time": "2024-11-13T05:46:51.772Z"
   },
   {
    "duration": 18,
    "start_time": "2024-11-13T05:46:51.816Z"
   },
   {
    "duration": 40,
    "start_time": "2024-11-13T05:46:51.836Z"
   },
   {
    "duration": 10,
    "start_time": "2024-11-13T05:46:51.879Z"
   },
   {
    "duration": 4,
    "start_time": "2024-11-13T05:46:51.891Z"
   },
   {
    "duration": 143,
    "start_time": "2024-11-13T05:46:51.896Z"
   },
   {
    "duration": 4,
    "start_time": "2024-11-13T05:46:52.040Z"
   },
   {
    "duration": 5,
    "start_time": "2024-11-13T05:46:52.045Z"
   },
   {
    "duration": 180,
    "start_time": "2024-11-13T05:46:52.071Z"
   },
   {
    "duration": 69,
    "start_time": "2024-11-13T05:46:52.253Z"
   },
   {
    "duration": 396,
    "start_time": "2024-11-13T05:46:52.324Z"
   },
   {
    "duration": 449,
    "start_time": "2024-11-13T05:46:52.722Z"
   },
   {
    "duration": 85,
    "start_time": "2024-11-13T05:46:53.173Z"
   },
   {
    "duration": 40,
    "start_time": "2024-11-13T05:46:53.269Z"
   },
   {
    "duration": 4,
    "start_time": "2024-11-13T05:46:53.311Z"
   },
   {
    "duration": 10178,
    "start_time": "2024-11-13T17:56:15.748Z"
   },
   {
    "duration": 866,
    "start_time": "2024-11-13T17:56:25.928Z"
   },
   {
    "duration": 607,
    "start_time": "2024-11-13T17:56:30.107Z"
   },
   {
    "duration": 62,
    "start_time": "2024-11-13T17:57:43.914Z"
   },
   {
    "duration": 73,
    "start_time": "2024-11-13T18:01:17.501Z"
   },
   {
    "duration": 462,
    "start_time": "2024-11-13T18:01:41.320Z"
   },
   {
    "duration": 404,
    "start_time": "2024-11-13T18:01:44.520Z"
   },
   {
    "duration": 23,
    "start_time": "2024-11-13T18:01:46.783Z"
   },
   {
    "duration": 59,
    "start_time": "2024-11-13T18:01:48.358Z"
   },
   {
    "duration": 6,
    "start_time": "2024-11-13T18:01:49.929Z"
   },
   {
    "duration": 32,
    "start_time": "2024-11-13T18:01:50.855Z"
   },
   {
    "duration": 91,
    "start_time": "2024-11-13T18:01:51.662Z"
   },
   {
    "duration": 112,
    "start_time": "2024-11-13T18:01:53.366Z"
   },
   {
    "duration": 17,
    "start_time": "2024-11-13T18:01:56.033Z"
   },
   {
    "duration": 31,
    "start_time": "2024-11-13T18:01:57.022Z"
   },
   {
    "duration": 14,
    "start_time": "2024-11-13T18:01:57.998Z"
   },
   {
    "duration": 15,
    "start_time": "2024-11-13T18:01:59.942Z"
   },
   {
    "duration": 31,
    "start_time": "2024-11-13T18:02:00.872Z"
   },
   {
    "duration": 13,
    "start_time": "2024-11-13T18:02:01.950Z"
   },
   {
    "duration": 16,
    "start_time": "2024-11-13T18:02:03.458Z"
   },
   {
    "duration": 31,
    "start_time": "2024-11-13T18:02:04.479Z"
   },
   {
    "duration": 13,
    "start_time": "2024-11-13T18:02:05.544Z"
   },
   {
    "duration": 34,
    "start_time": "2024-11-13T18:02:06.921Z"
   },
   {
    "duration": 16,
    "start_time": "2024-11-13T18:02:08.096Z"
   },
   {
    "duration": 31,
    "start_time": "2024-11-13T18:02:09.431Z"
   },
   {
    "duration": 13,
    "start_time": "2024-11-13T18:02:11.837Z"
   },
   {
    "duration": 16,
    "start_time": "2024-11-13T18:02:14.697Z"
   },
   {
    "duration": 33,
    "start_time": "2024-11-13T18:02:15.547Z"
   },
   {
    "duration": 14,
    "start_time": "2024-11-13T18:02:16.534Z"
   },
   {
    "duration": 28,
    "start_time": "2024-11-13T18:02:17.857Z"
   },
   {
    "duration": 10,
    "start_time": "2024-11-13T18:02:39.535Z"
   },
   {
    "duration": 4,
    "start_time": "2024-11-13T18:02:42.872Z"
   },
   {
    "duration": 120,
    "start_time": "2024-11-13T18:02:43.789Z"
   },
   {
    "duration": 4,
    "start_time": "2024-11-13T18:02:44.947Z"
   },
   {
    "duration": 4,
    "start_time": "2024-11-13T18:02:46.207Z"
   },
   {
    "duration": 179,
    "start_time": "2024-11-13T18:02:47.319Z"
   },
   {
    "duration": 65,
    "start_time": "2024-11-13T18:02:48.414Z"
   },
   {
    "duration": 377,
    "start_time": "2024-11-13T18:02:49.326Z"
   },
   {
    "duration": 411,
    "start_time": "2024-11-13T18:02:49.928Z"
   },
   {
    "duration": 85,
    "start_time": "2024-11-13T18:02:51.741Z"
   },
   {
    "duration": 47,
    "start_time": "2024-11-13T18:02:52.638Z"
   },
   {
    "duration": 4,
    "start_time": "2024-11-13T18:02:53.730Z"
   },
   {
    "duration": 59023,
    "start_time": "2024-11-13T18:02:54.523Z"
   },
   {
    "duration": 3,
    "start_time": "2024-11-13T18:03:53.624Z"
   },
   {
    "duration": 4,
    "start_time": "2024-11-13T18:03:53.629Z"
   },
   {
    "duration": 16204,
    "start_time": "2024-11-13T18:03:53.636Z"
   },
   {
    "duration": 3618,
    "start_time": "2024-11-13T18:04:09.841Z"
   },
   {
    "duration": 4,
    "start_time": "2024-11-13T18:04:13.463Z"
   },
   {
    "duration": 3,
    "start_time": "2024-11-13T18:04:13.468Z"
   },
   {
    "duration": 48172,
    "start_time": "2024-11-13T18:04:13.473Z"
   },
   {
    "duration": 5,
    "start_time": "2024-11-13T18:05:01.646Z"
   },
   {
    "duration": 4,
    "start_time": "2024-11-13T18:05:01.655Z"
   },
   {
    "duration": 8259,
    "start_time": "2024-11-13T18:05:01.660Z"
   },
   {
    "duration": 386,
    "start_time": "2024-11-13T18:05:09.924Z"
   },
   {
    "duration": 5,
    "start_time": "2024-11-13T18:05:10.311Z"
   },
   {
    "duration": 4,
    "start_time": "2024-11-13T18:05:10.323Z"
   },
   {
    "duration": 3,
    "start_time": "2024-11-13T18:05:10.328Z"
   },
   {
    "duration": 21915,
    "start_time": "2024-11-13T18:05:10.333Z"
   },
   {
    "duration": 4,
    "start_time": "2024-11-13T18:05:32.250Z"
   },
   {
    "duration": 3,
    "start_time": "2024-11-13T18:05:32.256Z"
   },
   {
    "duration": 356,
    "start_time": "2024-11-13T18:05:32.261Z"
   },
   {
    "duration": 8,
    "start_time": "2024-11-13T18:05:32.619Z"
   },
   {
    "duration": 4,
    "start_time": "2024-11-13T18:05:32.629Z"
   },
   {
    "duration": 3,
    "start_time": "2024-11-13T18:05:32.635Z"
   },
   {
    "duration": 33,
    "start_time": "2024-11-13T18:05:32.640Z"
   },
   {
    "duration": 51,
    "start_time": "2024-11-13T18:05:32.675Z"
   },
   {
    "duration": 3,
    "start_time": "2024-11-13T18:05:32.729Z"
   },
   {
    "duration": 2,
    "start_time": "2024-11-13T18:05:32.734Z"
   },
   {
    "duration": 932,
    "start_time": "2024-11-14T00:18:25.312Z"
   },
   {
    "duration": 11442,
    "start_time": "2024-11-14T00:18:28.078Z"
   },
   {
    "duration": 4,
    "start_time": "2024-11-14T00:18:46.687Z"
   },
   {
    "duration": 3160,
    "start_time": "2024-11-14T00:21:40.000Z"
   },
   {
    "duration": 921,
    "start_time": "2024-11-14T00:21:43.163Z"
   },
   {
    "duration": 525,
    "start_time": "2024-11-14T00:21:44.086Z"
   },
   {
    "duration": 23,
    "start_time": "2024-11-14T00:21:44.614Z"
   },
   {
    "duration": 77,
    "start_time": "2024-11-14T00:21:44.640Z"
   },
   {
    "duration": 5,
    "start_time": "2024-11-14T00:21:44.719Z"
   },
   {
    "duration": 43,
    "start_time": "2024-11-14T00:21:44.727Z"
   },
   {
    "duration": 115,
    "start_time": "2024-11-14T00:21:44.772Z"
   },
   {
    "duration": 126,
    "start_time": "2024-11-14T00:21:44.888Z"
   },
   {
    "duration": 19,
    "start_time": "2024-11-14T00:21:45.016Z"
   },
   {
    "duration": 34,
    "start_time": "2024-11-14T00:21:45.037Z"
   },
   {
    "duration": 36,
    "start_time": "2024-11-14T00:21:45.075Z"
   },
   {
    "duration": 18,
    "start_time": "2024-11-14T00:21:45.113Z"
   },
   {
    "duration": 39,
    "start_time": "2024-11-14T00:21:45.135Z"
   },
   {
    "duration": 38,
    "start_time": "2024-11-14T00:21:45.176Z"
   },
   {
    "duration": 20,
    "start_time": "2024-11-14T00:21:45.216Z"
   },
   {
    "duration": 33,
    "start_time": "2024-11-14T00:21:45.239Z"
   },
   {
    "duration": 37,
    "start_time": "2024-11-14T00:21:45.274Z"
   },
   {
    "duration": 37,
    "start_time": "2024-11-14T00:21:45.313Z"
   },
   {
    "duration": 22,
    "start_time": "2024-11-14T00:21:45.352Z"
   },
   {
    "duration": 51,
    "start_time": "2024-11-14T00:21:45.376Z"
   },
   {
    "duration": 15,
    "start_time": "2024-11-14T00:21:45.428Z"
   },
   {
    "duration": 18,
    "start_time": "2024-11-14T00:21:45.444Z"
   },
   {
    "duration": 55,
    "start_time": "2024-11-14T00:21:45.464Z"
   },
   {
    "duration": 14,
    "start_time": "2024-11-14T00:21:45.521Z"
   },
   {
    "duration": 26,
    "start_time": "2024-11-14T00:21:45.538Z"
   },
   {
    "duration": 15,
    "start_time": "2024-11-14T00:21:45.567Z"
   },
   {
    "duration": 26,
    "start_time": "2024-11-14T00:21:45.585Z"
   },
   {
    "duration": 130,
    "start_time": "2024-11-14T00:21:45.614Z"
   },
   {
    "duration": 6,
    "start_time": "2024-11-14T00:21:45.746Z"
   },
   {
    "duration": 5,
    "start_time": "2024-11-14T00:21:45.753Z"
   },
   {
    "duration": 199,
    "start_time": "2024-11-14T00:21:45.760Z"
   },
   {
    "duration": 73,
    "start_time": "2024-11-14T00:21:45.962Z"
   },
   {
    "duration": 410,
    "start_time": "2024-11-14T00:21:46.037Z"
   },
   {
    "duration": 441,
    "start_time": "2024-11-14T00:21:46.449Z"
   },
   {
    "duration": 105,
    "start_time": "2024-11-14T00:21:46.892Z"
   },
   {
    "duration": 52,
    "start_time": "2024-11-14T00:21:46.999Z"
   },
   {
    "duration": 4,
    "start_time": "2024-11-14T00:21:47.053Z"
   },
   {
    "duration": 987870,
    "start_time": "2024-11-14T00:21:47.059Z"
   },
   {
    "duration": 77,
    "start_time": "2024-11-14T00:38:14.931Z"
   },
   {
    "duration": 3,
    "start_time": "2024-11-14T00:38:15.014Z"
   },
   {
    "duration": 16004,
    "start_time": "2024-11-14T00:38:15.019Z"
   },
   {
    "duration": 3417,
    "start_time": "2024-11-14T00:38:31.025Z"
   },
   {
    "duration": 4,
    "start_time": "2024-11-14T00:38:34.446Z"
   },
   {
    "duration": 3,
    "start_time": "2024-11-14T00:38:34.451Z"
   },
   {
    "duration": 47775,
    "start_time": "2024-11-14T00:38:34.456Z"
   },
   {
    "duration": 4,
    "start_time": "2024-11-14T00:39:22.233Z"
   },
   {
    "duration": 3,
    "start_time": "2024-11-14T00:39:22.240Z"
   },
   {
    "duration": 8074,
    "start_time": "2024-11-14T00:39:22.244Z"
   },
   {
    "duration": 379,
    "start_time": "2024-11-14T00:39:30.321Z"
   },
   {
    "duration": 10,
    "start_time": "2024-11-14T00:39:30.701Z"
   },
   {
    "duration": 4,
    "start_time": "2024-11-14T00:39:30.712Z"
   },
   {
    "duration": 3,
    "start_time": "2024-11-14T00:39:30.718Z"
   },
   {
    "duration": 21808,
    "start_time": "2024-11-14T00:39:30.723Z"
   },
   {
    "duration": 4,
    "start_time": "2024-11-14T00:39:52.533Z"
   },
   {
    "duration": 4,
    "start_time": "2024-11-14T00:39:52.539Z"
   },
   {
    "duration": 344,
    "start_time": "2024-11-14T00:39:52.545Z"
   },
   {
    "duration": 6,
    "start_time": "2024-11-14T00:39:52.891Z"
   },
   {
    "duration": 12,
    "start_time": "2024-11-14T00:39:52.899Z"
   },
   {
    "duration": 3,
    "start_time": "2024-11-14T00:39:52.912Z"
   },
   {
    "duration": 32,
    "start_time": "2024-11-14T00:39:52.918Z"
   },
   {
    "duration": 70,
    "start_time": "2024-11-14T00:39:52.954Z"
   },
   {
    "duration": 81,
    "start_time": "2024-11-14T00:39:53.027Z"
   },
   {
    "duration": 4,
    "start_time": "2024-11-14T00:39:53.110Z"
   },
   {
    "duration": 42,
    "start_time": "2024-11-14T00:39:53.170Z"
   },
   {
    "duration": 4,
    "start_time": "2024-11-14T00:39:53.214Z"
   },
   {
    "duration": 8,
    "start_time": "2024-11-14T00:39:53.220Z"
   },
   {
    "duration": 0,
    "start_time": "2024-11-14T00:39:53.862Z"
   },
   {
    "duration": 0,
    "start_time": "2024-11-14T00:39:53.864Z"
   },
   {
    "duration": 0,
    "start_time": "2024-11-14T00:39:53.865Z"
   },
   {
    "duration": 0,
    "start_time": "2024-11-14T00:39:53.866Z"
   },
   {
    "duration": 0,
    "start_time": "2024-11-14T00:39:53.867Z"
   },
   {
    "duration": 7,
    "start_time": "2024-11-14T00:40:27.773Z"
   },
   {
    "duration": 10,
    "start_time": "2024-11-14T00:40:30.785Z"
   },
   {
    "duration": 4,
    "start_time": "2024-11-14T00:40:33.883Z"
   },
   {
    "duration": 7,
    "start_time": "2024-11-14T00:40:35.629Z"
   },
   {
    "duration": 41,
    "start_time": "2024-11-14T00:40:38.611Z"
   },
   {
    "duration": 19,
    "start_time": "2024-11-14T00:41:19.262Z"
   },
   {
    "duration": 3546,
    "start_time": "2024-11-14T00:43:54.221Z"
   },
   {
    "duration": 7645,
    "start_time": "2024-11-14T00:44:09.613Z"
   },
   {
    "duration": 1976,
    "start_time": "2024-11-14T00:44:22.599Z"
   },
   {
    "duration": 4,
    "start_time": "2024-11-14T00:44:28.988Z"
   },
   {
    "duration": 392,
    "start_time": "2024-11-14T00:44:30.279Z"
   },
   {
    "duration": 18,
    "start_time": "2024-11-14T00:44:31.197Z"
   },
   {
    "duration": 59,
    "start_time": "2024-11-14T00:44:31.951Z"
   },
   {
    "duration": 5,
    "start_time": "2024-11-14T00:44:33.208Z"
   },
   {
    "duration": 31,
    "start_time": "2024-11-14T00:44:34.280Z"
   },
   {
    "duration": 98,
    "start_time": "2024-11-14T00:44:35.201Z"
   },
   {
    "duration": 106,
    "start_time": "2024-11-14T00:44:36.331Z"
   },
   {
    "duration": 17,
    "start_time": "2024-11-14T00:44:38.406Z"
   },
   {
    "duration": 31,
    "start_time": "2024-11-14T00:44:38.868Z"
   },
   {
    "duration": 14,
    "start_time": "2024-11-14T00:44:39.853Z"
   },
   {
    "duration": 16,
    "start_time": "2024-11-14T00:44:39.935Z"
   },
   {
    "duration": 31,
    "start_time": "2024-11-14T00:44:40.338Z"
   },
   {
    "duration": 14,
    "start_time": "2024-11-14T00:44:40.953Z"
   },
   {
    "duration": 16,
    "start_time": "2024-11-14T00:44:41.931Z"
   },
   {
    "duration": 31,
    "start_time": "2024-11-14T00:44:42.289Z"
   },
   {
    "duration": 14,
    "start_time": "2024-11-14T00:44:42.969Z"
   },
   {
    "duration": 34,
    "start_time": "2024-11-14T00:44:43.811Z"
   },
   {
    "duration": 17,
    "start_time": "2024-11-14T00:44:44.395Z"
   },
   {
    "duration": 35,
    "start_time": "2024-11-14T00:44:44.798Z"
   },
   {
    "duration": 15,
    "start_time": "2024-11-14T00:44:45.460Z"
   },
   {
    "duration": 16,
    "start_time": "2024-11-14T00:44:46.886Z"
   },
   {
    "duration": 37,
    "start_time": "2024-11-14T00:44:47.797Z"
   },
   {
    "duration": 14,
    "start_time": "2024-11-14T00:44:49.105Z"
   },
   {
    "duration": 21,
    "start_time": "2024-11-14T00:44:49.878Z"
   },
   {
    "duration": 11,
    "start_time": "2024-11-14T00:44:50.510Z"
   },
   {
    "duration": 11,
    "start_time": "2024-11-14T00:44:52.183Z"
   },
   {
    "duration": 4,
    "start_time": "2024-11-14T00:44:53.391Z"
   },
   {
    "duration": 7,
    "start_time": "2024-11-14T00:44:54.654Z"
   },
   {
    "duration": 844,
    "start_time": "2024-11-14T00:44:57.021Z"
   },
   {
    "duration": 55,
    "start_time": "2024-11-14T00:45:07.667Z"
   },
   {
    "duration": 3,
    "start_time": "2024-11-14T00:45:09.479Z"
   },
   {
    "duration": 3,
    "start_time": "2024-11-14T00:45:30.958Z"
   },
   {
    "duration": 3,
    "start_time": "2024-11-14T00:46:08.180Z"
   },
   {
    "duration": 840,
    "start_time": "2024-11-14T00:46:23.215Z"
   },
   {
    "duration": 3054,
    "start_time": "2024-11-14T00:52:17.118Z"
   },
   {
    "duration": 2952,
    "start_time": "2024-11-14T00:53:03.642Z"
   },
   {
    "duration": 3918,
    "start_time": "2024-11-14T00:53:27.257Z"
   },
   {
    "duration": 4005,
    "start_time": "2024-11-14T00:54:46.270Z"
   },
   {
    "duration": 3058,
    "start_time": "2024-11-14T00:55:36.666Z"
   },
   {
    "duration": 2986,
    "start_time": "2024-11-14T00:56:57.139Z"
   },
   {
    "duration": 2960,
    "start_time": "2024-11-14T00:57:00.970Z"
   },
   {
    "duration": 1649,
    "start_time": "2024-11-14T00:57:07.788Z"
   },
   {
    "duration": 2974,
    "start_time": "2024-11-14T01:00:02.105Z"
   },
   {
    "duration": 2996,
    "start_time": "2024-11-14T01:00:08.948Z"
   },
   {
    "duration": 4020,
    "start_time": "2024-11-14T01:00:15.748Z"
   },
   {
    "duration": 33,
    "start_time": "2024-11-14T01:03:23.016Z"
   },
   {
    "duration": 90,
    "start_time": "2024-11-14T01:04:40.452Z"
   },
   {
    "duration": 200,
    "start_time": "2024-11-14T01:06:43.108Z"
   },
   {
    "duration": 30,
    "start_time": "2024-11-14T01:06:45.993Z"
   },
   {
    "duration": 21,
    "start_time": "2024-11-14T01:07:07.139Z"
   },
   {
    "duration": 16,
    "start_time": "2024-11-14T01:07:24.807Z"
   },
   {
    "duration": 14285,
    "start_time": "2024-11-14T01:08:05.462Z"
   },
   {
    "duration": 5,
    "start_time": "2024-11-14T01:08:31.531Z"
   },
   {
    "duration": 30,
    "start_time": "2024-11-14T01:08:41.931Z"
   },
   {
    "duration": 20,
    "start_time": "2024-11-14T01:08:43.224Z"
   },
   {
    "duration": 7347,
    "start_time": "2024-11-14T01:09:13.500Z"
   },
   {
    "duration": 7388,
    "start_time": "2024-11-14T01:10:27.957Z"
   },
   {
    "duration": 4,
    "start_time": "2024-11-14T01:10:39.803Z"
   },
   {
    "duration": 31,
    "start_time": "2024-11-14T01:10:53.415Z"
   },
   {
    "duration": 7423,
    "start_time": "2024-11-14T01:11:12.121Z"
   },
   {
    "duration": 1421,
    "start_time": "2024-11-14T01:11:19.547Z"
   },
   {
    "duration": 0,
    "start_time": "2024-11-14T01:11:20.973Z"
   },
   {
    "duration": 0,
    "start_time": "2024-11-14T01:11:20.974Z"
   },
   {
    "duration": 0,
    "start_time": "2024-11-14T01:11:20.976Z"
   },
   {
    "duration": 0,
    "start_time": "2024-11-14T01:11:20.977Z"
   },
   {
    "duration": 0,
    "start_time": "2024-11-14T01:11:20.978Z"
   },
   {
    "duration": 0,
    "start_time": "2024-11-14T01:11:20.979Z"
   },
   {
    "duration": 1,
    "start_time": "2024-11-14T01:11:20.980Z"
   },
   {
    "duration": 0,
    "start_time": "2024-11-14T01:11:20.982Z"
   },
   {
    "duration": 0,
    "start_time": "2024-11-14T01:11:20.983Z"
   },
   {
    "duration": 0,
    "start_time": "2024-11-14T01:11:20.984Z"
   },
   {
    "duration": 0,
    "start_time": "2024-11-14T01:11:20.985Z"
   },
   {
    "duration": 0,
    "start_time": "2024-11-14T01:11:21.009Z"
   },
   {
    "duration": 1,
    "start_time": "2024-11-14T01:11:21.010Z"
   },
   {
    "duration": 0,
    "start_time": "2024-11-14T01:11:21.012Z"
   },
   {
    "duration": 0,
    "start_time": "2024-11-14T01:11:21.014Z"
   },
   {
    "duration": 0,
    "start_time": "2024-11-14T01:11:21.015Z"
   },
   {
    "duration": 0,
    "start_time": "2024-11-14T01:11:21.017Z"
   },
   {
    "duration": 0,
    "start_time": "2024-11-14T01:11:21.018Z"
   },
   {
    "duration": 0,
    "start_time": "2024-11-14T01:11:21.019Z"
   },
   {
    "duration": 0,
    "start_time": "2024-11-14T01:11:21.021Z"
   },
   {
    "duration": 0,
    "start_time": "2024-11-14T01:11:21.021Z"
   },
   {
    "duration": 0,
    "start_time": "2024-11-14T01:11:21.022Z"
   },
   {
    "duration": 0,
    "start_time": "2024-11-14T01:11:21.024Z"
   },
   {
    "duration": 0,
    "start_time": "2024-11-14T01:11:21.025Z"
   },
   {
    "duration": 0,
    "start_time": "2024-11-14T01:11:21.026Z"
   },
   {
    "duration": 0,
    "start_time": "2024-11-14T01:11:21.027Z"
   },
   {
    "duration": 0,
    "start_time": "2024-11-14T01:11:21.028Z"
   },
   {
    "duration": 0,
    "start_time": "2024-11-14T01:11:21.029Z"
   },
   {
    "duration": 0,
    "start_time": "2024-11-14T01:11:21.030Z"
   },
   {
    "duration": 0,
    "start_time": "2024-11-14T01:11:21.031Z"
   },
   {
    "duration": 0,
    "start_time": "2024-11-14T01:11:21.032Z"
   },
   {
    "duration": 0,
    "start_time": "2024-11-14T01:11:21.033Z"
   },
   {
    "duration": 0,
    "start_time": "2024-11-14T01:11:21.035Z"
   },
   {
    "duration": 0,
    "start_time": "2024-11-14T01:11:21.036Z"
   },
   {
    "duration": 0,
    "start_time": "2024-11-14T01:11:21.037Z"
   },
   {
    "duration": 0,
    "start_time": "2024-11-14T01:11:21.038Z"
   },
   {
    "duration": 0,
    "start_time": "2024-11-14T01:11:21.039Z"
   },
   {
    "duration": 0,
    "start_time": "2024-11-14T01:11:21.040Z"
   },
   {
    "duration": 0,
    "start_time": "2024-11-14T01:11:21.041Z"
   },
   {
    "duration": 0,
    "start_time": "2024-11-14T01:11:21.042Z"
   },
   {
    "duration": 0,
    "start_time": "2024-11-14T01:11:21.044Z"
   },
   {
    "duration": 0,
    "start_time": "2024-11-14T01:11:21.045Z"
   },
   {
    "duration": 0,
    "start_time": "2024-11-14T01:11:21.046Z"
   },
   {
    "duration": 0,
    "start_time": "2024-11-14T01:11:21.047Z"
   },
   {
    "duration": 0,
    "start_time": "2024-11-14T01:11:21.048Z"
   },
   {
    "duration": 0,
    "start_time": "2024-11-14T01:11:21.049Z"
   },
   {
    "duration": 0,
    "start_time": "2024-11-14T01:11:21.109Z"
   },
   {
    "duration": 0,
    "start_time": "2024-11-14T01:11:21.110Z"
   },
   {
    "duration": 0,
    "start_time": "2024-11-14T01:11:21.111Z"
   },
   {
    "duration": 0,
    "start_time": "2024-11-14T01:11:21.112Z"
   },
   {
    "duration": 0,
    "start_time": "2024-11-14T01:11:21.113Z"
   },
   {
    "duration": 0,
    "start_time": "2024-11-14T01:11:21.114Z"
   },
   {
    "duration": 1,
    "start_time": "2024-11-14T01:11:21.115Z"
   },
   {
    "duration": 0,
    "start_time": "2024-11-14T01:11:21.116Z"
   },
   {
    "duration": 0,
    "start_time": "2024-11-14T01:11:21.117Z"
   },
   {
    "duration": 0,
    "start_time": "2024-11-14T01:11:21.118Z"
   },
   {
    "duration": 1,
    "start_time": "2024-11-14T01:11:21.119Z"
   },
   {
    "duration": 0,
    "start_time": "2024-11-14T01:11:21.121Z"
   },
   {
    "duration": 0,
    "start_time": "2024-11-14T01:11:21.122Z"
   },
   {
    "duration": 0,
    "start_time": "2024-11-14T01:11:21.123Z"
   },
   {
    "duration": 0,
    "start_time": "2024-11-14T01:11:21.124Z"
   },
   {
    "duration": 0,
    "start_time": "2024-11-14T01:11:21.125Z"
   },
   {
    "duration": 0,
    "start_time": "2024-11-14T01:11:21.126Z"
   },
   {
    "duration": 0,
    "start_time": "2024-11-14T01:11:21.127Z"
   },
   {
    "duration": 0,
    "start_time": "2024-11-14T01:11:21.129Z"
   },
   {
    "duration": 0,
    "start_time": "2024-11-14T01:11:21.130Z"
   },
   {
    "duration": 0,
    "start_time": "2024-11-14T01:11:21.131Z"
   },
   {
    "duration": 0,
    "start_time": "2024-11-14T01:11:21.132Z"
   },
   {
    "duration": 0,
    "start_time": "2024-11-14T01:11:21.133Z"
   },
   {
    "duration": 0,
    "start_time": "2024-11-14T01:11:21.134Z"
   },
   {
    "duration": 0,
    "start_time": "2024-11-14T01:11:21.136Z"
   },
   {
    "duration": 24379,
    "start_time": "2024-11-14T01:16:40.590Z"
   },
   {
    "duration": 8655,
    "start_time": "2024-11-14T01:23:27.642Z"
   },
   {
    "duration": 24,
    "start_time": "2024-11-14T01:23:51.148Z"
   },
   {
    "duration": 10299,
    "start_time": "2024-11-14T01:24:44.326Z"
   },
   {
    "duration": 6821,
    "start_time": "2024-11-14T01:24:55.563Z"
   },
   {
    "duration": 22,
    "start_time": "2024-11-14T01:25:06.046Z"
   },
   {
    "duration": 6758,
    "start_time": "2024-11-14T01:26:43.963Z"
   },
   {
    "duration": 6730,
    "start_time": "2024-11-14T01:26:52.594Z"
   },
   {
    "duration": 27,
    "start_time": "2024-11-14T01:28:25.034Z"
   },
   {
    "duration": 6,
    "start_time": "2024-11-14T01:29:20.306Z"
   },
   {
    "duration": 4,
    "start_time": "2024-11-14T01:29:49.176Z"
   },
   {
    "duration": 23,
    "start_time": "2024-11-14T01:31:01.578Z"
   },
   {
    "duration": 4,
    "start_time": "2024-11-14T01:31:04.876Z"
   },
   {
    "duration": 6799,
    "start_time": "2024-11-14T01:31:21.583Z"
   },
   {
    "duration": 26,
    "start_time": "2024-11-14T01:31:32.297Z"
   },
   {
    "duration": 6712,
    "start_time": "2024-11-14T01:32:37.820Z"
   },
   {
    "duration": 3,
    "start_time": "2024-11-14T01:32:48.592Z"
   },
   {
    "duration": 3,
    "start_time": "2024-11-14T01:33:18.667Z"
   },
   {
    "duration": 3,
    "start_time": "2024-11-14T01:33:21.792Z"
   },
   {
    "duration": 17,
    "start_time": "2024-11-14T01:33:27.109Z"
   },
   {
    "duration": 6790,
    "start_time": "2024-11-14T01:33:45.499Z"
   },
   {
    "duration": 784,
    "start_time": "2024-11-14T01:33:52.293Z"
   },
   {
    "duration": 836,
    "start_time": "2024-11-14T01:34:07.420Z"
   },
   {
    "duration": 769,
    "start_time": "2024-11-14T01:35:52.904Z"
   },
   {
    "duration": 1934,
    "start_time": "2024-11-14T01:36:07.113Z"
   },
   {
    "duration": 1880,
    "start_time": "2024-11-14T01:36:23.836Z"
   }
  ],
  "kernelspec": {
   "display_name": "usr",
   "language": "python",
   "name": "python3"
  },
  "language_info": {
   "codemirror_mode": {
    "name": "ipython",
    "version": 3
   },
   "file_extension": ".py",
   "mimetype": "text/x-python",
   "name": "python",
   "nbconvert_exporter": "python",
   "pygments_lexer": "ipython3",
   "version": "3.12.3"
  },
  "toc": {
   "base_numbering": 1,
   "nav_menu": {},
   "number_sections": true,
   "sideBar": true,
   "skip_h1_title": true,
   "title_cell": "Table of Contents",
   "title_sidebar": "Contents",
   "toc_cell": false,
   "toc_position": {},
   "toc_section_display": true,
   "toc_window_display": false
  }
 },
 "nbformat": 4,
 "nbformat_minor": 2
}
